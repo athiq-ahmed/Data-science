{
 "cells": [
  {
   "cell_type": "code",
   "execution_count": 1,
   "metadata": {},
   "outputs": [
    {
     "name": "stdout",
     "output_type": "stream",
     "text": [
      "The number of observations in the acquisition dataset -  1395365\n"
     ]
    },
    {
     "data": {
      "text/plain": [
       "0    1394479\n",
       "1        886\n",
       "Name: foreclosure_Status, dtype: int64"
      ]
     },
     "execution_count": 1,
     "metadata": {},
     "output_type": "execute_result"
    }
   ],
   "source": [
    "# Importing the dataset\n",
    "\n",
    "import pandas as pd\n",
    "data = pd.read_csv(r'D:/loan-prediction-masterssss/data_year2014/combined/Acquisition_Performance_2014Q1to2014Q4.csv',\n",
    "                   sep='|',low_memory=False)\n",
    "\n",
    "\n",
    "print(\"The number of observations in the acquisition dataset - \", data.shape[0])\n",
    "#print(data.head())\n",
    "\n",
    "data[\"foreclosure_Status\"].value_counts()"
   ]
  },
  {
   "cell_type": "code",
   "execution_count": 2,
   "metadata": {},
   "outputs": [
    {
     "name": "stdout",
     "output_type": "stream",
     "text": [
      "Before - Number of records -  1395365\n",
      "Before - Number of columns -  34\n",
      "\n",
      "\n",
      "After - Number of records -  1395365\n",
      "After - Number of columns -  25\n",
      "It is done\n"
     ]
    }
   ],
   "source": [
    "# Deleting the missing data with 10% or more missing values\n",
    "\n",
    "data1 = data\n",
    "print(\"Before - Number of records - \",data.shape[0])\n",
    "print(\"Before - Number of columns - \",data.shape[1])\n",
    "\n",
    "data1 = data1.drop(['insurance_percentage','co_borrower_credit_score','mortgage_insurance_type','servicer_name',\n",
    "                 'foreclosure_date','disposition_date','zip','unit_count','borrower_count'],axis = 1)\n",
    "print(\"\\n\")\n",
    "print(\"After - Number of records - \",data1.shape[0])\n",
    "print(\"After - Number of columns - \",data1.shape[1])\n",
    "# data1.dtypes\n",
    "# print(data1.head(5))\n",
    "\n",
    "# data1\n",
    "\n",
    "\n",
    "data1 = data1.fillna(0)\n",
    "print(\"It is done\")"
   ]
  },
  {
   "cell_type": "code",
   "execution_count": 118,
   "metadata": {},
   "outputs": [
    {
     "name": "stdout",
     "output_type": "stream",
     "text": [
      "Before - Number of records -  1395365\n",
      "Before - Number of columns -  25\n",
      "\n",
      "\n",
      "After - Number of records -  1395365\n",
      "After - Number of columns -  21\n",
      "\n",
      "\n"
     ]
    }
   ],
   "source": [
    "# Deleting the correlated columns from the dataset\n",
    "\n",
    "data2 = data1.drop(['id','balance_y','cltv','loan_term'],axis = 1)\n",
    "print(\"Before - Number of records - \",data1.shape[0])\n",
    "print(\"Before - Number of columns - \",data1.shape[1])\n",
    "print(\"\\n\")\n",
    "print(\"After - Number of records - \",data2.shape[0])\n",
    "print(\"After - Number of columns - \",data2.shape[1])\n",
    "print(\"\\n\")\n",
    "numerical = data2.dtypes[data.dtypes != \"object\"].index\n",
    "# print(numerical)"
   ]
  },
  {
   "cell_type": "code",
   "execution_count": null,
   "metadata": {
    "collapsed": true
   },
   "outputs": [],
   "source": [
    "print(data2.head(5))"
   ]
  },
  {
   "cell_type": "code",
   "execution_count": null,
   "metadata": {
    "collapsed": true
   },
   "outputs": [],
   "source": [
    "data2.iloc[:,0:20].plot(kind='box', subplots=True, layout=(5,4), sharex=False, sharey=False,figsize=(18,10))\n",
    "plt.show()"
   ]
  },
  {
   "cell_type": "code",
   "execution_count": 4,
   "metadata": {},
   "outputs": [
    {
     "data": {
      "image/png": "[encoded data removed]",
      "text/plain": [
       "<matplotlib.figure.Figure at 0x4f3881f3c8>"
      ]
     },
     "metadata": {},
     "output_type": "display_data"
    }
   ],
   "source": [
    "import matplotlib.pylab as plt\n",
    "plt.boxplot(data2.balance_x)\n",
    "plt.show()"
   ]
  },
  {
   "cell_type": "code",
   "execution_count": 43,
   "metadata": {},
   "outputs": [
    {
     "name": "stdout",
     "output_type": "stream",
     "text": [
      "[array([547000, 570000, 531000, ..., 541000, 618000, 598000], dtype=int64)]\n"
     ]
    }
   ],
   "source": [
    "import pandas as pd\n",
    "import numpy as np\n",
    "\n",
    "# data.balance_x.shape[0]\n",
    "data.balance_x.count()\n",
    "_,box_plot_results = pd.DataFrame.boxplot(data2.balance_x,return_type='both')\n",
    "box_plot_results\n",
    "\n",
    "outliers = [flier.get_ydata() for flier in box_plot_results[\"fliers\"]]\n",
    "print(outliers)"
   ]
  },
  {
   "cell_type": "code",
   "execution_count": 132,
   "metadata": {},
   "outputs": [
    {
     "data": {
      "text/plain": [
       "1.6405026641774734"
      ]
     },
     "execution_count": 132,
     "metadata": {},
     "output_type": "execute_result"
    }
   ],
   "source": [
    "# Q1 = df.quantile(0.25)\n",
    "# Q3 = df.quantile(0.75)\n",
    "# IQR = Q3 - Q1\n",
    "\n",
    "# ((df < (Q1 - 1.5 * IQR)) | (df > (Q3 + 1.5 * IQR))).sum()\n",
    "\n",
    "# total = data2.count().sort_values(ascending_values=False)\n",
    "# percent = (((data2 < (Q1 - 1.5 * IQR)) | (data2 > (Q3 + 1.5 * IQR))).sum()/data2.count()*100).sort_values(ascending=False)\n",
    "# outlier_data = pd.concat([total,percent],axis =1,keys=['Total','Percent'])\n",
    "# outlier_data.head(8)\n",
    "\n",
    "Q1 = data2.balance_x.quantile(0.25)\n",
    "Q3 = data2.balance_x.quantile(0.75)\n",
    "IQR = Q3 - Q1\n",
    "# print(IQR)\n",
    "(((data2.balance_x < (Q1 - 1.5 * IQR)) | (data2.balance_x > (Q3 + 1.5 * IQR))).sum()/len(data2))*100"
   ]
  },
  {
   "cell_type": "code",
   "execution_count": null,
   "metadata": {},
   "outputs": [],
   "source": [
    "data2.info()"
   ]
  },
  {
   "cell_type": "code",
   "execution_count": 157,
   "metadata": {},
   "outputs": [
    {
     "name": "stdout",
     "output_type": "stream",
     "text": [
      "Index(['interest_rate', 'balance_x', 'ltv', 'dti', 'borrower_credit_score',\n",
      "       'loan_age', 'foreclosure_Status'],\n",
      "      dtype='object')\n"
     ]
    }
   ],
   "source": [
    "numerical = data2.dtypes[data.dtypes != \"object\"].index\n",
    "print(numerical)"
   ]
  },
  {
   "cell_type": "code",
   "execution_count": 143,
   "metadata": {
    "collapsed": true
   },
   "outputs": [],
   "source": [
    "data2.interest_rate = data2.interest_rate.astype(int)\n",
    "data2.dti = data2.dti.astype(int)\n",
    "data2.borrower_credit_score = data2.borrower_credit_score.astype(int)"
   ]
  },
  {
   "cell_type": "code",
   "execution_count": 175,
   "metadata": {},
   "outputs": [
    {
     "data": {
      "text/plain": [
       "balance_x                 1.640503\n",
       "interest_rate            26.583224\n",
       "ltv                       6.232491\n",
       "dti                       0.104560\n",
       "borrower_credit_score     0.060629\n",
       "loan_age                  7.675626\n",
       "dtype: float64"
      ]
     },
     "execution_count": 175,
     "metadata": {},
     "output_type": "execute_result"
    }
   ],
   "source": [
    "Q1 = data2[[\"balance_x\",\"interest_rate\",\"ltv\",\"dti\",\"borrower_credit_score\",\"loan_age\"]].quantile(0.25)\n",
    "Q3 = data2[[\"balance_x\",\"interest_rate\",\"ltv\",\"dti\",\"borrower_credit_score\",\"loan_age\"]].quantile(0.75)\n",
    "\n",
    "# Q1 = data2.quantile(0.25)\n",
    "# Q3 = data2.quantile(0.75)\n",
    "IQR = Q3 - Q1\n",
    "\n",
    "# print(Q1)\n",
    "# print(\"\\n\")\n",
    "# print(Q3)\n",
    "# print(\"\\n\")\n",
    "# print(IQR)\n",
    "\n",
    "Outlier_percent = ((data2[[\"balance_x\",\"interest_rate\",\"ltv\",\"dti\",\"borrower_credit_score\",\"loan_age\"]] < (Q1 - 1.5 * IQR)) \n",
    " | (data2[[\"balance_x\",\"interest_rate\",\"ltv\",\"dti\",\"borrower_credit_score\",\"loan_age\"]] > (Q3 + 1.5 * IQR))).sum()/len(data2)*100\n",
    "\n",
    "Outlier_percent"
   ]
  },
  {
   "cell_type": "code",
   "execution_count": 187,
   "metadata": {},
   "outputs": [
    {
     "data": {
      "text/plain": [
       "283000.0"
      ]
     },
     "execution_count": 187,
     "metadata": {},
     "output_type": "execute_result"
    }
   ],
   "source": [
    "Q3.balance_x"
   ]
  },
  {
   "cell_type": "code",
   "execution_count": 186,
   "metadata": {},
   "outputs": [
    {
     "ename": "AttributeError",
     "evalue": "'Series' object has no attribute 'x'",
     "output_type": "error",
     "traceback": [
      "\u001b[1;31m---------------------------------------------------------------------------\u001b[0m",
      "\u001b[1;31mAttributeError\u001b[0m                            Traceback (most recent call last)",
      "\u001b[1;32m<ipython-input-186-2ea41d6e386d>\u001b[0m in \u001b[0;36m<module>\u001b[1;34m()\u001b[0m\n\u001b[0;32m     18\u001b[0m     \u001b[1;32mreturn\u001b[0m \u001b[0mx\u001b[0m\u001b[1;33m\u001b[0m\u001b[0m\n\u001b[0;32m     19\u001b[0m \u001b[1;33m\u001b[0m\u001b[0m\n\u001b[1;32m---> 20\u001b[1;33m \u001b[0mdata2\u001b[0m\u001b[1;33m[\u001b[0m\u001b[1;34m'balance_x_cap'\u001b[0m\u001b[1;33m]\u001b[0m\u001b[1;33m=\u001b[0m\u001b[0mdata2\u001b[0m\u001b[1;33m[\u001b[0m\u001b[1;34m'balance_x'\u001b[0m\u001b[1;33m]\u001b[0m\u001b[1;33m.\u001b[0m\u001b[0mapply\u001b[0m\u001b[1;33m(\u001b[0m\u001b[1;32mlambda\u001b[0m \u001b[0mx\u001b[0m\u001b[1;33m:\u001b[0m \u001b[0mcapping_outlier\u001b[0m\u001b[1;33m(\u001b[0m\u001b[0mx\u001b[0m\u001b[1;33m)\u001b[0m\u001b[1;33m)\u001b[0m\u001b[1;33m\u001b[0m\u001b[0m\n\u001b[0m\u001b[0;32m     21\u001b[0m \u001b[1;31m# data2['ltv_cap']=data2['ltv'].apply(lambda x: capping_outlier(x))\u001b[0m\u001b[1;33m\u001b[0m\u001b[1;33m\u001b[0m\u001b[0m\n\u001b[0;32m     22\u001b[0m \u001b[1;31m# data2['dti_cap']=data2['dti'].apply(lambda x: capping_outlier(x))\u001b[0m\u001b[1;33m\u001b[0m\u001b[1;33m\u001b[0m\u001b[0m\n",
      "\u001b[1;32m~\\AppData\\Local\\Continuum\\anaconda3\\lib\\site-packages\\pandas\\core\\series.py\u001b[0m in \u001b[0;36mapply\u001b[1;34m(self, func, convert_dtype, args, **kwds)\u001b[0m\n\u001b[0;32m   2508\u001b[0m             \u001b[1;32melse\u001b[0m\u001b[1;33m:\u001b[0m\u001b[1;33m\u001b[0m\u001b[0m\n\u001b[0;32m   2509\u001b[0m                 \u001b[0mvalues\u001b[0m \u001b[1;33m=\u001b[0m \u001b[0mself\u001b[0m\u001b[1;33m.\u001b[0m\u001b[0masobject\u001b[0m\u001b[1;33m\u001b[0m\u001b[0m\n\u001b[1;32m-> 2510\u001b[1;33m                 \u001b[0mmapped\u001b[0m \u001b[1;33m=\u001b[0m \u001b[0mlib\u001b[0m\u001b[1;33m.\u001b[0m\u001b[0mmap_infer\u001b[0m\u001b[1;33m(\u001b[0m\u001b[0mvalues\u001b[0m\u001b[1;33m,\u001b[0m \u001b[0mf\u001b[0m\u001b[1;33m,\u001b[0m \u001b[0mconvert\u001b[0m\u001b[1;33m=\u001b[0m\u001b[0mconvert_dtype\u001b[0m\u001b[1;33m)\u001b[0m\u001b[1;33m\u001b[0m\u001b[0m\n\u001b[0m\u001b[0;32m   2511\u001b[0m \u001b[1;33m\u001b[0m\u001b[0m\n\u001b[0;32m   2512\u001b[0m         \u001b[1;32mif\u001b[0m \u001b[0mlen\u001b[0m\u001b[1;33m(\u001b[0m\u001b[0mmapped\u001b[0m\u001b[1;33m)\u001b[0m \u001b[1;32mand\u001b[0m \u001b[0misinstance\u001b[0m\u001b[1;33m(\u001b[0m\u001b[0mmapped\u001b[0m\u001b[1;33m[\u001b[0m\u001b[1;36m0\u001b[0m\u001b[1;33m]\u001b[0m\u001b[1;33m,\u001b[0m \u001b[0mSeries\u001b[0m\u001b[1;33m)\u001b[0m\u001b[1;33m:\u001b[0m\u001b[1;33m\u001b[0m\u001b[0m\n",
      "\u001b[1;32mpandas/_libs/src/inference.pyx\u001b[0m in \u001b[0;36mpandas._libs.lib.map_infer\u001b[1;34m()\u001b[0m\n",
      "\u001b[1;32m<ipython-input-186-2ea41d6e386d>\u001b[0m in \u001b[0;36m<lambda>\u001b[1;34m(x)\u001b[0m\n\u001b[0;32m     18\u001b[0m     \u001b[1;32mreturn\u001b[0m \u001b[0mx\u001b[0m\u001b[1;33m\u001b[0m\u001b[0m\n\u001b[0;32m     19\u001b[0m \u001b[1;33m\u001b[0m\u001b[0m\n\u001b[1;32m---> 20\u001b[1;33m \u001b[0mdata2\u001b[0m\u001b[1;33m[\u001b[0m\u001b[1;34m'balance_x_cap'\u001b[0m\u001b[1;33m]\u001b[0m\u001b[1;33m=\u001b[0m\u001b[0mdata2\u001b[0m\u001b[1;33m[\u001b[0m\u001b[1;34m'balance_x'\u001b[0m\u001b[1;33m]\u001b[0m\u001b[1;33m.\u001b[0m\u001b[0mapply\u001b[0m\u001b[1;33m(\u001b[0m\u001b[1;32mlambda\u001b[0m \u001b[0mx\u001b[0m\u001b[1;33m:\u001b[0m \u001b[0mcapping_outlier\u001b[0m\u001b[1;33m(\u001b[0m\u001b[0mx\u001b[0m\u001b[1;33m)\u001b[0m\u001b[1;33m)\u001b[0m\u001b[1;33m\u001b[0m\u001b[0m\n\u001b[0m\u001b[0;32m     21\u001b[0m \u001b[1;31m# data2['ltv_cap']=data2['ltv'].apply(lambda x: capping_outlier(x))\u001b[0m\u001b[1;33m\u001b[0m\u001b[1;33m\u001b[0m\u001b[0m\n\u001b[0;32m     22\u001b[0m \u001b[1;31m# data2['dti_cap']=data2['dti'].apply(lambda x: capping_outlier(x))\u001b[0m\u001b[1;33m\u001b[0m\u001b[1;33m\u001b[0m\u001b[0m\n",
      "\u001b[1;32m<ipython-input-186-2ea41d6e386d>\u001b[0m in \u001b[0;36mcapping_outlier\u001b[1;34m(x)\u001b[0m\n\u001b[0;32m     12\u001b[0m \u001b[1;33m\u001b[0m\u001b[0m\n\u001b[0;32m     13\u001b[0m \u001b[1;32mdef\u001b[0m \u001b[0mcapping_outlier\u001b[0m\u001b[1;33m(\u001b[0m\u001b[0mx\u001b[0m\u001b[1;33m)\u001b[0m\u001b[1;33m:\u001b[0m\u001b[1;33m\u001b[0m\u001b[0m\n\u001b[1;32m---> 14\u001b[1;33m     \u001b[1;32mif\u001b[0m \u001b[0mx\u001b[0m \u001b[1;33m>=\u001b[0m \u001b[0mQ3\u001b[0m\u001b[1;33m.\u001b[0m\u001b[0mx\u001b[0m\u001b[1;33m:\u001b[0m\u001b[1;33m\u001b[0m\u001b[0m\n\u001b[0m\u001b[0;32m     15\u001b[0m         \u001b[1;32mreturn\u001b[0m \u001b[0mQ3\u001b[0m\u001b[1;33m.\u001b[0m\u001b[0mx\u001b[0m\u001b[1;33m\u001b[0m\u001b[0m\n\u001b[0;32m     16\u001b[0m     \u001b[1;32melif\u001b[0m \u001b[0mx\u001b[0m \u001b[1;33m<=\u001b[0m \u001b[0mQ1\u001b[0m\u001b[1;33m.\u001b[0m\u001b[0mx\u001b[0m\u001b[1;33m:\u001b[0m\u001b[1;33m\u001b[0m\u001b[0m\n",
      "\u001b[1;32m~\\AppData\\Local\\Continuum\\anaconda3\\lib\\site-packages\\pandas\\core\\generic.py\u001b[0m in \u001b[0;36m__getattr__\u001b[1;34m(self, name)\u001b[0m\n\u001b[0;32m   3612\u001b[0m             \u001b[1;32mif\u001b[0m \u001b[0mname\u001b[0m \u001b[1;32min\u001b[0m \u001b[0mself\u001b[0m\u001b[1;33m.\u001b[0m\u001b[0m_info_axis\u001b[0m\u001b[1;33m:\u001b[0m\u001b[1;33m\u001b[0m\u001b[0m\n\u001b[0;32m   3613\u001b[0m                 \u001b[1;32mreturn\u001b[0m \u001b[0mself\u001b[0m\u001b[1;33m[\u001b[0m\u001b[0mname\u001b[0m\u001b[1;33m]\u001b[0m\u001b[1;33m\u001b[0m\u001b[0m\n\u001b[1;32m-> 3614\u001b[1;33m             \u001b[1;32mreturn\u001b[0m \u001b[0mobject\u001b[0m\u001b[1;33m.\u001b[0m\u001b[0m__getattribute__\u001b[0m\u001b[1;33m(\u001b[0m\u001b[0mself\u001b[0m\u001b[1;33m,\u001b[0m \u001b[0mname\u001b[0m\u001b[1;33m)\u001b[0m\u001b[1;33m\u001b[0m\u001b[0m\n\u001b[0m\u001b[0;32m   3615\u001b[0m \u001b[1;33m\u001b[0m\u001b[0m\n\u001b[0;32m   3616\u001b[0m     \u001b[1;32mdef\u001b[0m \u001b[0m__setattr__\u001b[0m\u001b[1;33m(\u001b[0m\u001b[0mself\u001b[0m\u001b[1;33m,\u001b[0m \u001b[0mname\u001b[0m\u001b[1;33m,\u001b[0m \u001b[0mvalue\u001b[0m\u001b[1;33m)\u001b[0m\u001b[1;33m:\u001b[0m\u001b[1;33m\u001b[0m\u001b[0m\n",
      "\u001b[1;31mAttributeError\u001b[0m: 'Series' object has no attribute 'x'"
     ]
    }
   ],
   "source": [
    "import numpy as np\n",
    "# Q1 = data2.balance_x.quantile(0.01)\n",
    "# Q3 = data2.balance_x.quantile(0.95)\n",
    "\n",
    "Q1 = data2[[\"balance_x\",\"interest_rate\",\"ltv\",\"dti\",\"borrower_credit_score\",\"loan_age\"]].quantile(0.25)\n",
    "Q3 = data2[[\"balance_x\",\"interest_rate\",\"ltv\",\"dti\",\"borrower_credit_score\",\"loan_age\"]].quantile(0.75)\n",
    "\n",
    "\n",
    "IQR = Q3 - Q1\n",
    "# (((data2.balance_x < (Q1 - 1.5 * IQR)) | (data2.balance_x > (Q3 + 1.5 * IQR))).sum()/len(data2))*100\n",
    "\n",
    "\n",
    "def capping_outlier(x):\n",
    "    if x >= Q3.x:\n",
    "        return Q3.x\n",
    "    elif x <= Q1.x:\n",
    "        return Q1.x\n",
    "    return x\n",
    "\n",
    "data2['balance_x_cap']=data2['balance_x'].apply(lambda x: capping_outlier(x))\n",
    "# data2['ltv_cap']=data2['ltv'].apply(lambda x: capping_outlier(x))\n",
    "# data2['dti_cap']=data2['dti'].apply(lambda x: capping_outlier(x))\n",
    "# data2['borrower_credit_score_cap']=data2['borrower_credit_score'].apply(lambda x: capping_outlier(x))\n",
    "# data2['loan_age_cap']=data2['loan_age'].apply(lambda x: capping_outlier(x))"
   ]
  },
  {
   "cell_type": "code",
   "execution_count": 180,
   "metadata": {},
   "outputs": [
    {
     "data": {
      "text/html": [
       "<div>\n",
       "<style scoped>\n",
       "    .dataframe tbody tr th:only-of-type {\n",
       "        vertical-align: middle;\n",
       "    }\n",
       "\n",
       "    .dataframe tbody tr th {\n",
       "        vertical-align: top;\n",
       "    }\n",
       "\n",
       "    .dataframe thead th {\n",
       "        text-align: right;\n",
       "    }\n",
       "</style>\n",
       "<table border=\"1\" class=\"dataframe\">\n",
       "  <thead>\n",
       "    <tr style=\"text-align: right;\">\n",
       "      <th></th>\n",
       "      <th>channel</th>\n",
       "      <th>seller</th>\n",
       "      <th>interest_rate</th>\n",
       "      <th>balance_x</th>\n",
       "      <th>origination_date</th>\n",
       "      <th>first_payment_date</th>\n",
       "      <th>ltv</th>\n",
       "      <th>dti</th>\n",
       "      <th>borrower_credit_score</th>\n",
       "      <th>first_time_homebuyer</th>\n",
       "      <th>...</th>\n",
       "      <th>occupancy_status</th>\n",
       "      <th>property_state</th>\n",
       "      <th>product_type</th>\n",
       "      <th>relocation_mortgage_indicator</th>\n",
       "      <th>reporting_period</th>\n",
       "      <th>loan_age</th>\n",
       "      <th>maturity_date</th>\n",
       "      <th>delinquency_status</th>\n",
       "      <th>foreclosure_Status</th>\n",
       "      <th>balance_x_cap</th>\n",
       "    </tr>\n",
       "  </thead>\n",
       "  <tbody>\n",
       "    <tr>\n",
       "      <th>1</th>\n",
       "      <td>R</td>\n",
       "      <td>PNC BANK, N.A.</td>\n",
       "      <td>3</td>\n",
       "      <td>276000</td>\n",
       "      <td>01/2014</td>\n",
       "      <td>03/2014</td>\n",
       "      <td>68</td>\n",
       "      <td>35</td>\n",
       "      <td>742</td>\n",
       "      <td>N</td>\n",
       "      <td>...</td>\n",
       "      <td>P</td>\n",
       "      <td>VT</td>\n",
       "      <td>FRM</td>\n",
       "      <td>N</td>\n",
       "      <td>2017-06-01</td>\n",
       "      <td>40</td>\n",
       "      <td>02/2029</td>\n",
       "      <td>0</td>\n",
       "      <td>0</td>\n",
       "      <td>276000.0</td>\n",
       "    </tr>\n",
       "    <tr>\n",
       "      <th>2</th>\n",
       "      <td>R</td>\n",
       "      <td>OTHER</td>\n",
       "      <td>5</td>\n",
       "      <td>190000</td>\n",
       "      <td>02/2014</td>\n",
       "      <td>04/2014</td>\n",
       "      <td>80</td>\n",
       "      <td>31</td>\n",
       "      <td>647</td>\n",
       "      <td>Y</td>\n",
       "      <td>...</td>\n",
       "      <td>P</td>\n",
       "      <td>PA</td>\n",
       "      <td>FRM</td>\n",
       "      <td>N</td>\n",
       "      <td>2017-06-01</td>\n",
       "      <td>39</td>\n",
       "      <td>03/2044</td>\n",
       "      <td>0</td>\n",
       "      <td>0</td>\n",
       "      <td>190000.0</td>\n",
       "    </tr>\n",
       "    <tr>\n",
       "      <th>3</th>\n",
       "      <td>C</td>\n",
       "      <td>FREEDOM MORTGAGE CORP.</td>\n",
       "      <td>4</td>\n",
       "      <td>320000</td>\n",
       "      <td>12/2013</td>\n",
       "      <td>02/2014</td>\n",
       "      <td>80</td>\n",
       "      <td>27</td>\n",
       "      <td>774</td>\n",
       "      <td>Y</td>\n",
       "      <td>...</td>\n",
       "      <td>P</td>\n",
       "      <td>TX</td>\n",
       "      <td>FRM</td>\n",
       "      <td>N</td>\n",
       "      <td>2016-01-01</td>\n",
       "      <td>24</td>\n",
       "      <td>01/2044</td>\n",
       "      <td>X</td>\n",
       "      <td>0</td>\n",
       "      <td>320000.0</td>\n",
       "    </tr>\n",
       "    <tr>\n",
       "      <th>4</th>\n",
       "      <td>C</td>\n",
       "      <td>OTHER</td>\n",
       "      <td>5</td>\n",
       "      <td>92000</td>\n",
       "      <td>01/2014</td>\n",
       "      <td>03/2014</td>\n",
       "      <td>80</td>\n",
       "      <td>38</td>\n",
       "      <td>820</td>\n",
       "      <td>N</td>\n",
       "      <td>...</td>\n",
       "      <td>I</td>\n",
       "      <td>AZ</td>\n",
       "      <td>FRM</td>\n",
       "      <td>N</td>\n",
       "      <td>2017-06-01</td>\n",
       "      <td>40</td>\n",
       "      <td>02/2044</td>\n",
       "      <td>0</td>\n",
       "      <td>0</td>\n",
       "      <td>92000.0</td>\n",
       "    </tr>\n",
       "  </tbody>\n",
       "</table>\n",
       "<p>4 rows × 22 columns</p>\n",
       "</div>"
      ],
      "text/plain": [
       "  channel                  seller  interest_rate  balance_x origination_date  \\\n",
       "1       R          PNC BANK, N.A.              3     276000          01/2014   \n",
       "2       R                   OTHER              5     190000          02/2014   \n",
       "3       C  FREEDOM MORTGAGE CORP.              4     320000          12/2013   \n",
       "4       C                   OTHER              5      92000          01/2014   \n",
       "\n",
       "  first_payment_date  ltv  dti  borrower_credit_score first_time_homebuyer  \\\n",
       "1            03/2014   68   35                    742                    N   \n",
       "2            04/2014   80   31                    647                    Y   \n",
       "3            02/2014   80   27                    774                    Y   \n",
       "4            03/2014   80   38                    820                    N   \n",
       "\n",
       "       ...      occupancy_status property_state product_type  \\\n",
       "1      ...                     P             VT          FRM   \n",
       "2      ...                     P             PA          FRM   \n",
       "3      ...                     P             TX          FRM   \n",
       "4      ...                     I             AZ          FRM   \n",
       "\n",
       "  relocation_mortgage_indicator reporting_period loan_age maturity_date  \\\n",
       "1                             N       2017-06-01       40       02/2029   \n",
       "2                             N       2017-06-01       39       03/2044   \n",
       "3                             N       2016-01-01       24       01/2044   \n",
       "4                             N       2017-06-01       40       02/2044   \n",
       "\n",
       "   delinquency_status foreclosure_Status balance_x_cap  \n",
       "1                   0                  0      276000.0  \n",
       "2                   0                  0      190000.0  \n",
       "3                   X                  0      320000.0  \n",
       "4                   0                  0       92000.0  \n",
       "\n",
       "[4 rows x 22 columns]"
      ]
     },
     "execution_count": 180,
     "metadata": {},
     "output_type": "execute_result"
    }
   ],
   "source": [
    "data2.iloc[1:5,:]"
   ]
  },
  {
   "cell_type": "code",
   "execution_count": null,
   "metadata": {
    "collapsed": true
   },
   "outputs": [],
   "source": []
  },
  {
   "cell_type": "code",
   "execution_count": null,
   "metadata": {
    "collapsed": true
   },
   "outputs": [],
   "source": [
    "def scale_val(s, val):\n",
    "    percentiles = s.quantile([0.01,0.99]).values\n",
    "    if val <= percentiles[0]:\n",
    "        return percentiles[0]\n",
    "    elif val >= percentiles[1]:\n",
    "        return percentiles[1]\n",
    "    else:\n",
    "        return val\n",
    "    \n",
    "df.apply(lambda s: s.apply(lambda v: scale_val(s,v)))"
   ]
  },
  {
   "cell_type": "code",
   "execution_count": null,
   "metadata": {
    "collapsed": true
   },
   "outputs": [],
   "source": []
  },
  {
   "cell_type": "code",
   "execution_count": 153,
   "metadata": {},
   "outputs": [
    {
     "name": "stdout",
     "output_type": "stream",
     "text": [
      "159000.0\n",
      "22891\n"
     ]
    }
   ],
   "source": [
    "Q1 = data2.balance_x.quantile(0.25)\n",
    "Q3 = data2.balance_x.quantile(0.75)\n",
    "IQR = Q3 - Q1\n",
    "print(IQR)\n",
    "chk = ((data2.balance_x < (Q1 - 1.5 * IQR)) | (data2.balance_x > (Q3 + 1.5 * IQR))).sum()\n",
    "print(chk)"
   ]
  },
  {
   "cell_type": "code",
   "execution_count": null,
   "metadata": {},
   "outputs": [],
   "source": [
    "Q1 = data2.balance_x.quantile(0.25)\n",
    "Q3 = data2.balance_x.quantile(0.75)\n",
    "IQR = Q3 - Q1\n",
    "# print(IQR)\n",
    "outliers_status = ((data2.balance_x < (Q1 - 1.5 * IQR)) | (data2.balance_x > (Q3 + 1.5 * IQR)))\n",
    "# print(outliers_status)\n",
    "\n",
    "per_05 = data2.balance_x.quantile(0.05)\n",
    "per_95 = data2.balance_x.quantile(0.95)\n",
    "# per_05 #66,000\n",
    "# per_95 #417,000\n",
    "\n",
    "out = data2.balance_x[outliers(data2.balance_x)]\n",
    "to_replace = [out.min(),out.max()]\n",
    "# print(out.head(5))\n",
    "print(out.min)\n",
    "# to_replace #[429000, 1203000]\n",
    "\n",
    "# test=data2\n",
    "# test.mask(outliers_status,)\n",
    "\n",
    "# test = data2\n",
    "# outliers_status=outliers(data2.balance_x)\n",
    "# test.mask(outliers_status,replace,axis=1)\n",
    "# test[outliers_status] = np.nan\n",
    "# test.fillna(replace(data2.balance_x))\n",
    "\n",
    "\n",
    "\n",
    "# test=data2[['balance_x']].apply(replace,axis=1)\n",
    "\n",
    "# df[outliers_low] = np.nan\n",
    "# df.fillna(down_quantiles, inplace=True)\n",
    "\n",
    "# df.mask(outliers_low, down_quantiles, axis=1) \n",
    "\n",
    "# df.where(~outliers_low, down_quantiles, axis=1)"
   ]
  },
  {
   "cell_type": "code",
   "execution_count": 19,
   "metadata": {},
   "outputs": [],
   "source": [
    "import numpy as np\n",
    "\n",
    "def outliers(x): \n",
    "       return np.abs(x- x.median()) > 1.5*(x.quantile(0.75)-x.quantile(0.25))\n",
    "\n",
    "# outliers(data2.balance_x)\n",
    "# data2.loan_age[outliers(data2.loan_age)].tail()\n",
    "\n",
    "\n",
    "def replace(x):   # x is a vector\n",
    "    out = x[outliers(x)]\n",
    "    return x.replace(to_replace = [out.min(),out.max()],value = [np.percentile(x,5),np.percentile(x,95)])\n",
    "\n",
    "# data3 = data2\n",
    "# data3[['balance_x']].apply(replace,axis=1)\n",
    "\n",
    "# data2[['balance_x']].apply(replace,axis=1)\n",
    "# data2['balance_x_new']=data['balance_x'].apply(lamda x: replace(x))\n",
    "# data2['balance_x_new'] = data2[['balance_x']].apply(replace,axis=1)\n",
    "\n",
    "# data3 = data2[['balance_x']].apply(replace,axis=1)\n",
    "# df[['A', 'B']] = df[['A', 'B']].apply(np.negative)\n",
    "# df = df.apply(replace,axis=1)\n",
    "\n",
    "#  return df.loc[iqr]\n",
    "# IQR.count()"
   ]
  },
  {
   "cell_type": "code",
   "execution_count": null,
   "metadata": {
    "collapsed": true
   },
   "outputs": [],
   "source": [
    "outliers(data2.balance_x_new)"
   ]
  },
  {
   "cell_type": "code",
   "execution_count": null,
   "metadata": {
    "collapsed": true
   },
   "outputs": [],
   "source": [
    "import matplotlib.pylab as plt\n",
    "plt.boxplot(data2.balance_x)\n",
    "plt.show()"
   ]
  },
  {
   "cell_type": "code",
   "execution_count": null,
   "metadata": {
    "collapsed": true
   },
   "outputs": [],
   "source": [
    "plt.boxplot(data2.balance_x_new)\n",
    "plt.show()"
   ]
  },
  {
   "cell_type": "code",
   "execution_count": null,
   "metadata": {
    "collapsed": true
   },
   "outputs": [],
   "source": [
    "numerical = data2.dtypes[data.dtypes != \"object\"].index\n",
    "print(numerical)\n",
    "\n"
   ]
  },
  {
   "cell_type": "code",
   "execution_count": 74,
   "metadata": {},
   "outputs": [
    {
     "name": "stdout",
     "output_type": "stream",
     "text": [
      "mean: 212991.996359\n",
      "median: 190000.000000\n"
     ]
    },
    {
     "data": {
      "text/plain": [
       "1.6405026641774734"
      ]
     },
     "execution_count": 74,
     "metadata": {},
     "output_type": "execute_result"
    }
   ],
   "source": [
    "import statistics\n",
    "balance_x_1 = list(data2['balance_x'])\n",
    "print('mean: %f' %statistics.mean(balance_x_1))\n",
    "print('median: %f' %statistics.median(balance_x_1))\n",
    "\n",
    "# q75,q25 = np.percentile(balance_x_1, [75,25])\n",
    "# iqr = q75-q25\n",
    "# print(iqr)\n",
    "# print ('Proportion of values as outliers: %f percent' \n",
    "#        %((len(data2) - len([x for x in balance_x_1 if q75+(1.5*iqr)>=x>=q25-(1,5*iqr)]))*100/float(len(data))))\n",
    "\n",
    "Q1 = data2.balance_x.quantile(0.25)\n",
    "Q3 = data2.balance_x.quantile(0.75)\n",
    "IQR = Q3 - Q1\n",
    "# print(IQR)\n",
    "(((data2.balance_x < (Q1 - 1.5 * IQR)) | (data2.balance_x > (Q3 + 1.5 * IQR))).sum()/len(data2))*100"
   ]
  },
  {
   "cell_type": "code",
   "execution_count": 80,
   "metadata": {},
   "outputs": [
    {
     "name": "stdout",
     "output_type": "stream",
     "text": [
      "mean:206752.812075\n"
     ]
    },
    {
     "data": {
      "text/plain": [
       "521500.0"
      ]
     },
     "execution_count": 80,
     "metadata": {},
     "output_type": "execute_result"
    }
   ],
   "source": [
    "mean = np.mean([x for x in balance_x_1 if q75+(1.5*iqr)>=x>=q25-(1.5*iqr)])\n",
    "print('mean:%f' %mean)\n",
    "upper_whisker = q75+(1.5*iqr)\n",
    "upper_whisker"
   ]
  },
  {
   "cell_type": "code",
   "execution_count": 27,
   "metadata": {},
   "outputs": [
    {
     "name": "stdout",
     "output_type": "stream",
     "text": [
      "mean:206752.812075\n"
     ]
    }
   ],
   "source": [
    "import numpy as np\n",
    "Q1 = data2.balance_x.quantile(0.25)\n",
    "Q3 = data2.balance_x.quantile(0.75)\n",
    "IQR = Q3 - Q1\n",
    "(((data2.balance_x < (Q1 - 1.5 * IQR)) | (data2.balance_x > (Q3 + 1.5 * IQR))).sum()/len(data2))*100\n",
    "\n",
    "balance_x_1 = list(data2['balance_x'])\n",
    "mean = np.mean([x for x in balance_x_1 if Q3+(1.5*IQR)>=x>=Q1-(1.5*IQR)])\n",
    "print('mean:%f' %mean)\n",
    "\n",
    "def transform_outlier(x):\n",
    "    if x > Q3:\n",
    "        return mean\n",
    "\n",
    "\n",
    "data2['balance_x_mean']=data2['balance_x'].apply(lambda x: transform_outlier(x))\n"
   ]
  },
  {
   "cell_type": "code",
   "execution_count": 80,
   "metadata": {
    "collapsed": true
   },
   "outputs": [],
   "source": [
    "data2 = data2.drop(['balance_x_mean'],axis = 1)"
   ]
  },
  {
   "cell_type": "code",
   "execution_count": 94,
   "metadata": {},
   "outputs": [
    {
     "name": "stdout",
     "output_type": "stream",
     "text": [
      "mean:212972.825164\n"
     ]
    }
   ],
   "source": [
    "import numpy as np\n",
    "\n",
    "# def outliers(x): \n",
    "#        return np.abs(x- x.median()) > 1.5*(x.quantile(0.75)-x.quantile(0.25))\n",
    "\n",
    "# # outliers(data2.balance_x)\n",
    "# # data2.loan_age[outliers(data2.loan_age)].tail()\n",
    "\n",
    "\n",
    "# def replace(x):   # x is a vector\n",
    "#     out = x[outliers(x)]\n",
    "#     return x.replace(to_replace = [out.min(),out.max()],value = [np.percentile(x,5),np.percentile(x,95)])\n",
    "\n",
    "\n",
    "import numpy as np\n",
    "Q1 = data2.balance_x.quantile(0.01)\n",
    "Q3 = data2.balance_x.quantile(0.95)\n",
    "IQR = Q3 - Q1\n",
    "(((data2.balance_x < (Q1 - 1.5 * IQR)) | (data2.balance_x > (Q3 + 1.5 * IQR))).sum()/len(data2))*100\n",
    "\n",
    "balance_x_1 = list(data2['balance_x'])\n",
    "mean = np.mean([x for x in balance_x_1 if Q3+(1.5*IQR)>=x>=Q1-(1.5*IQR)])\n",
    "print('mean:%f' %mean)\n",
    "\n",
    "def transform_outlier(x):\n",
    "    if x >= Q3:\n",
    "        return Q3\n",
    "    elif x <= Q1:\n",
    "        return Q1\n",
    "    return x\n",
    "\n",
    "data2['balance_x_mean']=data2['balance_x'].apply(lambda x: transform_outlier(x))\n",
    "\n",
    "# def scale_val(s, val):\n",
    "#     percentiles = s.quantile([0.01,0.99]).values\n",
    "#     if val <= percentiles[0]:\n",
    "#         return percentiles[0]\n",
    "#     elif val >= percentiles[1]:\n",
    "#         return percentiles[1]\n",
    "#     else:\n",
    "#         return val\n",
    "    \n",
    "# df.apply(lambda s: s.apply(lambda v: scale_val(s,v)))\n"
   ]
  },
  {
   "cell_type": "code",
   "execution_count": 131,
   "metadata": {},
   "outputs": [
    {
     "data": {
      "text/plain": [
       "1.6405026641774734"
      ]
     },
     "execution_count": 131,
     "metadata": {},
     "output_type": "execute_result"
    }
   ],
   "source": [
    "import numpy as np\n",
    "Q1 = data2.balance_x.quantile(0.25)\n",
    "Q3 = data2.balance_x.quantile(0.75)\n",
    "IQR = Q3 - Q1\n",
    "((data2.balance_x < (Q1 - 1.5 * IQR)) | (data2.balance_x > (Q3 + 1.5 * IQR))).sum()/len(data2)*100\n",
    "\n",
    "\n"
   ]
  },
  {
   "cell_type": "code",
   "execution_count": 74,
   "metadata": {},
   "outputs": [
    {
     "name": "stdout",
     "output_type": "stream",
     "text": [
      "44000.0\n",
      "124000.0\n",
      "283000.0\n",
      "567000.0\n"
     ]
    }
   ],
   "source": [
    "Q1 = data2.balance_x.quantile(0.01)\n",
    "Q2 = data2.balance_x.quantile(0.25)\n",
    "Q3 = data2.balance_x.quantile(0.75)\n",
    "Q4 = data2.balance_x.quantile(0.99)\n",
    "\n",
    "print(Q1)\n",
    "print(Q2)\n",
    "print(Q3)\n",
    "print(Q4)"
   ]
  },
  {
   "cell_type": "code",
   "execution_count": 95,
   "metadata": {},
   "outputs": [
    {
     "data": {
      "text/plain": [
       "71     547000\n",
       "91     570000\n",
       "165    491000\n",
       "197    459000\n",
       "244    531000\n",
       "Name: balance_x, dtype: int64"
      ]
     },
     "execution_count": 95,
     "metadata": {},
     "output_type": "execute_result"
    }
   ],
   "source": [
    "data2.balance_x[outliers(data2.balance_x)].head()"
   ]
  },
  {
   "cell_type": "code",
   "execution_count": 96,
   "metadata": {},
   "outputs": [
    {
     "data": {
      "text/plain": [
       "Series([], Name: balance_x_mean, dtype: float64)"
      ]
     },
     "execution_count": 96,
     "metadata": {},
     "output_type": "execute_result"
    }
   ],
   "source": [
    "data2.balance_x_mean[outliers(data2.balance_x_mean)].head()"
   ]
  },
  {
   "cell_type": "code",
   "execution_count": 97,
   "metadata": {},
   "outputs": [
    {
     "data": {
      "image/png": "[encoded data removed]",
      "text/plain": [
       "<matplotlib.figure.Figure at 0x1dc052fce80>"
      ]
     },
     "metadata": {},
     "output_type": "display_data"
    }
   ],
   "source": [
    "import matplotlib.pylab as plt\n",
    "plt.boxplot(data2.balance_x)\n",
    "plt.show()"
   ]
  },
  {
   "cell_type": "code",
   "execution_count": 116,
   "metadata": {},
   "outputs": [
    {
     "data": {
      "image/png": "[encoded data removed]",
      "text/plain": [
       "<matplotlib.figure.Figure at 0xeea686e400>"
      ]
     },
     "metadata": {},
     "output_type": "display_data"
    }
   ],
   "source": [
    "import matplotlib.pylab as plt\n",
    "plt.boxplot(data2.balance_x_mean)\n",
    "plt.show()"
   ]
  },
  {
   "cell_type": "code",
   "execution_count": 101,
   "metadata": {},
   "outputs": [
    {
     "data": {
      "text/html": [
       "<div>\n",
       "<style scoped>\n",
       "    .dataframe tbody tr th:only-of-type {\n",
       "        vertical-align: middle;\n",
       "    }\n",
       "\n",
       "    .dataframe tbody tr th {\n",
       "        vertical-align: top;\n",
       "    }\n",
       "\n",
       "    .dataframe thead th {\n",
       "        text-align: right;\n",
       "    }\n",
       "</style>\n",
       "<table border=\"1\" class=\"dataframe\">\n",
       "  <thead>\n",
       "    <tr style=\"text-align: right;\">\n",
       "      <th></th>\n",
       "      <th>balance_x</th>\n",
       "      <th>balance_x_mean</th>\n",
       "    </tr>\n",
       "  </thead>\n",
       "  <tbody>\n",
       "    <tr>\n",
       "      <th>1</th>\n",
       "      <td>276000</td>\n",
       "      <td>276000.0</td>\n",
       "    </tr>\n",
       "    <tr>\n",
       "      <th>2</th>\n",
       "      <td>190000</td>\n",
       "      <td>190000.0</td>\n",
       "    </tr>\n",
       "    <tr>\n",
       "      <th>3</th>\n",
       "      <td>320000</td>\n",
       "      <td>320000.0</td>\n",
       "    </tr>\n",
       "    <tr>\n",
       "      <th>4</th>\n",
       "      <td>92000</td>\n",
       "      <td>92000.0</td>\n",
       "    </tr>\n",
       "    <tr>\n",
       "      <th>5</th>\n",
       "      <td>82000</td>\n",
       "      <td>82000.0</td>\n",
       "    </tr>\n",
       "    <tr>\n",
       "      <th>6</th>\n",
       "      <td>184000</td>\n",
       "      <td>184000.0</td>\n",
       "    </tr>\n",
       "    <tr>\n",
       "      <th>7</th>\n",
       "      <td>176000</td>\n",
       "      <td>176000.0</td>\n",
       "    </tr>\n",
       "    <tr>\n",
       "      <th>8</th>\n",
       "      <td>238000</td>\n",
       "      <td>238000.0</td>\n",
       "    </tr>\n",
       "    <tr>\n",
       "      <th>9</th>\n",
       "      <td>231000</td>\n",
       "      <td>231000.0</td>\n",
       "    </tr>\n",
       "  </tbody>\n",
       "</table>\n",
       "</div>"
      ],
      "text/plain": [
       "   balance_x  balance_x_mean\n",
       "1     276000        276000.0\n",
       "2     190000        190000.0\n",
       "3     320000        320000.0\n",
       "4      92000         92000.0\n",
       "5      82000         82000.0\n",
       "6     184000        184000.0\n",
       "7     176000        176000.0\n",
       "8     238000        238000.0\n",
       "9     231000        231000.0"
      ]
     },
     "execution_count": 101,
     "metadata": {},
     "output_type": "execute_result"
    }
   ],
   "source": [
    "data2.iloc[1:10:,[3,21]]"
   ]
  },
  {
   "cell_type": "code",
   "execution_count": 115,
   "metadata": {},
   "outputs": [
    {
     "data": {
      "text/html": [
       "<div>\n",
       "<style scoped>\n",
       "    .dataframe tbody tr th:only-of-type {\n",
       "        vertical-align: middle;\n",
       "    }\n",
       "\n",
       "    .dataframe tbody tr th {\n",
       "        vertical-align: top;\n",
       "    }\n",
       "\n",
       "    .dataframe thead th {\n",
       "        text-align: right;\n",
       "    }\n",
       "</style>\n",
       "<table border=\"1\" class=\"dataframe\">\n",
       "  <thead>\n",
       "    <tr style=\"text-align: right;\">\n",
       "      <th></th>\n",
       "      <th>balance_x</th>\n",
       "      <th>balance_x_mean</th>\n",
       "    </tr>\n",
       "  </thead>\n",
       "  <tbody>\n",
       "    <tr>\n",
       "      <th>14</th>\n",
       "      <td>41000</td>\n",
       "      <td>44000</td>\n",
       "    </tr>\n",
       "    <tr>\n",
       "      <th>71</th>\n",
       "      <td>547000</td>\n",
       "      <td>417000</td>\n",
       "    </tr>\n",
       "    <tr>\n",
       "      <th>91</th>\n",
       "      <td>570000</td>\n",
       "      <td>417000</td>\n",
       "    </tr>\n",
       "    <tr>\n",
       "      <th>165</th>\n",
       "      <td>491000</td>\n",
       "      <td>417000</td>\n",
       "    </tr>\n",
       "  </tbody>\n",
       "</table>\n",
       "</div>"
      ],
      "text/plain": [
       "     balance_x  balance_x_mean\n",
       "14       41000           44000\n",
       "71      547000          417000\n",
       "91      570000          417000\n",
       "165     491000          417000"
      ]
     },
     "execution_count": 115,
     "metadata": {},
     "output_type": "execute_result"
    }
   ],
   "source": [
    "chk = data2[(data2['balance_x']) != (data2['balance_x_mean'])]\n",
    "chk.iloc[1:5,[3,21]]"
   ]
  },
  {
   "cell_type": "code",
   "execution_count": 114,
   "metadata": {},
   "outputs": [],
   "source": [
    "data2.balance_x_mean = data2.balance_x_mean.astype(int)"
   ]
  },
  {
   "cell_type": "code",
   "execution_count": 102,
   "metadata": {},
   "outputs": [
    {
     "name": "stdout",
     "output_type": "stream",
     "text": [
      "<class 'pandas.core.frame.DataFrame'>\n",
      "RangeIndex: 1395365 entries, 0 to 1395364\n",
      "Data columns (total 22 columns):\n",
      "channel                          1395365 non-null object\n",
      "seller                           1395365 non-null object\n",
      "interest_rate                    1395365 non-null float64\n",
      "balance_x                        1395365 non-null int64\n",
      "origination_date                 1395365 non-null object\n",
      "first_payment_date               1395365 non-null object\n",
      "ltv                              1395365 non-null int64\n",
      "dti                              1395365 non-null float64\n",
      "borrower_credit_score            1395365 non-null float64\n",
      "first_time_homebuyer             1395365 non-null object\n",
      "loan_purpose                     1395365 non-null object\n",
      "property_type                    1395365 non-null object\n",
      "occupancy_status                 1395365 non-null object\n",
      "property_state                   1395365 non-null object\n",
      "product_type                     1395365 non-null object\n",
      "relocation_mortgage_indicator    1395365 non-null object\n",
      "reporting_period                 1395365 non-null object\n",
      "loan_age                         1395365 non-null int64\n",
      "maturity_date                    1395365 non-null object\n",
      "delinquency_status               1395365 non-null object\n",
      "foreclosure_Status               1395365 non-null int64\n",
      "balance_x_mean                   1395365 non-null float64\n",
      "dtypes: float64(4), int64(4), object(14)\n",
      "memory usage: 234.2+ MB\n"
     ]
    }
   ],
   "source": [
    "data2.info()"
   ]
  },
  {
   "cell_type": "code",
   "execution_count": 65,
   "metadata": {},
   "outputs": [
    {
     "data": {
      "text/plain": [
       "1395365"
      ]
     },
     "execution_count": 65,
     "metadata": {},
     "output_type": "execute_result"
    }
   ],
   "source": [
    "len(data2)"
   ]
  },
  {
   "cell_type": "code",
   "execution_count": null,
   "metadata": {
    "collapsed": true
   },
   "outputs": [],
   "source": []
  },
  {
   "cell_type": "code",
   "execution_count": 167,
   "metadata": {},
   "outputs": [
    {
     "name": "stdout",
     "output_type": "stream",
     "text": [
      "   balance_x\n",
      "0     328000\n",
      "1     276000\n",
      "2     190000\n",
      "3     320000\n",
      "4      92000\n"
     ]
    }
   ],
   "source": [
    "print(test.head(5))"
   ]
  },
  {
   "cell_type": "code",
   "execution_count": null,
   "metadata": {
    "collapsed": true
   },
   "outputs": [],
   "source": [
    "# Remove outliers\n",
    "\n",
    "mask = (df < (Q1 - 1.5 * IQR)) | (df > (Q3 + 1.5 * IQR))\n",
    "df[mask] = np.nan"
   ]
  },
  {
   "cell_type": "code",
   "execution_count": 163,
   "metadata": {},
   "outputs": [
    {
     "data": {
      "text/html": [
       "<div>\n",
       "<style scoped>\n",
       "    .dataframe tbody tr th:only-of-type {\n",
       "        vertical-align: middle;\n",
       "    }\n",
       "\n",
       "    .dataframe tbody tr th {\n",
       "        vertical-align: top;\n",
       "    }\n",
       "\n",
       "    .dataframe thead th {\n",
       "        text-align: right;\n",
       "    }\n",
       "</style>\n",
       "<table border=\"1\" class=\"dataframe\">\n",
       "  <thead>\n",
       "    <tr style=\"text-align: right;\">\n",
       "      <th></th>\n",
       "      <th>balance_x</th>\n",
       "    </tr>\n",
       "  </thead>\n",
       "  <tbody>\n",
       "    <tr>\n",
       "      <th>0</th>\n",
       "      <td>NaN</td>\n",
       "    </tr>\n",
       "    <tr>\n",
       "      <th>1</th>\n",
       "      <td>NaN</td>\n",
       "    </tr>\n",
       "    <tr>\n",
       "      <th>2</th>\n",
       "      <td>NaN</td>\n",
       "    </tr>\n",
       "    <tr>\n",
       "      <th>3</th>\n",
       "      <td>NaN</td>\n",
       "    </tr>\n",
       "    <tr>\n",
       "      <th>4</th>\n",
       "      <td>NaN</td>\n",
       "    </tr>\n",
       "  </tbody>\n",
       "</table>\n",
       "</div>"
      ],
      "text/plain": [
       "   balance_x\n",
       "0        NaN\n",
       "1        NaN\n",
       "2        NaN\n",
       "3        NaN\n",
       "4        NaN"
      ]
     },
     "execution_count": 163,
     "metadata": {},
     "output_type": "execute_result"
    }
   ],
   "source": [
    "# data3.balance_x[outliers(data3.balance_x)].head()\n",
    "test[outliers(test)].head()"
   ]
  },
  {
   "cell_type": "code",
   "execution_count": 164,
   "metadata": {},
   "outputs": [
    {
     "data": {
      "text/plain": [
       "(1395365, 1)"
      ]
     },
     "execution_count": 164,
     "metadata": {},
     "output_type": "execute_result"
    }
   ],
   "source": [
    "test.shape"
   ]
  },
  {
   "cell_type": "code",
   "execution_count": 157,
   "metadata": {},
   "outputs": [
    {
     "data": {
      "text/plain": [
       "(1395365, 21)"
      ]
     },
     "execution_count": 157,
     "metadata": {},
     "output_type": "execute_result"
    }
   ],
   "source": [
    "data2.shape"
   ]
  },
  {
   "cell_type": "code",
   "execution_count": 165,
   "metadata": {},
   "outputs": [
    {
     "data": {
      "image/png": "[encoded data removed]",
      "text/plain": [
       "<matplotlib.figure.Figure at 0xe6f0f195f8>"
      ]
     },
     "metadata": {},
     "output_type": "display_data"
    }
   ],
   "source": [
    "# test.plot(kind='box', subplots=True, layout=(5,4), sharex=False, sharey=False,figsize=(18,10))\n",
    "test.plot(kind='box')\n",
    "plt.show()"
   ]
  },
  {
   "cell_type": "code",
   "execution_count": 144,
   "metadata": {},
   "outputs": [
    {
     "name": "stdout",
     "output_type": "stream",
     "text": [
      "   balance_x\n",
      "0     328000\n",
      "1     276000\n",
      "2     190000\n",
      "3     320000\n",
      "4      92000\n"
     ]
    }
   ],
   "source": [
    "print(data3.balance_x.head(5))"
   ]
  },
  {
   "cell_type": "code",
   "execution_count": 60,
   "metadata": {},
   "outputs": [
    {
     "data": {
      "text/plain": [
       "1395365"
      ]
     },
     "execution_count": 60,
     "metadata": {},
     "output_type": "execute_result"
    }
   ],
   "source": [
    "def get_subset_by_IQR():\n",
    "    q1 = data2['balance_x'].quantile(0.25)\n",
    "    q3 = data2['balance_x'].quantile(0.75)\n",
    "    iqr = (data2['balance_x'] > q1) & (data2['balance_x'] < q3)\n",
    "#     return data2.loc[iqr]\n",
    "    return iqr.count()\n",
    "\n",
    "# get_subset_by_IQR(data2,balance_x)\n",
    "get_subset_by_IQR()"
   ]
  },
  {
   "cell_type": "code",
   "execution_count": 124,
   "metadata": {},
   "outputs": [
    {
     "data": {
      "text/plain": [
       "1395335    13\n",
       "1395338     9\n",
       "1395351     1\n",
       "1395357    16\n",
       "1395364     4\n",
       "Name: loan_age, dtype: int64"
      ]
     },
     "execution_count": 124,
     "metadata": {},
     "output_type": "execute_result"
    }
   ],
   "source": [
    "import pandas as pd   # to manipulate dataframes\n",
    "import numpy as np   # to manipulate arrays\n",
    "from tqdm import tqdm,trange\n",
    "from time import sleep\n",
    "\n",
    "def outliers(x): \n",
    "       return np.abs(x- x.median()) > 1.5*(x.quantile(.75)-x.quantile(0.25))\n",
    "\n",
    "# Give the outliers for the first column for example\n",
    "# data2.borrower_credit_score[outliers(data2.borrower_credit_score)].tail()\n",
    "data2.loan_age[outliers(data2.loan_age)].tail()\n",
    "    \n",
    "# The function return a boolean vector: True if the element is an outlier. False, otherwise."
   ]
  },
  {
   "cell_type": "code",
   "execution_count": null,
   "metadata": {
    "collapsed": true
   },
   "outputs": [],
   "source": [
    "_, box_plot_results = pd.DataFrame.boxplot(data2.loan_age, return_type='both')\n",
    "# box_plot_results\n",
    "outliers = [flier.get_ydata() for flier in box_plot_results[\"fliers\"]]\n",
    "# len(outliers)\n",
    "print(len(outliers))\n",
    "print(outliers)\n",
    "# boxes = [box.get_ydata() for box in bp[\"boxes\"]]\n",
    "# medians = [median.get_ydata() for median in bp[\"medians\"]]\n",
    "# whiskers = [whiskers.get_ydata() for whiskers in bp[\"whiskers\"]]"
   ]
  },
  {
   "cell_type": "code",
   "execution_count": null,
   "metadata": {
    "collapsed": true
   },
   "outputs": [],
   "source": [
    "# Now, to replace the upper and lower outliers, let's write another small function and apply it on all the dataframe:\n",
    "# Replace the upper outlier(s) with the 95th percentile and the lower one(s) with the 5th percentile \n",
    "def replace(x):   # x is a vector\n",
    "    out = x[outliers(x)]\n",
    "    return x.replace(to_replace = [out.min(),out.max()],value = [np.percentile(x,5),np.percentile(x,95)])\n",
    "\n",
    "# Apply replace() on each column of the dataframe\n",
    "data3 = data2.iloc[:,1:]\n",
    "# data3 = data3.apply(replace,axis=1)\n",
    "# data3.loan_age= data3.loan_age.apply(replace[data3.loan_age],axis=1)\n",
    "data3[['loan_age']] = data3[['loan_age']].apply(replace,axis=1)\n",
    "# df[['A', 'B']] = df[['A', 'B']].apply(np.negative)\n",
    "# df = df.apply(replace,axis=1)\n",
    "# data3\n",
    "# data2.loan_age[outliers(data2.loan_age)].tail()\n",
    "# print worldlists[len(words)]"
   ]
  }
 ],
 "metadata": {
  "kernelspec": {
   "display_name": "Python 3",
   "language": "python",
   "name": "python3"
  },
  "language_info": {
   "codemirror_mode": {
    "name": "ipython",
    "version": 3
   },
   "file_extension": ".py",
   "mimetype": "text/x-python",
   "name": "python",
   "nbconvert_exporter": "python",
   "pygments_lexer": "ipython3",
   "version": "3.6.5"
  }
 },
 "nbformat": 4,
 "nbformat_minor": 2
}
