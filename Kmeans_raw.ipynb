{
 "cells": [
  {
   "cell_type": "code",
   "execution_count": 2,
   "metadata": {},
   "outputs": [],
   "source": [
    "import pandas as pd\n",
    "import seaborn as sns\n",
    "import matplotlib.pyplot as plt"
   ]
  },
  {
   "cell_type": "code",
   "execution_count": 212,
   "metadata": {},
   "outputs": [],
   "source": [
    "pd.options.display.max_columns = 500"
   ]
  },
  {
   "cell_type": "code",
   "execution_count": 3,
   "metadata": {},
   "outputs": [
    {
     "data": {
      "text/html": [
       "<div>\n",
       "<style scoped>\n",
       "    .dataframe tbody tr th:only-of-type {\n",
       "        vertical-align: middle;\n",
       "    }\n",
       "\n",
       "    .dataframe tbody tr th {\n",
       "        vertical-align: top;\n",
       "    }\n",
       "\n",
       "    .dataframe thead th {\n",
       "        text-align: right;\n",
       "    }\n",
       "</style>\n",
       "<table border=\"1\" class=\"dataframe\">\n",
       "  <thead>\n",
       "    <tr style=\"text-align: right;\">\n",
       "      <th></th>\n",
       "      <th>Ref</th>\n",
       "      <th>Credit_Score</th>\n",
       "      <th>Final_Grade</th>\n",
       "      <th>Term</th>\n",
       "      <th>Net_Advance</th>\n",
       "      <th>APR</th>\n",
       "      <th>Loan Type</th>\n",
       "      <th>Customer Segment</th>\n",
       "      <th>Time_at_Address</th>\n",
       "      <th>Residential_Status</th>\n",
       "      <th>...</th>\n",
       "      <th>Years on ER for SP</th>\n",
       "      <th>Bankruptcy Detected (SP)</th>\n",
       "      <th>Total # outstanding Court's</th>\n",
       "      <th>Total outstanding balance  (excl. mortgages)</th>\n",
       "      <th>Total # of accounts</th>\n",
       "      <th>Any Frauds Detected</th>\n",
       "      <th>Time since most recent outstanding Court</th>\n",
       "      <th>Insurance_Description</th>\n",
       "      <th>Insurance_Product_Code</th>\n",
       "      <th>PPI</th>\n",
       "    </tr>\n",
       "  </thead>\n",
       "  <tbody>\n",
       "    <tr>\n",
       "      <th>0</th>\n",
       "      <td>1</td>\n",
       "      <td>918</td>\n",
       "      <td>A</td>\n",
       "      <td>36</td>\n",
       "      <td>3000.0</td>\n",
       "      <td>14.4</td>\n",
       "      <td>UnSecured</td>\n",
       "      <td>46</td>\n",
       "      <td>132</td>\n",
       "      <td>H</td>\n",
       "      <td>...</td>\n",
       "      <td>10.0</td>\n",
       "      <td>N</td>\n",
       "      <td>1</td>\n",
       "      <td>18</td>\n",
       "      <td>6</td>\n",
       "      <td>N</td>\n",
       "      <td>16</td>\n",
       "      <td>NaN</td>\n",
       "      <td>NaN</td>\n",
       "      <td>0</td>\n",
       "    </tr>\n",
       "    <tr>\n",
       "      <th>1</th>\n",
       "      <td>2</td>\n",
       "      <td>978</td>\n",
       "      <td>X</td>\n",
       "      <td>60</td>\n",
       "      <td>6500.0</td>\n",
       "      <td>9.9</td>\n",
       "      <td>UnSecured</td>\n",
       "      <td>46</td>\n",
       "      <td>108</td>\n",
       "      <td>T</td>\n",
       "      <td>...</td>\n",
       "      <td>7.0</td>\n",
       "      <td>N</td>\n",
       "      <td>0</td>\n",
       "      <td>463</td>\n",
       "      <td>5</td>\n",
       "      <td>N</td>\n",
       "      <td>99</td>\n",
       "      <td>Joint</td>\n",
       "      <td>716.0</td>\n",
       "      <td>1</td>\n",
       "    </tr>\n",
       "    <tr>\n",
       "      <th>2</th>\n",
       "      <td>3</td>\n",
       "      <td>903</td>\n",
       "      <td>A</td>\n",
       "      <td>120</td>\n",
       "      <td>21000.0</td>\n",
       "      <td>7.9</td>\n",
       "      <td>secured</td>\n",
       "      <td>16</td>\n",
       "      <td>288</td>\n",
       "      <td>H</td>\n",
       "      <td>...</td>\n",
       "      <td>22.0</td>\n",
       "      <td>N</td>\n",
       "      <td>0</td>\n",
       "      <td>203</td>\n",
       "      <td>8</td>\n",
       "      <td>N</td>\n",
       "      <td>99</td>\n",
       "      <td>Life &amp; Critical Illn</td>\n",
       "      <td>748.0</td>\n",
       "      <td>1</td>\n",
       "    </tr>\n",
       "    <tr>\n",
       "      <th>3</th>\n",
       "      <td>4</td>\n",
       "      <td>1060</td>\n",
       "      <td>X</td>\n",
       "      <td>78</td>\n",
       "      <td>7200.0</td>\n",
       "      <td>7.9</td>\n",
       "      <td>secured</td>\n",
       "      <td>17</td>\n",
       "      <td>276</td>\n",
       "      <td>H</td>\n",
       "      <td>...</td>\n",
       "      <td>21.0</td>\n",
       "      <td>N</td>\n",
       "      <td>1</td>\n",
       "      <td>87</td>\n",
       "      <td>7</td>\n",
       "      <td>N</td>\n",
       "      <td>50</td>\n",
       "      <td>Joint</td>\n",
       "      <td>719.0</td>\n",
       "      <td>1</td>\n",
       "    </tr>\n",
       "    <tr>\n",
       "      <th>4</th>\n",
       "      <td>5</td>\n",
       "      <td>1032</td>\n",
       "      <td>X</td>\n",
       "      <td>60</td>\n",
       "      <td>7500.0</td>\n",
       "      <td>7.9</td>\n",
       "      <td>UnSecured</td>\n",
       "      <td>46</td>\n",
       "      <td>66</td>\n",
       "      <td>H</td>\n",
       "      <td>...</td>\n",
       "      <td>3.0</td>\n",
       "      <td>N</td>\n",
       "      <td>0</td>\n",
       "      <td>178</td>\n",
       "      <td>9</td>\n",
       "      <td>N</td>\n",
       "      <td>99</td>\n",
       "      <td>NaN</td>\n",
       "      <td>NaN</td>\n",
       "      <td>0</td>\n",
       "    </tr>\n",
       "  </tbody>\n",
       "</table>\n",
       "<p>5 rows × 52 columns</p>\n",
       "</div>"
      ],
      "text/plain": [
       "   Ref  Credit_Score Final_Grade  Term  Net_Advance   APR  Loan Type  \\\n",
       "0    1           918          A     36       3000.0  14.4  UnSecured   \n",
       "1    2           978          X     60       6500.0   9.9  UnSecured   \n",
       "2    3           903          A    120      21000.0   7.9    secured   \n",
       "3    4          1060          X     78       7200.0   7.9    secured   \n",
       "4    5          1032          X     60       7500.0   7.9  UnSecured   \n",
       "\n",
       "   Customer Segment  Time_at_Address Residential_Status ...   \\\n",
       "0                46              132                  H ...    \n",
       "1                46              108                  T ...    \n",
       "2                16              288                  H ...    \n",
       "3                17              276                  H ...    \n",
       "4                46               66                  H ...    \n",
       "\n",
       "  Years on ER for SP  Bankruptcy Detected (SP) Total # outstanding Court's  \\\n",
       "0               10.0                         N                           1   \n",
       "1                7.0                         N                           0   \n",
       "2               22.0                         N                           0   \n",
       "3               21.0                         N                           1   \n",
       "4                3.0                         N                           0   \n",
       "\n",
       "  Total outstanding balance  (excl. mortgages)  Total # of accounts  \\\n",
       "0                                           18                    6   \n",
       "1                                          463                    5   \n",
       "2                                          203                    8   \n",
       "3                                           87                    7   \n",
       "4                                          178                    9   \n",
       "\n",
       "  Any Frauds Detected Time since most recent outstanding Court  \\\n",
       "0                   N                                       16   \n",
       "1                   N                                       99   \n",
       "2                   N                                       99   \n",
       "3                   N                                       50   \n",
       "4                   N                                       99   \n",
       "\n",
       "  Insurance_Description  Insurance_Product_Code  PPI  \n",
       "0                   NaN                     NaN    0  \n",
       "1                 Joint                   716.0    1  \n",
       "2  Life & Critical Illn                   748.0    1  \n",
       "3                 Joint                   719.0    1  \n",
       "4                   NaN                     NaN    0  \n",
       "\n",
       "[5 rows x 52 columns]"
      ]
     },
     "execution_count": 3,
     "metadata": {},
     "output_type": "execute_result"
    }
   ],
   "source": [
    "df = pd.read_csv(r'C:\\Users\\athiq.ahmed\\Desktop\\New folder\\Dataset - Mortgage Insurance Cross Sell.csv')\n",
    "df.head()"
   ]
  },
  {
   "cell_type": "code",
   "execution_count": 214,
   "metadata": {},
   "outputs": [
    {
     "name": "stdout",
     "output_type": "stream",
     "text": [
      "Total no. of columns:  52\n",
      "Total no. of observations:  2500\n"
     ]
    }
   ],
   "source": [
    "print(\"Total no. of columns: \", df.shape[1])\n",
    "print(\"Total no. of observations: \", df.shape[0])"
   ]
  },
  {
   "cell_type": "code",
   "execution_count": null,
   "metadata": {},
   "outputs": [],
   "source": [
    "df.dtypes"
   ]
  },
  {
   "cell_type": "code",
   "execution_count": 216,
   "metadata": {},
   "outputs": [
    {
     "name": "stdout",
     "output_type": "stream",
     "text": [
      "Total numerical variables:  36\n"
     ]
    }
   ],
   "source": [
    "Numerical = df.dtypes[df.dtypes != \"object\"].index\n",
    "print(\"Total numerical variables: \",len(Numerical))"
   ]
  },
  {
   "cell_type": "code",
   "execution_count": 217,
   "metadata": {},
   "outputs": [
    {
     "data": {
      "text/html": [
       "<div>\n",
       "<style scoped>\n",
       "    .dataframe tbody tr th:only-of-type {\n",
       "        vertical-align: middle;\n",
       "    }\n",
       "\n",
       "    .dataframe tbody tr th {\n",
       "        vertical-align: top;\n",
       "    }\n",
       "\n",
       "    .dataframe thead th {\n",
       "        text-align: right;\n",
       "    }\n",
       "</style>\n",
       "<table border=\"1\" class=\"dataframe\">\n",
       "  <thead>\n",
       "    <tr style=\"text-align: right;\">\n",
       "      <th></th>\n",
       "      <th>Ref</th>\n",
       "      <th>Credit_Score</th>\n",
       "      <th>Term</th>\n",
       "      <th>Net_Advance</th>\n",
       "      <th>APR</th>\n",
       "      <th>Customer Segment</th>\n",
       "      <th>Time_at_Address</th>\n",
       "      <th>Number_of_Dependants</th>\n",
       "      <th>Time_in_Employment</th>\n",
       "      <th>Income_Range</th>\n",
       "      <th>Time_with_Bank</th>\n",
       "      <th>Value_of_Property</th>\n",
       "      <th>Total_Outstanding_Balances</th>\n",
       "      <th>Bureau Data - Monthly_Other_Co_Repayments</th>\n",
       "      <th>Worst_History_CT</th>\n",
       "      <th>Age</th>\n",
       "      <th>Total # Public Info. (Court +  bankruptcies)</th>\n",
       "      <th>Total value  Public Info. (Court + bankruptcies)</th>\n",
       "      <th>Time since most recent Public Info.  mnths</th>\n",
       "      <th>Total Value in Dispute if any</th>\n",
       "      <th># of status=3's L6m</th>\n",
       "      <th>Searches - Total # L6m</th>\n",
       "      <th>Years on ER for SP</th>\n",
       "      <th>Total # outstanding Court's</th>\n",
       "      <th>Total outstanding balance  (excl. mortgages)</th>\n",
       "      <th>Total # of accounts</th>\n",
       "      <th>Time since most recent outstanding Court</th>\n",
       "      <th>Insurance_Product_Code</th>\n",
       "      <th>PPI</th>\n",
       "    </tr>\n",
       "  </thead>\n",
       "  <tbody>\n",
       "    <tr>\n",
       "      <th>count</th>\n",
       "      <td>2500.00000</td>\n",
       "      <td>2500.000000</td>\n",
       "      <td>2500.000000</td>\n",
       "      <td>2500.000000</td>\n",
       "      <td>2500.000000</td>\n",
       "      <td>2500.000000</td>\n",
       "      <td>2500.000000</td>\n",
       "      <td>2500.00000</td>\n",
       "      <td>2495.000000</td>\n",
       "      <td>2500.000000</td>\n",
       "      <td>2491.000000</td>\n",
       "      <td>2.500000e+03</td>\n",
       "      <td>2.500000e+03</td>\n",
       "      <td>2500.000000</td>\n",
       "      <td>2500.000000</td>\n",
       "      <td>2500.000000</td>\n",
       "      <td>2500.000000</td>\n",
       "      <td>2500.000000</td>\n",
       "      <td>2500.000000</td>\n",
       "      <td>832.000000</td>\n",
       "      <td>2500.000000</td>\n",
       "      <td>2170.000000</td>\n",
       "      <td>1992.000000</td>\n",
       "      <td>2500.00000</td>\n",
       "      <td>2500.000000</td>\n",
       "      <td>2500.000000</td>\n",
       "      <td>2500.000000</td>\n",
       "      <td>1551.000000</td>\n",
       "      <td>2500.000000</td>\n",
       "    </tr>\n",
       "    <tr>\n",
       "      <th>mean</th>\n",
       "      <td>1250.50000</td>\n",
       "      <td>886.351600</td>\n",
       "      <td>60.400800</td>\n",
       "      <td>7569.153396</td>\n",
       "      <td>17.874200</td>\n",
       "      <td>30.432400</td>\n",
       "      <td>125.062400</td>\n",
       "      <td>0.72280</td>\n",
       "      <td>110.312625</td>\n",
       "      <td>4.461200</td>\n",
       "      <td>203.924127</td>\n",
       "      <td>1.384299e+05</td>\n",
       "      <td>7.694505e+04</td>\n",
       "      <td>592.243600</td>\n",
       "      <td>2.480800</td>\n",
       "      <td>44.750000</td>\n",
       "      <td>0.207200</td>\n",
       "      <td>4.355200</td>\n",
       "      <td>90.345200</td>\n",
       "      <td>49.644231</td>\n",
       "      <td>0.342000</td>\n",
       "      <td>3.285714</td>\n",
       "      <td>8.750502</td>\n",
       "      <td>0.15760</td>\n",
       "      <td>138.015600</td>\n",
       "      <td>6.081200</td>\n",
       "      <td>92.024400</td>\n",
       "      <td>722.291425</td>\n",
       "      <td>0.620400</td>\n",
       "    </tr>\n",
       "    <tr>\n",
       "      <th>std</th>\n",
       "      <td>721.83216</td>\n",
       "      <td>95.434375</td>\n",
       "      <td>26.222784</td>\n",
       "      <td>6674.890921</td>\n",
       "      <td>9.803126</td>\n",
       "      <td>16.497706</td>\n",
       "      <td>113.162588</td>\n",
       "      <td>1.05906</td>\n",
       "      <td>97.985434</td>\n",
       "      <td>1.588176</td>\n",
       "      <td>109.718539</td>\n",
       "      <td>1.410500e+05</td>\n",
       "      <td>8.467378e+04</td>\n",
       "      <td>583.973148</td>\n",
       "      <td>2.391301</td>\n",
       "      <td>11.207682</td>\n",
       "      <td>0.649644</td>\n",
       "      <td>38.927913</td>\n",
       "      <td>23.617679</td>\n",
       "      <td>95.755999</td>\n",
       "      <td>1.260822</td>\n",
       "      <td>2.233784</td>\n",
       "      <td>7.567908</td>\n",
       "      <td>0.57419</td>\n",
       "      <td>142.955463</td>\n",
       "      <td>2.574735</td>\n",
       "      <td>21.908715</td>\n",
       "      <td>14.090680</td>\n",
       "      <td>0.485384</td>\n",
       "    </tr>\n",
       "    <tr>\n",
       "      <th>min</th>\n",
       "      <td>1.00000</td>\n",
       "      <td>413.000000</td>\n",
       "      <td>12.000000</td>\n",
       "      <td>500.000000</td>\n",
       "      <td>0.000000</td>\n",
       "      <td>0.000000</td>\n",
       "      <td>1.000000</td>\n",
       "      <td>0.00000</td>\n",
       "      <td>1.000000</td>\n",
       "      <td>0.000000</td>\n",
       "      <td>1.000000</td>\n",
       "      <td>0.000000e+00</td>\n",
       "      <td>0.000000e+00</td>\n",
       "      <td>0.000000</td>\n",
       "      <td>0.000000</td>\n",
       "      <td>20.000000</td>\n",
       "      <td>0.000000</td>\n",
       "      <td>0.000000</td>\n",
       "      <td>1.000000</td>\n",
       "      <td>1.000000</td>\n",
       "      <td>0.000000</td>\n",
       "      <td>1.000000</td>\n",
       "      <td>1.000000</td>\n",
       "      <td>0.00000</td>\n",
       "      <td>0.000000</td>\n",
       "      <td>1.000000</td>\n",
       "      <td>1.000000</td>\n",
       "      <td>672.000000</td>\n",
       "      <td>0.000000</td>\n",
       "    </tr>\n",
       "    <tr>\n",
       "      <th>25%</th>\n",
       "      <td>625.75000</td>\n",
       "      <td>823.000000</td>\n",
       "      <td>48.000000</td>\n",
       "      <td>3176.395000</td>\n",
       "      <td>8.900000</td>\n",
       "      <td>17.000000</td>\n",
       "      <td>39.000000</td>\n",
       "      <td>0.00000</td>\n",
       "      <td>42.000000</td>\n",
       "      <td>3.000000</td>\n",
       "      <td>120.000000</td>\n",
       "      <td>6.675000e+04</td>\n",
       "      <td>1.038875e+04</td>\n",
       "      <td>126.000000</td>\n",
       "      <td>0.000000</td>\n",
       "      <td>36.000000</td>\n",
       "      <td>0.000000</td>\n",
       "      <td>0.000000</td>\n",
       "      <td>99.000000</td>\n",
       "      <td>5.000000</td>\n",
       "      <td>0.000000</td>\n",
       "      <td>2.000000</td>\n",
       "      <td>3.000000</td>\n",
       "      <td>0.00000</td>\n",
       "      <td>37.000000</td>\n",
       "      <td>4.000000</td>\n",
       "      <td>99.000000</td>\n",
       "      <td>715.000000</td>\n",
       "      <td>0.000000</td>\n",
       "    </tr>\n",
       "    <tr>\n",
       "      <th>50%</th>\n",
       "      <td>1250.50000</td>\n",
       "      <td>889.000000</td>\n",
       "      <td>60.000000</td>\n",
       "      <td>6000.000000</td>\n",
       "      <td>15.900000</td>\n",
       "      <td>28.000000</td>\n",
       "      <td>90.000000</td>\n",
       "      <td>0.00000</td>\n",
       "      <td>78.000000</td>\n",
       "      <td>5.000000</td>\n",
       "      <td>192.000000</td>\n",
       "      <td>1.250000e+05</td>\n",
       "      <td>5.839950e+04</td>\n",
       "      <td>492.500000</td>\n",
       "      <td>4.000000</td>\n",
       "      <td>44.000000</td>\n",
       "      <td>0.000000</td>\n",
       "      <td>0.000000</td>\n",
       "      <td>99.000000</td>\n",
       "      <td>17.000000</td>\n",
       "      <td>0.000000</td>\n",
       "      <td>3.000000</td>\n",
       "      <td>6.000000</td>\n",
       "      <td>0.00000</td>\n",
       "      <td>94.000000</td>\n",
       "      <td>6.000000</td>\n",
       "      <td>99.000000</td>\n",
       "      <td>715.000000</td>\n",
       "      <td>1.000000</td>\n",
       "    </tr>\n",
       "    <tr>\n",
       "      <th>75%</th>\n",
       "      <td>1875.25000</td>\n",
       "      <td>953.000000</td>\n",
       "      <td>60.000000</td>\n",
       "      <td>9000.000000</td>\n",
       "      <td>23.900000</td>\n",
       "      <td>44.000000</td>\n",
       "      <td>183.000000</td>\n",
       "      <td>1.00000</td>\n",
       "      <td>151.500000</td>\n",
       "      <td>6.000000</td>\n",
       "      <td>273.000000</td>\n",
       "      <td>1.880000e+05</td>\n",
       "      <td>1.143430e+05</td>\n",
       "      <td>850.250000</td>\n",
       "      <td>5.000000</td>\n",
       "      <td>52.000000</td>\n",
       "      <td>0.000000</td>\n",
       "      <td>0.000000</td>\n",
       "      <td>99.000000</td>\n",
       "      <td>54.000000</td>\n",
       "      <td>0.000000</td>\n",
       "      <td>4.000000</td>\n",
       "      <td>13.000000</td>\n",
       "      <td>0.00000</td>\n",
       "      <td>194.000000</td>\n",
       "      <td>9.000000</td>\n",
       "      <td>99.000000</td>\n",
       "      <td>719.000000</td>\n",
       "      <td>1.000000</td>\n",
       "    </tr>\n",
       "    <tr>\n",
       "      <th>max</th>\n",
       "      <td>2500.00000</td>\n",
       "      <td>1298.000000</td>\n",
       "      <td>300.000000</td>\n",
       "      <td>52000.000000</td>\n",
       "      <td>44.900000</td>\n",
       "      <td>99.000000</td>\n",
       "      <td>840.000000</td>\n",
       "      <td>8.00000</td>\n",
       "      <td>580.000000</td>\n",
       "      <td>6.000000</td>\n",
       "      <td>610.000000</td>\n",
       "      <td>2.700000e+06</td>\n",
       "      <td>1.255925e+06</td>\n",
       "      <td>5848.000000</td>\n",
       "      <td>6.000000</td>\n",
       "      <td>74.000000</td>\n",
       "      <td>7.000000</td>\n",
       "      <td>999.000000</td>\n",
       "      <td>99.000000</td>\n",
       "      <td>999.000000</td>\n",
       "      <td>9.000000</td>\n",
       "      <td>9.000000</td>\n",
       "      <td>34.000000</td>\n",
       "      <td>7.00000</td>\n",
       "      <td>999.000000</td>\n",
       "      <td>9.000000</td>\n",
       "      <td>99.000000</td>\n",
       "      <td>775.000000</td>\n",
       "      <td>1.000000</td>\n",
       "    </tr>\n",
       "  </tbody>\n",
       "</table>\n",
       "</div>"
      ],
      "text/plain": [
       "              Ref  Credit_Score         Term   Net_Advance          APR  \\\n",
       "count  2500.00000  2500.000000   2500.000000  2500.000000   2500.000000   \n",
       "mean   1250.50000  886.351600    60.400800    7569.153396   17.874200     \n",
       "std    721.83216   95.434375     26.222784    6674.890921   9.803126      \n",
       "min    1.00000     413.000000    12.000000    500.000000    0.000000      \n",
       "25%    625.75000   823.000000    48.000000    3176.395000   8.900000      \n",
       "50%    1250.50000  889.000000    60.000000    6000.000000   15.900000     \n",
       "75%    1875.25000  953.000000    60.000000    9000.000000   23.900000     \n",
       "max    2500.00000  1298.000000   300.000000   52000.000000  44.900000     \n",
       "\n",
       "       Customer Segment  Time_at_Address  Number_of_Dependants  \\\n",
       "count  2500.000000       2500.000000      2500.00000             \n",
       "mean   30.432400         125.062400       0.72280                \n",
       "std    16.497706         113.162588       1.05906                \n",
       "min    0.000000          1.000000         0.00000                \n",
       "25%    17.000000         39.000000        0.00000                \n",
       "50%    28.000000         90.000000        0.00000                \n",
       "75%    44.000000         183.000000       1.00000                \n",
       "max    99.000000         840.000000       8.00000                \n",
       "\n",
       "       Time_in_Employment  Income_Range  Time_with_Bank  Value_of_Property  \\\n",
       "count  2495.000000         2500.000000   2491.000000     2.500000e+03        \n",
       "mean   110.312625          4.461200      203.924127      1.384299e+05        \n",
       "std    97.985434           1.588176      109.718539      1.410500e+05        \n",
       "min    1.000000            0.000000      1.000000        0.000000e+00        \n",
       "25%    42.000000           3.000000      120.000000      6.675000e+04        \n",
       "50%    78.000000           5.000000      192.000000      1.250000e+05        \n",
       "75%    151.500000          6.000000      273.000000      1.880000e+05        \n",
       "max    580.000000          6.000000      610.000000      2.700000e+06        \n",
       "\n",
       "       Total_Outstanding_Balances  Bureau Data - Monthly_Other_Co_Repayments  \\\n",
       "count  2.500000e+03                2500.000000                                 \n",
       "mean   7.694505e+04                592.243600                                  \n",
       "std    8.467378e+04                583.973148                                  \n",
       "min    0.000000e+00                0.000000                                    \n",
       "25%    1.038875e+04                126.000000                                  \n",
       "50%    5.839950e+04                492.500000                                  \n",
       "75%    1.143430e+05                850.250000                                  \n",
       "max    1.255925e+06                5848.000000                                 \n",
       "\n",
       "       Worst_History_CT          Age  \\\n",
       "count  2500.000000       2500.000000   \n",
       "mean   2.480800          44.750000     \n",
       "std    2.391301          11.207682     \n",
       "min    0.000000          20.000000     \n",
       "25%    0.000000          36.000000     \n",
       "50%    4.000000          44.000000     \n",
       "75%    5.000000          52.000000     \n",
       "max    6.000000          74.000000     \n",
       "\n",
       "       Total # Public Info. (Court +  bankruptcies)  \\\n",
       "count  2500.000000                                    \n",
       "mean   0.207200                                       \n",
       "std    0.649644                                       \n",
       "min    0.000000                                       \n",
       "25%    0.000000                                       \n",
       "50%    0.000000                                       \n",
       "75%    0.000000                                       \n",
       "max    7.000000                                       \n",
       "\n",
       "       Total value  Public Info. (Court + bankruptcies)  \\\n",
       "count  2500.000000                                        \n",
       "mean   4.355200                                           \n",
       "std    38.927913                                          \n",
       "min    0.000000                                           \n",
       "25%    0.000000                                           \n",
       "50%    0.000000                                           \n",
       "75%    0.000000                                           \n",
       "max    999.000000                                         \n",
       "\n",
       "       Time since most recent Public Info.  mnths  \\\n",
       "count  2500.000000                                  \n",
       "mean   90.345200                                    \n",
       "std    23.617679                                    \n",
       "min    1.000000                                     \n",
       "25%    99.000000                                    \n",
       "50%    99.000000                                    \n",
       "75%    99.000000                                    \n",
       "max    99.000000                                    \n",
       "\n",
       "       Total Value in Dispute if any  # of status=3's L6m  \\\n",
       "count  832.000000                     2500.000000           \n",
       "mean   49.644231                      0.342000              \n",
       "std    95.755999                      1.260822              \n",
       "min    1.000000                       0.000000              \n",
       "25%    5.000000                       0.000000              \n",
       "50%    17.000000                      0.000000              \n",
       "75%    54.000000                      0.000000              \n",
       "max    999.000000                     9.000000              \n",
       "\n",
       "       Searches - Total # L6m  Years on ER for SP  \\\n",
       "count  2170.000000             1992.000000          \n",
       "mean   3.285714                8.750502             \n",
       "std    2.233784                7.567908             \n",
       "min    1.000000                1.000000             \n",
       "25%    2.000000                3.000000             \n",
       "50%    3.000000                6.000000             \n",
       "75%    4.000000                13.000000            \n",
       "max    9.000000                34.000000            \n",
       "\n",
       "       Total # outstanding Court's  \\\n",
       "count  2500.00000                    \n",
       "mean   0.15760                       \n",
       "std    0.57419                       \n",
       "min    0.00000                       \n",
       "25%    0.00000                       \n",
       "50%    0.00000                       \n",
       "75%    0.00000                       \n",
       "max    7.00000                       \n",
       "\n",
       "       Total outstanding balance  (excl. mortgages)  Total # of accounts  \\\n",
       "count  2500.000000                                   2500.000000           \n",
       "mean   138.015600                                    6.081200              \n",
       "std    142.955463                                    2.574735              \n",
       "min    0.000000                                      1.000000              \n",
       "25%    37.000000                                     4.000000              \n",
       "50%    94.000000                                     6.000000              \n",
       "75%    194.000000                                    9.000000              \n",
       "max    999.000000                                    9.000000              \n",
       "\n",
       "       Time since most recent outstanding Court  Insurance_Product_Code  \\\n",
       "count  2500.000000                               1551.000000              \n",
       "mean   92.024400                                 722.291425               \n",
       "std    21.908715                                 14.090680                \n",
       "min    1.000000                                  672.000000               \n",
       "25%    99.000000                                 715.000000               \n",
       "50%    99.000000                                 715.000000               \n",
       "75%    99.000000                                 719.000000               \n",
       "max    99.000000                                 775.000000               \n",
       "\n",
       "               PPI  \n",
       "count  2500.000000  \n",
       "mean   0.620400     \n",
       "std    0.485384     \n",
       "min    0.000000     \n",
       "25%    0.000000     \n",
       "50%    1.000000     \n",
       "75%    1.000000     \n",
       "max    1.000000     "
      ]
     },
     "execution_count": 217,
     "metadata": {},
     "output_type": "execute_result"
    }
   ],
   "source": [
    "df[Numerical].describe()"
   ]
  },
  {
   "cell_type": "code",
   "execution_count": 168,
   "metadata": {},
   "outputs": [],
   "source": [
    "# df = df.drop('Ref',axis=1)"
   ]
  },
  {
   "cell_type": "code",
   "execution_count": 218,
   "metadata": {},
   "outputs": [
    {
     "data": {
      "text/plain": [
       "(2500, 52)"
      ]
     },
     "execution_count": 218,
     "metadata": {},
     "output_type": "execute_result"
    }
   ],
   "source": [
    "df.shape"
   ]
  },
  {
   "cell_type": "code",
   "execution_count": 219,
   "metadata": {},
   "outputs": [
    {
     "name": "stdout",
     "output_type": "stream",
     "text": [
      "Total categorical variables:  16\n"
     ]
    }
   ],
   "source": [
    "Categorical = df.dtypes[df.dtypes ==\"object\"].index\n",
    "print(\"Total categorical variables: \",len(Categorical))"
   ]
  },
  {
   "cell_type": "code",
   "execution_count": 220,
   "metadata": {},
   "outputs": [
    {
     "name": "stdout",
     "output_type": "stream",
     "text": [
      "Index(['Final_Grade', 'Loan Type', 'Residential_Status', 'Telephone_Indicator',\n",
      "       'Marital_Status', 'Gender', 'Employment_Status',\n",
      "       'Full_Part_Time_Empl_Ind', 'Perm_Temp_Empl_Ind',\n",
      "       ' Outstanding_Mortgage_Bal ', 'Payment_Method', 'Worst status L6m',\n",
      "       'Worst C0rrent Stat0s', 'Bankruptcy Detected (SP)',\n",
      "       'Any Frauds Detected', 'Insurance_Description'],\n",
      "      dtype='object')\n"
     ]
    }
   ],
   "source": [
    "print(Categorical)"
   ]
  },
  {
   "cell_type": "code",
   "execution_count": 284,
   "metadata": {},
   "outputs": [
    {
     "data": {
      "text/html": [
       "<div>\n",
       "<style scoped>\n",
       "    .dataframe tbody tr th:only-of-type {\n",
       "        vertical-align: middle;\n",
       "    }\n",
       "\n",
       "    .dataframe tbody tr th {\n",
       "        vertical-align: top;\n",
       "    }\n",
       "\n",
       "    .dataframe thead th {\n",
       "        text-align: right;\n",
       "    }\n",
       "</style>\n",
       "<table border=\"1\" class=\"dataframe\">\n",
       "  <thead>\n",
       "    <tr style=\"text-align: right;\">\n",
       "      <th></th>\n",
       "      <th>Final_Grade</th>\n",
       "      <th>Loan Type</th>\n",
       "      <th>Residential_Status</th>\n",
       "      <th>Telephone_Indicator</th>\n",
       "      <th>Marital_Status</th>\n",
       "      <th>Gender</th>\n",
       "      <th>Employment_Status</th>\n",
       "      <th>Full_Part_Time_Empl_Ind</th>\n",
       "      <th>Perm_Temp_Empl_Ind</th>\n",
       "      <th>Outstanding_Mortgage_Bal</th>\n",
       "      <th>Payment_Method</th>\n",
       "      <th>Worst status L6m</th>\n",
       "      <th>Worst C0rrent Stat0s</th>\n",
       "      <th>Bankruptcy Detected (SP)</th>\n",
       "      <th>Any Frauds Detected</th>\n",
       "      <th>Insurance_Description</th>\n",
       "    </tr>\n",
       "  </thead>\n",
       "  <tbody>\n",
       "    <tr>\n",
       "      <th>count</th>\n",
       "      <td>2500</td>\n",
       "      <td>2500</td>\n",
       "      <td>2500</td>\n",
       "      <td>2500</td>\n",
       "      <td>2500</td>\n",
       "      <td>2500</td>\n",
       "      <td>2500</td>\n",
       "      <td>2500</td>\n",
       "      <td>2500</td>\n",
       "      <td>2500</td>\n",
       "      <td>2500</td>\n",
       "      <td>2500</td>\n",
       "      <td>2500</td>\n",
       "      <td>2500</td>\n",
       "      <td>2500</td>\n",
       "      <td>1562</td>\n",
       "    </tr>\n",
       "    <tr>\n",
       "      <th>unique</th>\n",
       "      <td>10</td>\n",
       "      <td>2</td>\n",
       "      <td>4</td>\n",
       "      <td>2</td>\n",
       "      <td>4</td>\n",
       "      <td>2</td>\n",
       "      <td>8</td>\n",
       "      <td>2</td>\n",
       "      <td>2</td>\n",
       "      <td>1391</td>\n",
       "      <td>3</td>\n",
       "      <td>8</td>\n",
       "      <td>8</td>\n",
       "      <td>2</td>\n",
       "      <td>2</td>\n",
       "      <td>18</td>\n",
       "    </tr>\n",
       "    <tr>\n",
       "      <th>top</th>\n",
       "      <td>X</td>\n",
       "      <td>UnSecured</td>\n",
       "      <td>H</td>\n",
       "      <td>Y</td>\n",
       "      <td>M</td>\n",
       "      <td>M</td>\n",
       "      <td>P</td>\n",
       "      <td>F</td>\n",
       "      <td>P</td>\n",
       "      <td>-</td>\n",
       "      <td>D</td>\n",
       "      <td>0</td>\n",
       "      <td>0</td>\n",
       "      <td>N</td>\n",
       "      <td>N</td>\n",
       "      <td>Single</td>\n",
       "    </tr>\n",
       "    <tr>\n",
       "      <th>freq</th>\n",
       "      <td>708</td>\n",
       "      <td>2022</td>\n",
       "      <td>1940</td>\n",
       "      <td>2350</td>\n",
       "      <td>1454</td>\n",
       "      <td>1518</td>\n",
       "      <td>1488</td>\n",
       "      <td>2489</td>\n",
       "      <td>2494</td>\n",
       "      <td>751</td>\n",
       "      <td>2485</td>\n",
       "      <td>1350</td>\n",
       "      <td>1861</td>\n",
       "      <td>2497</td>\n",
       "      <td>2497</td>\n",
       "      <td>673</td>\n",
       "    </tr>\n",
       "  </tbody>\n",
       "</table>\n",
       "</div>"
      ],
      "text/plain": [
       "       Final_Grade  Loan Type Residential_Status Telephone_Indicator  \\\n",
       "count   2500        2500       2500               2500                 \n",
       "unique  10          2          4                  2                    \n",
       "top     X           UnSecured  H                  Y                    \n",
       "freq    708         2022       1940               2350                 \n",
       "\n",
       "       Marital_Status Gender Employment_Status Full_Part_Time_Empl_Ind  \\\n",
       "count   2500           2500   2500              2500                     \n",
       "unique  4              2      8                 2                        \n",
       "top     M              M      P                 F                        \n",
       "freq    1454           1518   1488              2489                     \n",
       "\n",
       "       Perm_Temp_Empl_Ind  Outstanding_Mortgage_Bal  Payment_Method  \\\n",
       "count   2500               2500                       2500            \n",
       "unique  2                  1391                       3               \n",
       "top     P                   -                         D               \n",
       "freq    2494               751                        2485            \n",
       "\n",
       "       Worst status L6m Worst C0rrent Stat0s Bankruptcy Detected (SP)  \\\n",
       "count   2500             2500                 2500                      \n",
       "unique  8                8                    2                         \n",
       "top     0                0                    N                         \n",
       "freq    1350             1861                 2497                      \n",
       "\n",
       "       Any Frauds Detected Insurance_Description  \n",
       "count   2500                1562                  \n",
       "unique  2                   18                    \n",
       "top     N                   Single                \n",
       "freq    2497                673                   "
      ]
     },
     "execution_count": 284,
     "metadata": {},
     "output_type": "execute_result"
    }
   ],
   "source": [
    "df[Categorical].describe()"
   ]
  },
  {
   "cell_type": "code",
   "execution_count": 222,
   "metadata": {},
   "outputs": [
    {
     "data": {
      "text/plain": [
       "X     708\n",
       "A     688\n",
       "B     319\n",
       "C     201\n",
       "D     188\n",
       "E     167\n",
       "F     89 \n",
       "O     65 \n",
       "R     48 \n",
       "S     27 \n",
       "Name: Final_Grade, dtype: int64"
      ]
     },
     "execution_count": 222,
     "metadata": {},
     "output_type": "execute_result"
    }
   ],
   "source": [
    "df['Final_Grade'].value_counts()"
   ]
  },
  {
   "cell_type": "code",
   "execution_count": 295,
   "metadata": {},
   "outputs": [
    {
     "data": {
      "text/html": [
       "<div>\n",
       "<style scoped>\n",
       "    .dataframe tbody tr th:only-of-type {\n",
       "        vertical-align: middle;\n",
       "    }\n",
       "\n",
       "    .dataframe tbody tr th {\n",
       "        vertical-align: top;\n",
       "    }\n",
       "\n",
       "    .dataframe thead th {\n",
       "        text-align: right;\n",
       "    }\n",
       "</style>\n",
       "<table border=\"1\" class=\"dataframe\">\n",
       "  <thead>\n",
       "    <tr style=\"text-align: right;\">\n",
       "      <th></th>\n",
       "      <th>Ref</th>\n",
       "      <th>Outstanding_Mortgage_Bal</th>\n",
       "    </tr>\n",
       "  </thead>\n",
       "  <tbody>\n",
       "    <tr>\n",
       "      <th>0</th>\n",
       "      <td>1</td>\n",
       "      <td>47,679.00</td>\n",
       "    </tr>\n",
       "    <tr>\n",
       "      <th>1</th>\n",
       "      <td>2</td>\n",
       "      <td>-</td>\n",
       "    </tr>\n",
       "    <tr>\n",
       "      <th>2</th>\n",
       "      <td>3</td>\n",
       "      <td>11,563.00</td>\n",
       "    </tr>\n",
       "    <tr>\n",
       "      <th>3</th>\n",
       "      <td>4</td>\n",
       "      <td>17,563.00</td>\n",
       "    </tr>\n",
       "    <tr>\n",
       "      <th>4</th>\n",
       "      <td>5</td>\n",
       "      <td>80,000.00</td>\n",
       "    </tr>\n",
       "    <tr>\n",
       "      <th>5</th>\n",
       "      <td>6</td>\n",
       "      <td>-</td>\n",
       "    </tr>\n",
       "    <tr>\n",
       "      <th>6</th>\n",
       "      <td>7</td>\n",
       "      <td>60,101.00</td>\n",
       "    </tr>\n",
       "    <tr>\n",
       "      <th>7</th>\n",
       "      <td>8</td>\n",
       "      <td>166,543.00</td>\n",
       "    </tr>\n",
       "    <tr>\n",
       "      <th>8</th>\n",
       "      <td>9</td>\n",
       "      <td>78,823.00</td>\n",
       "    </tr>\n",
       "    <tr>\n",
       "      <th>9</th>\n",
       "      <td>10</td>\n",
       "      <td>73,386.00</td>\n",
       "    </tr>\n",
       "  </tbody>\n",
       "</table>\n",
       "</div>"
      ],
      "text/plain": [
       "   Ref  Outstanding_Mortgage_Bal \n",
       "0  1     47,679.00               \n",
       "1  2     -                       \n",
       "2  3     11,563.00               \n",
       "3  4     17,563.00               \n",
       "4  5     80,000.00               \n",
       "5  6     -                       \n",
       "6  7     60,101.00               \n",
       "7  8     166,543.00              \n",
       "8  9     78,823.00               \n",
       "9  10    73,386.00               "
      ]
     },
     "execution_count": 295,
     "metadata": {},
     "output_type": "execute_result"
    }
   ],
   "source": [
    "df[['Ref',' Outstanding_Mortgage_Bal ']].head(10)"
   ]
  },
  {
   "cell_type": "code",
   "execution_count": 296,
   "metadata": {},
   "outputs": [
    {
     "data": {
      "text/html": [
       "<div>\n",
       "<style scoped>\n",
       "    .dataframe tbody tr th:only-of-type {\n",
       "        vertical-align: middle;\n",
       "    }\n",
       "\n",
       "    .dataframe tbody tr th {\n",
       "        vertical-align: top;\n",
       "    }\n",
       "\n",
       "    .dataframe thead th {\n",
       "        text-align: right;\n",
       "    }\n",
       "</style>\n",
       "<table border=\"1\" class=\"dataframe\">\n",
       "  <thead>\n",
       "    <tr style=\"text-align: right;\">\n",
       "      <th></th>\n",
       "      <th>Ref</th>\n",
       "      <th>Insurance_Description</th>\n",
       "    </tr>\n",
       "  </thead>\n",
       "  <tbody>\n",
       "    <tr>\n",
       "      <th>0</th>\n",
       "      <td>1</td>\n",
       "      <td>NaN</td>\n",
       "    </tr>\n",
       "    <tr>\n",
       "      <th>1</th>\n",
       "      <td>2</td>\n",
       "      <td>Joint</td>\n",
       "    </tr>\n",
       "    <tr>\n",
       "      <th>2</th>\n",
       "      <td>3</td>\n",
       "      <td>Life &amp; Critical Illn</td>\n",
       "    </tr>\n",
       "    <tr>\n",
       "      <th>3</th>\n",
       "      <td>4</td>\n",
       "      <td>Joint</td>\n",
       "    </tr>\n",
       "    <tr>\n",
       "      <th>4</th>\n",
       "      <td>5</td>\n",
       "      <td>NaN</td>\n",
       "    </tr>\n",
       "    <tr>\n",
       "      <th>5</th>\n",
       "      <td>6</td>\n",
       "      <td>Life &amp; Critical Illn</td>\n",
       "    </tr>\n",
       "    <tr>\n",
       "      <th>6</th>\n",
       "      <td>7</td>\n",
       "      <td>Single</td>\n",
       "    </tr>\n",
       "    <tr>\n",
       "      <th>7</th>\n",
       "      <td>8</td>\n",
       "      <td>Single</td>\n",
       "    </tr>\n",
       "    <tr>\n",
       "      <th>8</th>\n",
       "      <td>9</td>\n",
       "      <td>Single</td>\n",
       "    </tr>\n",
       "    <tr>\n",
       "      <th>9</th>\n",
       "      <td>10</td>\n",
       "      <td>NaN</td>\n",
       "    </tr>\n",
       "  </tbody>\n",
       "</table>\n",
       "</div>"
      ],
      "text/plain": [
       "   Ref Insurance_Description\n",
       "0  1    NaN                 \n",
       "1  2    Joint               \n",
       "2  3    Life & Critical Illn\n",
       "3  4    Joint               \n",
       "4  5    NaN                 \n",
       "5  6    Life & Critical Illn\n",
       "6  7    Single              \n",
       "7  8    Single              \n",
       "8  9    Single              \n",
       "9  10   NaN                 "
      ]
     },
     "execution_count": 296,
     "metadata": {},
     "output_type": "execute_result"
    }
   ],
   "source": [
    "# df['Insurance_Description'].head(20)\n",
    "df[['Ref','Insurance_Description']].head(10)"
   ]
  },
  {
   "cell_type": "code",
   "execution_count": 4,
   "metadata": {},
   "outputs": [
    {
     "data": {
      "text/html": [
       "<div>\n",
       "<style scoped>\n",
       "    .dataframe tbody tr th:only-of-type {\n",
       "        vertical-align: middle;\n",
       "    }\n",
       "\n",
       "    .dataframe tbody tr th {\n",
       "        vertical-align: top;\n",
       "    }\n",
       "\n",
       "    .dataframe thead th {\n",
       "        text-align: right;\n",
       "    }\n",
       "</style>\n",
       "<table border=\"1\" class=\"dataframe\">\n",
       "  <thead>\n",
       "    <tr style=\"text-align: right;\">\n",
       "      <th></th>\n",
       "      <th>Ref</th>\n",
       "      <th>Outstanding_Mortgage_Bal</th>\n",
       "    </tr>\n",
       "  </thead>\n",
       "  <tbody>\n",
       "    <tr>\n",
       "      <th>0</th>\n",
       "      <td>1</td>\n",
       "      <td>47679.0</td>\n",
       "    </tr>\n",
       "    <tr>\n",
       "      <th>1</th>\n",
       "      <td>2</td>\n",
       "      <td>NaN</td>\n",
       "    </tr>\n",
       "    <tr>\n",
       "      <th>2</th>\n",
       "      <td>3</td>\n",
       "      <td>11563.0</td>\n",
       "    </tr>\n",
       "    <tr>\n",
       "      <th>3</th>\n",
       "      <td>4</td>\n",
       "      <td>17563.0</td>\n",
       "    </tr>\n",
       "    <tr>\n",
       "      <th>4</th>\n",
       "      <td>5</td>\n",
       "      <td>80000.0</td>\n",
       "    </tr>\n",
       "    <tr>\n",
       "      <th>5</th>\n",
       "      <td>6</td>\n",
       "      <td>NaN</td>\n",
       "    </tr>\n",
       "    <tr>\n",
       "      <th>6</th>\n",
       "      <td>7</td>\n",
       "      <td>60101.0</td>\n",
       "    </tr>\n",
       "    <tr>\n",
       "      <th>7</th>\n",
       "      <td>8</td>\n",
       "      <td>166543.0</td>\n",
       "    </tr>\n",
       "    <tr>\n",
       "      <th>8</th>\n",
       "      <td>9</td>\n",
       "      <td>78823.0</td>\n",
       "    </tr>\n",
       "    <tr>\n",
       "      <th>9</th>\n",
       "      <td>10</td>\n",
       "      <td>73386.0</td>\n",
       "    </tr>\n",
       "  </tbody>\n",
       "</table>\n",
       "</div>"
      ],
      "text/plain": [
       "   Ref   Outstanding_Mortgage_Bal \n",
       "0    1                     47679.0\n",
       "1    2                         NaN\n",
       "2    3                     11563.0\n",
       "3    4                     17563.0\n",
       "4    5                     80000.0\n",
       "5    6                         NaN\n",
       "6    7                     60101.0\n",
       "7    8                    166543.0\n",
       "8    9                     78823.0\n",
       "9   10                     73386.0"
      ]
     },
     "execution_count": 4,
     "metadata": {},
     "output_type": "execute_result"
    }
   ],
   "source": [
    "df[' Outstanding_Mortgage_Bal '] = df[' Outstanding_Mortgage_Bal '].str.replace(',', '')\n",
    "df[' Outstanding_Mortgage_Bal '] = df[' Outstanding_Mortgage_Bal '].str.replace('-', '')\n",
    "\n",
    "df[' Outstanding_Mortgage_Bal '] = df[' Outstanding_Mortgage_Bal '].apply(pd.to_numeric, errors='coerce')\n",
    "df[['Ref',' Outstanding_Mortgage_Bal ']].head(10)"
   ]
  },
  {
   "cell_type": "code",
   "execution_count": 332,
   "metadata": {},
   "outputs": [
    {
     "name": "stdout",
     "output_type": "stream",
     "text": [
      "float64\n"
     ]
    }
   ],
   "source": [
    "print(df[' Outstanding_Mortgage_Bal '].dtype)"
   ]
  },
  {
   "cell_type": "code",
   "execution_count": 362,
   "metadata": {},
   "outputs": [
    {
     "name": "stdout",
     "output_type": "stream",
     "text": [
      "1    62.04\n",
      "0    37.96\n",
      "Name: PPI, dtype: float64\n"
     ]
    }
   ],
   "source": [
    "df['PPI'].value_counts()\n",
    "\n",
    "total_len = len(df['PPI'])\n",
    "percentage_lables = (df['PPI'].value_counts()/total_len)*100\n",
    "print(percentage_lables)"
   ]
  },
  {
   "cell_type": "code",
   "execution_count": 6,
   "metadata": {},
   "outputs": [],
   "source": [
    "missing_df = (df.isnull().sum()/df.isnull().count()*100).sort_values(ascending=False)"
   ]
  },
  {
   "cell_type": "code",
   "execution_count": 7,
   "metadata": {},
   "outputs": [
    {
     "data": {
      "text/plain": [
       "Total Value in Dispute if any    66.72\n",
       "Insurance_Product_Code           37.96\n",
       "Insurance_Description            37.52\n",
       " Outstanding_Mortgage_Bal        30.04\n",
       "Years on ER for SP               20.32\n",
       "Searches - Total # L6m           13.20\n",
       "Time_with_Bank                    0.36\n",
       "Time_in_Employment                0.20\n",
       "dtype: float64"
      ]
     },
     "execution_count": 7,
     "metadata": {},
     "output_type": "execute_result"
    }
   ],
   "source": [
    "missing_df.head(8)"
   ]
  },
  {
   "cell_type": "code",
   "execution_count": 8,
   "metadata": {},
   "outputs": [],
   "source": [
    "df1 = df.drop(['Total Value in Dispute if any','Insurance_Product_Code','Insurance_Description','Years on ER for SP',\n",
    "                 'Searches - Total # L6m'],axis = 1)\n",
    "# ' Outstanding_Mortgage_Bal '"
   ]
  },
  {
   "cell_type": "code",
   "execution_count": 9,
   "metadata": {},
   "outputs": [],
   "source": [
    "df1 = df1.fillna(0)"
   ]
  },
  {
   "cell_type": "code",
   "execution_count": 11,
   "metadata": {},
   "outputs": [],
   "source": [
    "# test[' Outstanding_Mortgage_Bal '] = test[' Outstanding_Mortgage_Bal '].astype(float)"
   ]
  },
  {
   "cell_type": "code",
   "execution_count": null,
   "metadata": {},
   "outputs": [],
   "source": [
    "df1.columns"
   ]
  },
  {
   "cell_type": "code",
   "execution_count": 368,
   "metadata": {},
   "outputs": [
    {
     "name": "stdout",
     "output_type": "stream",
     "text": [
      "The number of columns before missing value treatment:  52\n",
      "\n",
      "The number of columns after missing value treatment:  47\n"
     ]
    }
   ],
   "source": [
    "print(\"The number of columns before missing value treatment: \",df.shape[1])\n",
    "print(\"\\nThe number of columns after missing value treatment: \",df1.shape[1])"
   ]
  },
  {
   "cell_type": "code",
   "execution_count": 369,
   "metadata": {},
   "outputs": [
    {
     "data": {
      "text/plain": [
       "PPI                     0.0\n",
       "Number_of_Dependants    0.0\n",
       "ACCESS_Card             0.0\n",
       "Current_Account         0.0\n",
       "Income_Range            0.0\n",
       "dtype: float64"
      ]
     },
     "execution_count": 369,
     "metadata": {},
     "output_type": "execute_result"
    }
   ],
   "source": [
    "missing_df = (df1.isnull().sum()/df1.isnull().count()*100).sort_values(ascending=False)\n",
    "missing_df.head()"
   ]
  },
  {
   "cell_type": "code",
   "execution_count": 22,
   "metadata": {},
   "outputs": [
    {
     "data": {
      "image/png": "[encoded data removed]",
      "text/plain": [
       "<Figure size 1296x720 with 20 Axes>"
      ]
     },
     "metadata": {},
     "output_type": "display_data"
    }
   ],
   "source": [
    "# Outlier detection - Graphically\n",
    "import matplotlib.pyplot as plt\n",
    "df1.iloc[:,0:30].plot(kind='box',layout = (5,4),subplots=True,sharex=False,figsize=(18,10))\n",
    "plt.savefig(r'C:\\Users\\athiq.ahmed\\Desktop\\New folder\\outlier_1.png')\n",
    "plt.show()"
   ]
  },
  {
   "cell_type": "code",
   "execution_count": 23,
   "metadata": {},
   "outputs": [
    {
     "data": {
      "image/png": "[encoded data removed]",
      "text/plain": [
       "<Figure size 1296x720 with 20 Axes>"
      ]
     },
     "metadata": {},
     "output_type": "display_data"
    }
   ],
   "source": [
    "# Outlier detection - Graphically\n",
    "import matplotlib.pyplot as plt\n",
    "df1.iloc[:,31:].plot(kind='box',layout = (5,4),subplots=True,sharex=False,figsize=(18,10))\n",
    "plt.savefig(r'C:\\Users\\athiq.ahmed\\Desktop\\New folder\\outlier_2.png')\n",
    "plt.show()"
   ]
  },
  {
   "cell_type": "code",
   "execution_count": 349,
   "metadata": {},
   "outputs": [
    {
     "data": {
      "text/plain": [
       "Index(['Ref', 'Credit_Score', 'Final_Grade', 'Term', 'Net_Advance', 'APR',\n",
       "       'Loan Type', 'Customer Segment', 'Time_at_Address',\n",
       "       'Residential_Status', 'Telephone_Indicator', 'Number_of_Dependants',\n",
       "       'Marital_Status', 'Gender', 'Time_in_Employment', 'Employment_Status',\n",
       "       'Full_Part_Time_Empl_Ind', 'Perm_Temp_Empl_Ind', 'Income_Range',\n",
       "       'Current_Account', 'ACCESS_Card', 'VISA_Card', 'American_Express',\n",
       "       'Diners_Card', 'Cheque_Guarantee', 'Other_Credit_Store_Card',\n",
       "       'Time_with_Bank', 'Value_of_Property', ' Outstanding_Mortgage_Bal ',\n",
       "       'Total_Outstanding_Balances',\n",
       "       'Bureau Data - Monthly_Other_Co_Repayments', 'Worst_History_CT',\n",
       "       'Payment_Method', 'Age', 'Total # Public Info. (Court +  bankruptcies)',\n",
       "       'Total value  Public Info. (Court + bankruptcies)',\n",
       "       'Time since most recent Public Info.  mnths', 'Worst status L6m',\n",
       "       'Worst C0rrent Stat0s', '# of status=3's L6m',\n",
       "       'Bankruptcy Detected (SP)', 'Total # outstanding Court's',\n",
       "       'Total outstanding balance  (excl. mortgages)', 'Total # of accounts',\n",
       "       'Any Frauds Detected', 'Time since most recent outstanding Court',\n",
       "       'PPI'],\n",
       "      dtype='object')"
      ]
     },
     "execution_count": 349,
     "metadata": {},
     "output_type": "execute_result"
    }
   ],
   "source": [
    "df1.columns"
   ]
  },
  {
   "cell_type": "code",
   "execution_count": 372,
   "metadata": {},
   "outputs": [
    {
     "name": "stdout",
     "output_type": "stream",
     "text": [
      "The outlier percentage for Credit_Score is - 1.36\n",
      "The outlier percentage for Term is - 21.28\n"
     ]
    }
   ],
   "source": [
    "# Outlier detection - Qunatitativly\n",
    "# Any value, which is beyond the range of -1.5 x IQR to 1.5 x IQR\n",
    "from scipy import stats\n",
    "import numpy as np\n",
    "\n",
    "# df = df1\n",
    "Q1 = df1.quantile(0.25)\n",
    "Q3 = df1.quantile(0.75)\n",
    "IQR = Q3 - Q1\n",
    "\n",
    "print(\"The outlier percentage for Credit_Score is - \" + \"{:.2f}\".format(((df1.Credit_Score < (Q1.Credit_Score - 1.5 * IQR.Credit_Score)) | (df1.Credit_Score > (Q3.Credit_Score + 1.5 * IQR.Credit_Score))).sum()/(df1.Credit_Score.shape[0])*100))\n",
    "print(\"The outlier percentage for Term is - \" + \"{:.2f}\".format(((df1.Term < (Q1.Term - 1.5 * IQR.Term)) | (df1.Term > (Q3.Term + 1.5 * IQR.Term))).sum()/(df1.Term.shape[0])*100))"
   ]
  },
  {
   "cell_type": "code",
   "execution_count": 373,
   "metadata": {},
   "outputs": [],
   "source": [
    "# Outlier removal\n",
    "q1 = df1.quantile(0.25)\n",
    "q3 = df1.quantile(0.75)\n",
    "iqr = q3-q1 #Interquartile range\n",
    "fence_low  = q1-1.5*iqr\n",
    "fence_high = q3+1.5*iqr\n",
    "\n",
    "\n",
    "df1 = df1[(df1[\"Credit_Score\"] < fence_high.Credit_Score) & (df1[\"Credit_Score\"] > fence_low.Credit_Score)]\n",
    "df1 = df1[(df1[\"Term\"] < fence_high.Credit_Score) & (df1[\"Term\"] > fence_low.Term)]"
   ]
  },
  {
   "cell_type": "code",
   "execution_count": 356,
   "metadata": {},
   "outputs": [],
   "source": [
    "# fence_high"
   ]
  },
  {
   "cell_type": "code",
   "execution_count": 374,
   "metadata": {},
   "outputs": [
    {
     "name": "stdout",
     "output_type": "stream",
     "text": [
      "The outlier percentage for Credit_Score is - 0.00\n",
      "The outlier percentage for Term is - 14.73\n"
     ]
    }
   ],
   "source": [
    "print(\"The outlier percentage for Credit_Score is - \" + \"{:.2f}\".format(((df1.Credit_Score < (Q1.Credit_Score - 1.5 * IQR.Credit_Score)) | (df1.Credit_Score > (Q3.Credit_Score + 1.5 * IQR.Credit_Score))).sum()/(df1.Credit_Score.shape[0])*100))\n",
    "print(\"The outlier percentage for Term is - \" + \"{:.2f}\".format(((df1.Term < (Q1.Term - 1.5 * IQR.Term)) | (df1.Term > (Q3.Term + 1.5 * IQR.Term))).sum()/(df1.Term.shape[0])*100))"
   ]
  },
  {
   "cell_type": "code",
   "execution_count": 24,
   "metadata": {},
   "outputs": [
    {
     "data": {
      "image/png": "[encoded data removed]",
      "text/plain": [
       "<Figure size 1800x1800 with 36 Axes>"
      ]
     },
     "metadata": {},
     "output_type": "display_data"
    }
   ],
   "source": [
    "# To see the distributions of the continous variables\n",
    "import matplotlib.pyplot as plt\n",
    "df1.iloc[:,0:].hist(figsize=(25,25))\n",
    "plt.savefig(r'C:\\Users\\athiq.ahmed\\Desktop\\New folder\\Data_distribution.png')\n",
    "plt.show()"
   ]
  },
  {
   "cell_type": "code",
   "execution_count": 25,
   "metadata": {},
   "outputs": [
    {
     "data": {
      "image/png": "[encoded data removed]",
      "text/plain": [
       "<Figure size 720x504 with 2 Axes>"
      ]
     },
     "metadata": {},
     "output_type": "display_data"
    }
   ],
   "source": [
    "import seaborn as sns\n",
    "plt.subplots(figsize=(10,7))\n",
    "corr = df1.corr()\n",
    "sns.heatmap(corr, \n",
    "            xticklabels=corr.columns.values,cmap=sns.diverging_palette(220, 10, as_cmap=True),square=True,\n",
    "            yticklabels=corr.columns.values)\n",
    "plt.savefig(r'C:\\Users\\athiq.ahmed\\Desktop\\New folder\\corr.png')\n",
    "plt.show()"
   ]
  },
  {
   "cell_type": "code",
   "execution_count": 435,
   "metadata": {},
   "outputs": [
    {
     "data": {
      "text/plain": [
       "Index(['Ref', 'Credit_Score', 'Final_Grade', 'Term', 'Net_Advance', 'APR',\n",
       "       'Loan Type', 'Customer Segment', 'Time_at_Address',\n",
       "       'Residential_Status', 'Telephone_Indicator', 'Number_of_Dependants',\n",
       "       'Marital_Status', 'Gender', 'Time_in_Employment', 'Employment_Status',\n",
       "       'Full_Part_Time_Empl_Ind', 'Perm_Temp_Empl_Ind', 'Income_Range',\n",
       "       'Current_Account', 'ACCESS_Card', 'VISA_Card', 'American_Express',\n",
       "       'Diners_Card', 'Cheque_Guarantee', 'Other_Credit_Store_Card',\n",
       "       'Time_with_Bank', 'Value_of_Property', ' Outstanding_Mortgage_Bal ',\n",
       "       'Total_Outstanding_Balances',\n",
       "       'Bureau Data - Monthly_Other_Co_Repayments', 'Worst_History_CT',\n",
       "       'Payment_Method', 'Age', 'Total # Public Info. (Court +  bankruptcies)',\n",
       "       'Total value  Public Info. (Court + bankruptcies)',\n",
       "       'Time since most recent Public Info.  mnths', 'Worst status L6m',\n",
       "       'Worst C0rrent Stat0s', '# of status=3's L6m',\n",
       "       'Bankruptcy Detected (SP)', 'Total # outstanding Court's',\n",
       "       'Total outstanding balance  (excl. mortgages)', 'Total # of accounts',\n",
       "       'Any Frauds Detected', 'Time since most recent outstanding Court',\n",
       "       'PPI'],\n",
       "      dtype='object')"
      ]
     },
     "execution_count": 435,
     "metadata": {},
     "output_type": "execute_result"
    }
   ],
   "source": [
    "df1.columns"
   ]
  },
  {
   "cell_type": "code",
   "execution_count": 704,
   "metadata": {},
   "outputs": [],
   "source": [
    "data = df1[['Credit_Score','Time_with_Bank',' Outstanding_Mortgage_Bal ','APR','Age',\n",
    "              'Number_of_Dependants','Term','Income_Range','Worst_History_CT','PPI'\n",
    "             ]]"
   ]
  },
  {
   "cell_type": "code",
   "execution_count": 666,
   "metadata": {},
   "outputs": [
    {
     "data": {
      "text/html": [
       "<div>\n",
       "<style scoped>\n",
       "    .dataframe tbody tr th:only-of-type {\n",
       "        vertical-align: middle;\n",
       "    }\n",
       "\n",
       "    .dataframe tbody tr th {\n",
       "        vertical-align: top;\n",
       "    }\n",
       "\n",
       "    .dataframe thead th {\n",
       "        text-align: right;\n",
       "    }\n",
       "</style>\n",
       "<table border=\"1\" class=\"dataframe\">\n",
       "  <thead>\n",
       "    <tr style=\"text-align: right;\">\n",
       "      <th></th>\n",
       "      <th>Credit_Score</th>\n",
       "      <th>Time_with_Bank</th>\n",
       "      <th>Outstanding_Mortgage_Bal</th>\n",
       "      <th>APR</th>\n",
       "      <th>Age</th>\n",
       "      <th>Number_of_Dependants</th>\n",
       "      <th>Term</th>\n",
       "      <th>Income_Range</th>\n",
       "      <th>Worst_History_CT</th>\n",
       "      <th>PPI</th>\n",
       "    </tr>\n",
       "  </thead>\n",
       "  <tbody>\n",
       "    <tr>\n",
       "      <th>0</th>\n",
       "      <td>918</td>\n",
       "      <td>168.0</td>\n",
       "      <td>47679.0</td>\n",
       "      <td>14.4</td>\n",
       "      <td>46</td>\n",
       "      <td>0</td>\n",
       "      <td>36</td>\n",
       "      <td>6</td>\n",
       "      <td>5</td>\n",
       "      <td>0</td>\n",
       "    </tr>\n",
       "    <tr>\n",
       "      <th>1</th>\n",
       "      <td>978</td>\n",
       "      <td>132.0</td>\n",
       "      <td>0.0</td>\n",
       "      <td>9.9</td>\n",
       "      <td>53</td>\n",
       "      <td>0</td>\n",
       "      <td>60</td>\n",
       "      <td>6</td>\n",
       "      <td>0</td>\n",
       "      <td>1</td>\n",
       "    </tr>\n",
       "    <tr>\n",
       "      <th>2</th>\n",
       "      <td>903</td>\n",
       "      <td>300.0</td>\n",
       "      <td>11563.0</td>\n",
       "      <td>7.9</td>\n",
       "      <td>59</td>\n",
       "      <td>0</td>\n",
       "      <td>120</td>\n",
       "      <td>2</td>\n",
       "      <td>5</td>\n",
       "      <td>1</td>\n",
       "    </tr>\n",
       "    <tr>\n",
       "      <th>3</th>\n",
       "      <td>1060</td>\n",
       "      <td>369.0</td>\n",
       "      <td>17563.0</td>\n",
       "      <td>7.9</td>\n",
       "      <td>56</td>\n",
       "      <td>0</td>\n",
       "      <td>78</td>\n",
       "      <td>5</td>\n",
       "      <td>0</td>\n",
       "      <td>1</td>\n",
       "    </tr>\n",
       "    <tr>\n",
       "      <th>4</th>\n",
       "      <td>1032</td>\n",
       "      <td>240.0</td>\n",
       "      <td>80000.0</td>\n",
       "      <td>7.9</td>\n",
       "      <td>45</td>\n",
       "      <td>0</td>\n",
       "      <td>60</td>\n",
       "      <td>6</td>\n",
       "      <td>0</td>\n",
       "      <td>0</td>\n",
       "    </tr>\n",
       "  </tbody>\n",
       "</table>\n",
       "</div>"
      ],
      "text/plain": [
       "   Credit_Score  Time_with_Bank   Outstanding_Mortgage_Bal    APR  Age  \\\n",
       "0  918           168.0           47679.0                     14.4  46    \n",
       "1  978           132.0           0.0                         9.9   53    \n",
       "2  903           300.0           11563.0                     7.9   59    \n",
       "3  1060          369.0           17563.0                     7.9   56    \n",
       "4  1032          240.0           80000.0                     7.9   45    \n",
       "\n",
       "   Number_of_Dependants  Term  Income_Range  Worst_History_CT  PPI  \n",
       "0  0                     36    6             5                 0    \n",
       "1  0                     60    6             0                 1    \n",
       "2  0                     120   2             5                 1    \n",
       "3  0                     78    5             0                 1    \n",
       "4  0                     60    6             0                 0    "
      ]
     },
     "execution_count": 666,
     "metadata": {},
     "output_type": "execute_result"
    }
   ],
   "source": [
    "data.head()"
   ]
  },
  {
   "cell_type": "markdown",
   "metadata": {},
   "source": [
    "##### https://gist.github.com/benadaba/0f4274b82b4f2fa2bf35"
   ]
  },
  {
   "cell_type": "code",
   "execution_count": 69,
   "metadata": {},
   "outputs": [],
   "source": [
    "from pandas import Series, DataFrame\n",
    "import pandas as pd\n",
    "import numpy as np\n",
    "import matplotlib.pylab as plt\n",
    "from sklearn.cross_validation import train_test_split\n",
    "from sklearn import preprocessing\n",
    "from sklearn.cluster import KMeans"
   ]
  },
  {
   "cell_type": "code",
   "execution_count": 70,
   "metadata": {},
   "outputs": [
    {
     "data": {
      "text/plain": [
       "Credit_Score                    int64\n",
       "Time_with_Bank                float64\n",
       " Outstanding_Mortgage_Bal     float64\n",
       "APR                           float64\n",
       "Age                             int64\n",
       "Number_of_Dependants            int64\n",
       "Term                            int64\n",
       "Income_Range                    int64\n",
       "Worst_History_CT                int64\n",
       "PPI                             int64\n",
       "clusters                        int32\n",
       "dtype: object"
      ]
     },
     "execution_count": 70,
     "metadata": {},
     "output_type": "execute_result"
    }
   ],
   "source": [
    "data.dtypes"
   ]
  },
  {
   "cell_type": "code",
   "execution_count": 71,
   "metadata": {},
   "outputs": [],
   "source": [
    "# standardize clustering variables to have mean=0 and sd=1\n",
    "\n",
    "data2=data.copy()\n",
    "data2['Credit_Score']=preprocessing.scale(data2['Credit_Score'].astype('float64'))\n",
    "data2['Time_with_Bank']=preprocessing.scale(data2['Time_with_Bank'].astype('float64'))\n",
    "data2[' Outstanding_Mortgage_Bal ']=preprocessing.scale(data2[' Outstanding_Mortgage_Bal '].astype('float64'))\n",
    "data2['APR']=preprocessing.scale(data2['APR'].astype('float64'))\n",
    "data2['Age']=preprocessing.scale(data2['Age'].astype('float64'))\n",
    "data2['Number_of_Dependants']=preprocessing.scale(data2['Number_of_Dependants'].astype('float64'))\n",
    "data2['Term']=preprocessing.scale(data2['Term'].astype('float64'))\n",
    "data2['Income_Range']=preprocessing.scale(data2['Income_Range'].astype('float64'))\n",
    "data2['Worst_History_CT']=preprocessing.scale(data2['Worst_History_CT'].astype('float64'))\n",
    "data2['PPI']=preprocessing.scale(data2['PPI'].astype('float64'))"
   ]
  },
  {
   "cell_type": "code",
   "execution_count": 72,
   "metadata": {},
   "outputs": [
    {
     "data": {
      "text/html": [
       "<div>\n",
       "<style scoped>\n",
       "    .dataframe tbody tr th:only-of-type {\n",
       "        vertical-align: middle;\n",
       "    }\n",
       "\n",
       "    .dataframe tbody tr th {\n",
       "        vertical-align: top;\n",
       "    }\n",
       "\n",
       "    .dataframe thead th {\n",
       "        text-align: right;\n",
       "    }\n",
       "</style>\n",
       "<table border=\"1\" class=\"dataframe\">\n",
       "  <thead>\n",
       "    <tr style=\"text-align: right;\">\n",
       "      <th></th>\n",
       "      <th>Credit_Score</th>\n",
       "      <th>Time_with_Bank</th>\n",
       "      <th>Outstanding_Mortgage_Bal</th>\n",
       "      <th>APR</th>\n",
       "      <th>Age</th>\n",
       "      <th>Number_of_Dependants</th>\n",
       "      <th>Term</th>\n",
       "      <th>Income_Range</th>\n",
       "      <th>Worst_History_CT</th>\n",
       "      <th>PPI</th>\n",
       "      <th>clusters</th>\n",
       "    </tr>\n",
       "  </thead>\n",
       "  <tbody>\n",
       "    <tr>\n",
       "      <th>0</th>\n",
       "      <td>0.331691</td>\n",
       "      <td>-0.319393</td>\n",
       "      <td>-0.256262</td>\n",
       "      <td>-0.354468</td>\n",
       "      <td>0.111553</td>\n",
       "      <td>-0.682628</td>\n",
       "      <td>-0.930705</td>\n",
       "      <td>0.969104</td>\n",
       "      <td>1.053696</td>\n",
       "      <td>-1.278418</td>\n",
       "      <td>5</td>\n",
       "    </tr>\n",
       "    <tr>\n",
       "      <th>1</th>\n",
       "      <td>0.960521</td>\n",
       "      <td>-0.646137</td>\n",
       "      <td>-0.831937</td>\n",
       "      <td>-0.813597</td>\n",
       "      <td>0.736249</td>\n",
       "      <td>-0.682628</td>\n",
       "      <td>-0.015287</td>\n",
       "      <td>0.969104</td>\n",
       "      <td>-1.037635</td>\n",
       "      <td>0.782217</td>\n",
       "      <td>0</td>\n",
       "    </tr>\n",
       "    <tr>\n",
       "      <th>2</th>\n",
       "      <td>0.174484</td>\n",
       "      <td>0.878670</td>\n",
       "      <td>-0.692326</td>\n",
       "      <td>-1.017654</td>\n",
       "      <td>1.271704</td>\n",
       "      <td>-0.682628</td>\n",
       "      <td>2.273257</td>\n",
       "      <td>-1.550012</td>\n",
       "      <td>1.053696</td>\n",
       "      <td>0.782217</td>\n",
       "      <td>0</td>\n",
       "    </tr>\n",
       "    <tr>\n",
       "      <th>3</th>\n",
       "      <td>1.819922</td>\n",
       "      <td>1.504930</td>\n",
       "      <td>-0.619882</td>\n",
       "      <td>-1.017654</td>\n",
       "      <td>1.003977</td>\n",
       "      <td>-0.682628</td>\n",
       "      <td>0.671276</td>\n",
       "      <td>0.339325</td>\n",
       "      <td>-1.037635</td>\n",
       "      <td>0.782217</td>\n",
       "      <td>0</td>\n",
       "    </tr>\n",
       "    <tr>\n",
       "      <th>4</th>\n",
       "      <td>1.526468</td>\n",
       "      <td>0.334096</td>\n",
       "      <td>0.133981</td>\n",
       "      <td>-1.017654</td>\n",
       "      <td>0.022311</td>\n",
       "      <td>-0.682628</td>\n",
       "      <td>-0.015287</td>\n",
       "      <td>0.969104</td>\n",
       "      <td>-1.037635</td>\n",
       "      <td>-1.278418</td>\n",
       "      <td>3</td>\n",
       "    </tr>\n",
       "  </tbody>\n",
       "</table>\n",
       "</div>"
      ],
      "text/plain": [
       "   Credit_Score  Time_with_Bank   Outstanding_Mortgage_Bal        APR  \\\n",
       "0      0.331691       -0.319393                   -0.256262 -0.354468   \n",
       "1      0.960521       -0.646137                   -0.831937 -0.813597   \n",
       "2      0.174484        0.878670                   -0.692326 -1.017654   \n",
       "3      1.819922        1.504930                   -0.619882 -1.017654   \n",
       "4      1.526468        0.334096                    0.133981 -1.017654   \n",
       "\n",
       "        Age  Number_of_Dependants      Term  Income_Range  Worst_History_CT  \\\n",
       "0  0.111553             -0.682628 -0.930705      0.969104          1.053696   \n",
       "1  0.736249             -0.682628 -0.015287      0.969104         -1.037635   \n",
       "2  1.271704             -0.682628  2.273257     -1.550012          1.053696   \n",
       "3  1.003977             -0.682628  0.671276      0.339325         -1.037635   \n",
       "4  0.022311             -0.682628 -0.015287      0.969104         -1.037635   \n",
       "\n",
       "        PPI  clusters  \n",
       "0 -1.278418         5  \n",
       "1  0.782217         0  \n",
       "2  0.782217         0  \n",
       "3  0.782217         0  \n",
       "4 -1.278418         3  "
      ]
     },
     "execution_count": 72,
     "metadata": {},
     "output_type": "execute_result"
    }
   ],
   "source": [
    "data2.head()"
   ]
  },
  {
   "cell_type": "code",
   "execution_count": 73,
   "metadata": {},
   "outputs": [],
   "source": [
    "# split data into train and test sets\n",
    "clus_train, clus_test = train_test_split(data2, test_size=.3, random_state=123)"
   ]
  },
  {
   "cell_type": "code",
   "execution_count": 675,
   "metadata": {},
   "outputs": [
    {
     "data": {
      "text/plain": [
       "Text(0.5,1,'Selecting k with the Elbow Method')"
      ]
     },
     "execution_count": 675,
     "metadata": {},
     "output_type": "execute_result"
    },
    {
     "data": {
      "image/png": "[encoded data removed]",
      "text/plain": [
       "<Figure size 432x288 with 1 Axes>"
      ]
     },
     "metadata": {},
     "output_type": "display_data"
    }
   ],
   "source": [
    "# k-means cluster analysis for 1-9 clusters                                                           \n",
    "from scipy.spatial.distance import cdist\n",
    "clusters=range(1,10)\n",
    "meandist=[]\n",
    "\n",
    "for k in clusters:\n",
    "    model=KMeans(n_clusters=k)\n",
    "    model.fit(clus_train)\n",
    "    clusassign=model.predict(clus_train)\n",
    "    meandist.append(sum(np.min(cdist(clus_train, model.cluster_centers_, 'euclidean'), axis=1)) \n",
    "    / clus_train.shape[0])\n",
    "\n",
    "\"\"\"\n",
    "Plot average distance from observations from the cluster centroid\n",
    "to use the Elbow Method to identify number of clusters to choose\n",
    "\"\"\"\n",
    "\n",
    "plt.plot(clusters, meandist)\n",
    "plt.xlabel('Number of clusters')\n",
    "plt.ylabel('Average distance')\n",
    "plt.title('Selecting k with the Elbow Method')"
   ]
  },
  {
   "cell_type": "code",
   "execution_count": 678,
   "metadata": {},
   "outputs": [
    {
     "data": {
      "image/png": "[encoded data removed]",
      "text/plain": [
       "<Figure size 432x288 with 1 Axes>"
      ]
     },
     "metadata": {},
     "output_type": "display_data"
    }
   ],
   "source": [
    "# Interpret 3 cluster solution\n",
    "model3=KMeans(n_clusters=3)\n",
    "model3.fit(clus_train)\n",
    "clusassign=model3.predict(clus_train)\n",
    "# plot clusters\n",
    "\n",
    "from sklearn.decomposition import PCA\n",
    "pca_2 = PCA(2)\n",
    "plot_columns = pca_2.fit_transform(clus_train)\n",
    "plt.scatter(x=plot_columns[:,0], y=plot_columns[:,1], c=model3.labels_,)\n",
    "plt.xlabel('Canonical variable 1')\n",
    "plt.ylabel('Canonical variable 2')\n",
    "plt.title('Scatterplot of Canonical Variables for 3 Clusters')\n",
    "plt.show()"
   ]
  },
  {
   "cell_type": "code",
   "execution_count": 679,
   "metadata": {},
   "outputs": [],
   "source": [
    "\"\"\"\n",
    "BEGIN multiple steps to merge cluster assignment with clustering variables to examine\n",
    "cluster variable means by cluster\n",
    "\"\"\"\n",
    "# create a unique identifier variable from the index for the \n",
    "# cluster training data to merge with the cluster assignment variable\n",
    "clus_train.reset_index(level=0, inplace=True)\n",
    "# create a list that has the new index variable\n",
    "cluslist=list(clus_train['index'])\n",
    "# create a list of cluster assignments\n",
    "labels=list(model3.labels_)\n",
    "# combine index variable list with cluster assignment list into a dictionary\n",
    "newlist=dict(zip(cluslist, labels))\n",
    "newlist\n",
    "# convert newlist dictionary to a dataframe\n",
    "newclus=DataFrame.from_dict(newlist, orient='index')\n",
    "newclus\n",
    "# rename the cluster assignment column\n",
    "newclus.columns = ['cluster']"
   ]
  },
  {
   "cell_type": "code",
   "execution_count": 680,
   "metadata": {},
   "outputs": [
    {
     "data": {
      "text/plain": [
       "'\\nEND multiple steps to merge cluster assignment with clustering variables to examine\\ncluster variable means by cluster\\n'"
      ]
     },
     "execution_count": 680,
     "metadata": {},
     "output_type": "execute_result"
    }
   ],
   "source": [
    "# now do the same for the cluster assignment variable\n",
    "# create a unique identifier variable from the index for the \n",
    "# cluster assignment dataframe \n",
    "# to merge with cluster training data\n",
    "newclus.reset_index(level=0, inplace=True)\n",
    "# merge the cluster assignment dataframe with the cluster training variable dataframe\n",
    "# by the index variable\n",
    "merged_train=pd.merge(clus_train, newclus, on='index')\n",
    "merged_train.head(n=100)\n",
    "# cluster frequencies\n",
    "merged_train.cluster.value_counts()\n",
    "\n",
    "\"\"\"\n",
    "END multiple steps to merge cluster assignment with clustering variables to examine\n",
    "cluster variable means by cluster\n",
    "\"\"\""
   ]
  },
  {
   "cell_type": "code",
   "execution_count": 681,
   "metadata": {},
   "outputs": [
    {
     "name": "stdout",
     "output_type": "stream",
     "text": [
      "Clustering variable means by cluster\n",
      "               index  Credit_Score  Time_with_Bank  \\\n",
      "cluster                                              \n",
      "0        1311.503058  0.720374      0.625054         \n",
      "1        1222.698444 -0.117356     -0.244998         \n",
      "2        1229.425121 -0.900620     -0.661591         \n",
      "\n",
      "          Outstanding_Mortgage_Bal        APR       Age  Number_of_Dependants  \\\n",
      "cluster                                                                         \n",
      "0       -0.329628                   -0.582735  0.797073 -0.353479               \n",
      "1        0.788342                   -0.246385 -0.438561  0.636145               \n",
      "2       -0.472990                    1.140708 -0.618375 -0.205273               \n",
      "\n",
      "             Term  Income_Range  Worst_History_CT       PPI  \n",
      "cluster                                                      \n",
      "0       -0.011800 -0.002837     -0.413327          0.055987  \n",
      "1        0.414547  0.601254      0.227755         -0.152731  \n",
      "2       -0.493697 -0.760675      0.239615          0.131944  \n"
     ]
    }
   ],
   "source": [
    "# FINALLY calculate clustering variable means by cluster\n",
    "clustergrp = merged_train.groupby('cluster').mean()\n",
    "print (\"Clustering variable means by cluster\")\n",
    "print(clustergrp)"
   ]
  },
  {
   "cell_type": "code",
   "execution_count": 692,
   "metadata": {},
   "outputs": [],
   "source": [
    "# validate clusters in training data by examining cluster differences in lifeexpectancy using ANOVA\n",
    "# first have to merge lifeexpectancy with clustering variables and cluster assignment data \n",
    "gpa_data=data['PPI']\n",
    "# split lifeexpectancy data into train and test sets\n",
    "gpa_train, gpa_test = train_test_split(gpa_data, test_size=.3, random_state=123)\n",
    "gpa_train1=pd.DataFrame(gpa_train)\n",
    "gpa_train1.reset_index(level=0, inplace=True)\n",
    "merged_train_all=pd.merge(gpa_train1, merged_train, on='index')\n",
    "sub1 = merged_train_all[['PPI_y', 'cluster']].dropna()"
   ]
  },
  {
   "cell_type": "code",
   "execution_count": 693,
   "metadata": {},
   "outputs": [
    {
     "name": "stdout",
     "output_type": "stream",
     "text": [
      "                            OLS Regression Results                            \n",
      "==============================================================================\n",
      "Dep. Variable:                  PPI_y   R-squared:                       0.013\n",
      "Model:                            OLS   Adj. R-squared:                  0.012\n",
      "Method:                 Least Squares   F-statistic:                     10.74\n",
      "Date:                Wed, 05 Sep 2018   Prob (F-statistic):           2.32e-05\n",
      "Time:                        17:26:20   Log-Likelihood:                -2230.5\n",
      "No. Observations:                1582   AIC:                             4467.\n",
      "Df Residuals:                    1579   BIC:                             4483.\n",
      "Df Model:                           2                                         \n",
      "Covariance Type:            nonrobust                                         \n",
      "===================================================================================\n",
      "                      coef    std err          t      P>|t|      [0.025      0.975]\n",
      "-----------------------------------------------------------------------------------\n",
      "Intercept           0.0560      0.039      1.443      0.149      -0.020       0.132\n",
      "C(cluster)[T.1]    -0.2087      0.058     -3.569      0.000      -0.323      -0.094\n",
      "C(cluster)[T.2]     0.0760      0.062      1.219      0.223      -0.046       0.198\n",
      "==============================================================================\n",
      "Omnibus:                       71.859   Durbin-Watson:                   2.035\n",
      "Prob(Omnibus):                  0.000   Jarque-Bera (JB):              256.926\n",
      "Skew:                          -0.555   Prob(JB):                     1.62e-56\n",
      "Kurtosis:                       1.367   Cond. No.                         3.44\n",
      "==============================================================================\n",
      "\n",
      "Warnings:\n",
      "[1] Standard Errors assume that the covariance matrix of the errors is correctly specified.\n",
      "means for lifeexpectancy by cluster\n",
      "            PPI_y\n",
      "cluster          \n",
      "0        0.055987\n",
      "1       -0.152731\n",
      "2        0.131944\n",
      "standard deviations for lifeexpectancy by cluster\n",
      "            PPI_y\n",
      "cluster          \n",
      "0        0.983713\n",
      "1        1.030710\n",
      "2        0.955277\n",
      "Multiple Comparison of Means - Tukey HSD,FWER=0.05\n",
      "=============================================\n",
      "group1 group2 meandiff  lower   upper  reject\n",
      "---------------------------------------------\n",
      "  0      1    -0.2087  -0.3459 -0.0715  True \n",
      "  0      2     0.076   -0.0702  0.2221 False \n",
      "  1      2     0.2847   0.131   0.4384  True \n",
      "---------------------------------------------\n"
     ]
    }
   ],
   "source": [
    "import statsmodels.formula.api as smf\n",
    "import statsmodels.stats.multicomp as multi \n",
    "\n",
    "lfemod = smf.ols(formula='PPI_y ~ C(cluster)', data=sub1).fit()\n",
    "print (lfemod.summary())\n",
    "\n",
    "print ('means for lifeexpectancy by cluster')\n",
    "m1= sub1.groupby('cluster').mean()\n",
    "print (m1)\n",
    "\n",
    "print ('standard deviations for lifeexpectancy by cluster')\n",
    "m2= sub1.groupby('cluster').std()\n",
    "print (m2)\n",
    "\n",
    "mc1 = multi.MultiComparison(sub1['PPI_y'], sub1['cluster'])\n",
    "res1 = mc1.tukeyhsd()\n",
    "print(res1.summary())"
   ]
  },
  {
   "cell_type": "code",
   "execution_count": 694,
   "metadata": {},
   "outputs": [
    {
     "data": {
      "text/plain": [
       "'\\nEND multiple steps to merge cluster assignment with clustering variables to examine\\ncluster variable means by cluster\\n'"
      ]
     },
     "execution_count": 694,
     "metadata": {},
     "output_type": "execute_result"
    }
   ],
   "source": [
    "\"\"\"\n",
    "VALIDATION\n",
    "BEGIN multiple steps to merge cluster assignment with clustering variables to examine\n",
    "cluster variable means by cluster in test data set\n",
    "\"\"\"\n",
    "# create a variable out of the index for the cluster training dataframe to merge on\n",
    "clus_test.reset_index(level=0, inplace=True)\n",
    "# create a list that has the new index variable\n",
    "cluslistval=list(clus_test['index'])\n",
    "# create a list of cluster assignments\n",
    "#labelsval=list(clusassignval)\n",
    "labelsval=list(cluslistval)\n",
    "# combine index variable list with labels list into a dictionary\n",
    "#newlistval=dict(zip(cluslistval, clusassignval))\n",
    "newlistval=dict(zip(cluslistval, labelsval))\n",
    "newlistval\n",
    "# convert newlist dictionary to a dataframe\n",
    "newclusval=DataFrame.from_dict(newlistval, orient='index')\n",
    "newclusval\n",
    "# rename the cluster assignment column\n",
    "newclusval.columns = ['cluster']\n",
    "# create a variable out of the index for the cluster assignment dataframe to merge on\n",
    "newclusval.reset_index(level=0, inplace=True)\n",
    "# merge the cluster assignment dataframe with the cluster training variable dataframe\n",
    "# by the index variable\n",
    "merged_test=pd.merge(clus_test, newclusval, on='index')\n",
    "# cluster frequencies\n",
    "merged_test.cluster.value_counts()\n",
    "\"\"\"\n",
    "END multiple steps to merge cluster assignment with clustering variables to examine\n",
    "cluster variable means by cluster\n",
    "\"\"\""
   ]
  },
  {
   "cell_type": "code",
   "execution_count": null,
   "metadata": {
    "scrolled": false
   },
   "outputs": [],
   "source": [
    "# calculate test data clustering variable means by cluster\n",
    "clustergrpval = merged_test.groupby('cluster').mean()\n",
    "print (\"Test data clustering variable means by cluster\")\n",
    "print(clustergrpval)"
   ]
  },
  {
   "cell_type": "code",
   "execution_count": null,
   "metadata": {},
   "outputs": [],
   "source": []
  },
  {
   "cell_type": "code",
   "execution_count": null,
   "metadata": {},
   "outputs": [],
   "source": []
  },
  {
   "cell_type": "code",
   "execution_count": null,
   "metadata": {},
   "outputs": [],
   "source": []
  },
  {
   "cell_type": "markdown",
   "metadata": {},
   "source": [
    "##### version - 2"
   ]
  },
  {
   "cell_type": "markdown",
   "metadata": {},
   "source": [
    "###### https://datascience.stackexchange.com/questions/16700/confused-about-how-to-apply-kmeans-on-my-a-dataset-with-features-extracted"
   ]
  },
  {
   "cell_type": "code",
   "execution_count": 30,
   "metadata": {},
   "outputs": [],
   "source": [
    "import pandas as pd\n",
    "from scipy import stats\n",
    "from sklearn.cluster import KMeans\n",
    "import matplotlib.pyplot as plt\n",
    "import seaborn as sns"
   ]
  },
  {
   "cell_type": "code",
   "execution_count": 31,
   "metadata": {},
   "outputs": [],
   "source": [
    "data = df1[['Credit_Score','Time_with_Bank',' Outstanding_Mortgage_Bal ','APR','Age',\n",
    "              'Number_of_Dependants','Term','Income_Range','Worst_History_CT','PPI'\n",
    "             ]]"
   ]
  },
  {
   "cell_type": "code",
   "execution_count": 32,
   "metadata": {},
   "outputs": [],
   "source": [
    "#Standardize\n",
    "\n",
    "clmns = ['Credit_Score','Time_with_Bank',' Outstanding_Mortgage_Bal ','APR','Age',\n",
    "              'Number_of_Dependants','Term','Income_Range','Worst_History_CT']\n",
    "\n",
    "data_std = stats.zscore(data[clmns])"
   ]
  },
  {
   "cell_type": "code",
   "execution_count": 37,
   "metadata": {},
   "outputs": [
    {
     "data": {
      "text/plain": [
       "array([[ 0.33169109, -0.31939251, -0.25626224, ..., -0.9307052 ,\n",
       "         0.969104  ,  1.05369604],\n",
       "       [ 0.96052115, -0.64613677, -0.83193719, ..., -0.01528748,\n",
       "         0.969104  , -1.03763462],\n",
       "       [ 0.17448357,  0.87866976, -0.69232584, ...,  2.27325683,\n",
       "        -1.55001219,  1.05369604],\n",
       "       ...,\n",
       "       [ 1.4950267 ,  0.334096  , -0.83193719, ..., -0.9307052 ,\n",
       "         0.969104  , -1.03763462],\n",
       "       [ 1.55790971,  1.96781729, -0.83193719, ..., -0.01528748,\n",
       "        -0.2904541 , -1.03763462],\n",
       "       [ 0.02775656, -1.24516791,  0.79804913, ..., -0.01528748,\n",
       "         0.969104  , -1.03763462]])"
      ]
     },
     "execution_count": 37,
     "metadata": {},
     "output_type": "execute_result"
    }
   ],
   "source": [
    "data_std"
   ]
  },
  {
   "cell_type": "code",
   "execution_count": 34,
   "metadata": {},
   "outputs": [
    {
     "data": {
      "text/html": [
       "<div>\n",
       "<style scoped>\n",
       "    .dataframe tbody tr th:only-of-type {\n",
       "        vertical-align: middle;\n",
       "    }\n",
       "\n",
       "    .dataframe tbody tr th {\n",
       "        vertical-align: top;\n",
       "    }\n",
       "\n",
       "    .dataframe thead th {\n",
       "        text-align: right;\n",
       "    }\n",
       "</style>\n",
       "<table border=\"1\" class=\"dataframe\">\n",
       "  <thead>\n",
       "    <tr style=\"text-align: right;\">\n",
       "      <th></th>\n",
       "      <th>Credit_Score</th>\n",
       "      <th>Time_with_Bank</th>\n",
       "      <th>Outstanding_Mortgage_Bal</th>\n",
       "      <th>APR</th>\n",
       "      <th>Age</th>\n",
       "      <th>Number_of_Dependants</th>\n",
       "      <th>Term</th>\n",
       "      <th>Income_Range</th>\n",
       "      <th>Worst_History_CT</th>\n",
       "      <th>PPI</th>\n",
       "    </tr>\n",
       "  </thead>\n",
       "  <tbody>\n",
       "    <tr>\n",
       "      <th>0</th>\n",
       "      <td>918</td>\n",
       "      <td>168.0</td>\n",
       "      <td>47679.0</td>\n",
       "      <td>14.4</td>\n",
       "      <td>46</td>\n",
       "      <td>0</td>\n",
       "      <td>36</td>\n",
       "      <td>6</td>\n",
       "      <td>5</td>\n",
       "      <td>0</td>\n",
       "    </tr>\n",
       "    <tr>\n",
       "      <th>1</th>\n",
       "      <td>978</td>\n",
       "      <td>132.0</td>\n",
       "      <td>0.0</td>\n",
       "      <td>9.9</td>\n",
       "      <td>53</td>\n",
       "      <td>0</td>\n",
       "      <td>60</td>\n",
       "      <td>6</td>\n",
       "      <td>0</td>\n",
       "      <td>1</td>\n",
       "    </tr>\n",
       "    <tr>\n",
       "      <th>2</th>\n",
       "      <td>903</td>\n",
       "      <td>300.0</td>\n",
       "      <td>11563.0</td>\n",
       "      <td>7.9</td>\n",
       "      <td>59</td>\n",
       "      <td>0</td>\n",
       "      <td>120</td>\n",
       "      <td>2</td>\n",
       "      <td>5</td>\n",
       "      <td>1</td>\n",
       "    </tr>\n",
       "    <tr>\n",
       "      <th>3</th>\n",
       "      <td>1060</td>\n",
       "      <td>369.0</td>\n",
       "      <td>17563.0</td>\n",
       "      <td>7.9</td>\n",
       "      <td>56</td>\n",
       "      <td>0</td>\n",
       "      <td>78</td>\n",
       "      <td>5</td>\n",
       "      <td>0</td>\n",
       "      <td>1</td>\n",
       "    </tr>\n",
       "    <tr>\n",
       "      <th>4</th>\n",
       "      <td>1032</td>\n",
       "      <td>240.0</td>\n",
       "      <td>80000.0</td>\n",
       "      <td>7.9</td>\n",
       "      <td>45</td>\n",
       "      <td>0</td>\n",
       "      <td>60</td>\n",
       "      <td>6</td>\n",
       "      <td>0</td>\n",
       "      <td>0</td>\n",
       "    </tr>\n",
       "  </tbody>\n",
       "</table>\n",
       "</div>"
      ],
      "text/plain": [
       "   Credit_Score  Time_with_Bank   Outstanding_Mortgage_Bal    APR  Age  \\\n",
       "0           918           168.0                     47679.0  14.4   46   \n",
       "1           978           132.0                         0.0   9.9   53   \n",
       "2           903           300.0                     11563.0   7.9   59   \n",
       "3          1060           369.0                     17563.0   7.9   56   \n",
       "4          1032           240.0                     80000.0   7.9   45   \n",
       "\n",
       "   Number_of_Dependants  Term  Income_Range  Worst_History_CT  PPI  \n",
       "0                     0    36             6                 5    0  \n",
       "1                     0    60             6                 0    1  \n",
       "2                     0   120             2                 5    1  \n",
       "3                     0    78             5                 0    1  \n",
       "4                     0    60             6                 0    0  "
      ]
     },
     "execution_count": 34,
     "metadata": {},
     "output_type": "execute_result"
    }
   ],
   "source": [
    "data.head()"
   ]
  },
  {
   "cell_type": "code",
   "execution_count": 63,
   "metadata": {},
   "outputs": [],
   "source": [
    "# split data into train and test sets\n",
    "from sklearn.cross_validation import train_test_split\n",
    "clus_train, clus_test = train_test_split(data, test_size=.3, random_state=123)"
   ]
  },
  {
   "cell_type": "code",
   "execution_count": 64,
   "metadata": {},
   "outputs": [
    {
     "data": {
      "text/plain": [
       "(1750, 11)"
      ]
     },
     "execution_count": 64,
     "metadata": {},
     "output_type": "execute_result"
    }
   ],
   "source": [
    "clus_train.shape"
   ]
  },
  {
   "cell_type": "code",
   "execution_count": 65,
   "metadata": {},
   "outputs": [
    {
     "data": {
      "text/plain": [
       "(750, 11)"
      ]
     },
     "execution_count": 65,
     "metadata": {},
     "output_type": "execute_result"
    }
   ],
   "source": [
    "clus_test.shape"
   ]
  },
  {
   "cell_type": "markdown",
   "metadata": {},
   "source": [
    "##### Cluster on the Entire dataset"
   ]
  },
  {
   "cell_type": "code",
   "execution_count": 57,
   "metadata": {},
   "outputs": [
    {
     "name": "stderr",
     "output_type": "stream",
     "text": [
      "C:\\Users\\athiq.ahmed\\AppData2\\Local\\Continuum\\anaconda3\\lib\\site-packages\\ipykernel_launcher.py:4: SettingWithCopyWarning: \n",
      "A value is trying to be set on a copy of a slice from a DataFrame.\n",
      "Try using .loc[row_indexer,col_indexer] = value instead\n",
      "\n",
      "See the caveats in the documentation: http://pandas.pydata.org/pandas-docs/stable/indexing.html#indexing-view-versus-copy\n",
      "  after removing the cwd from sys.path.\n"
     ]
    },
    {
     "data": {
      "image/png": "[encoded data removed]",
      "text/plain": [
       "<Figure size 432x288 with 1 Axes>"
      ]
     },
     "metadata": {},
     "output_type": "display_data"
    }
   ],
   "source": [
    "sse = {}\n",
    "for k in range(1, 10):\n",
    "    kmeans = KMeans(n_clusters=k, max_iter=1000).fit(data)\n",
    "    data[\"clusters\"] = kmeans.labels_\n",
    "    #print(data[\"clusters\"])\n",
    "    sse[k] = kmeans.inertia_ # Inertia: Sum of distances of samples to their closest cluster center\n",
    "plt.figure()\n",
    "plt.plot(list(sse.keys()), list(sse.values()))\n",
    "plt.xlabel(\"Number of cluster\")\n",
    "plt.ylabel(\"SSE\")\n",
    "plt.show()"
   ]
  },
  {
   "cell_type": "markdown",
   "metadata": {},
   "source": [
    "##### Cluster on the train dataset"
   ]
  },
  {
   "cell_type": "code",
   "execution_count": null,
   "metadata": {},
   "outputs": [],
   "source": [
    "sse = {}\n",
    "for k in range(1, 10):\n",
    "    kmeans = KMeans(n_clusters=k, max_iter=1000).fit(clus_train)\n",
    "    clus_train[\"clusters\"] = kmeans.labels_\n",
    "    #print(data[\"clusters\"])\n",
    "    sse[k] = kmeans.inertia_ # Inertia: Sum of distances of samples to their closest cluster center\n",
    "plt.figure()\n",
    "plt.plot(list(sse.keys()), list(sse.values()))\n",
    "plt.xlabel(\"Number of cluster\")\n",
    "plt.ylabel(\"SSE\")\n",
    "plt.show()"
   ]
  },
  {
   "cell_type": "code",
   "execution_count": 38,
   "metadata": {},
   "outputs": [],
   "source": [
    "#Cluster the data\n",
    "kmeans = KMeans(n_clusters=4, random_state=0).fit(data_std)\n",
    "labels = kmeans.labels_"
   ]
  },
  {
   "cell_type": "code",
   "execution_count": null,
   "metadata": {},
   "outputs": [],
   "source": [
    "# split data into train and test sets\n",
    "clus_train, clus_test = train_test_split(data2, test_size=.3, random_state=123)"
   ]
  },
  {
   "cell_type": "code",
   "execution_count": 39,
   "metadata": {
    "scrolled": true
   },
   "outputs": [
    {
     "name": "stderr",
     "output_type": "stream",
     "text": [
      "C:\\Users\\athiq.ahmed\\AppData2\\Local\\Continuum\\anaconda3\\lib\\site-packages\\ipykernel_launcher.py:2: SettingWithCopyWarning: \n",
      "A value is trying to be set on a copy of a slice from a DataFrame.\n",
      "Try using .loc[row_indexer,col_indexer] = value instead\n",
      "\n",
      "See the caveats in the documentation: http://pandas.pydata.org/pandas-docs/stable/indexing.html#indexing-view-versus-copy\n",
      "  \n"
     ]
    }
   ],
   "source": [
    "#Glue back to originaal data\n",
    "data['clusters'] = labels"
   ]
  },
  {
   "cell_type": "code",
   "execution_count": 40,
   "metadata": {},
   "outputs": [
    {
     "data": {
      "text/html": [
       "<div>\n",
       "<style scoped>\n",
       "    .dataframe tbody tr th:only-of-type {\n",
       "        vertical-align: middle;\n",
       "    }\n",
       "\n",
       "    .dataframe tbody tr th {\n",
       "        vertical-align: top;\n",
       "    }\n",
       "\n",
       "    .dataframe thead th {\n",
       "        text-align: right;\n",
       "    }\n",
       "</style>\n",
       "<table border=\"1\" class=\"dataframe\">\n",
       "  <thead>\n",
       "    <tr style=\"text-align: right;\">\n",
       "      <th></th>\n",
       "      <th>Credit_Score</th>\n",
       "      <th>Time_with_Bank</th>\n",
       "      <th>Outstanding_Mortgage_Bal</th>\n",
       "      <th>APR</th>\n",
       "      <th>Age</th>\n",
       "      <th>Number_of_Dependants</th>\n",
       "      <th>Term</th>\n",
       "      <th>Income_Range</th>\n",
       "      <th>Worst_History_CT</th>\n",
       "      <th>PPI</th>\n",
       "      <th>clusters</th>\n",
       "    </tr>\n",
       "  </thead>\n",
       "  <tbody>\n",
       "    <tr>\n",
       "      <th>0</th>\n",
       "      <td>918</td>\n",
       "      <td>168.0</td>\n",
       "      <td>47679.0</td>\n",
       "      <td>14.4</td>\n",
       "      <td>46</td>\n",
       "      <td>0</td>\n",
       "      <td>36</td>\n",
       "      <td>6</td>\n",
       "      <td>5</td>\n",
       "      <td>0</td>\n",
       "      <td>2</td>\n",
       "    </tr>\n",
       "    <tr>\n",
       "      <th>1</th>\n",
       "      <td>978</td>\n",
       "      <td>132.0</td>\n",
       "      <td>0.0</td>\n",
       "      <td>9.9</td>\n",
       "      <td>53</td>\n",
       "      <td>0</td>\n",
       "      <td>60</td>\n",
       "      <td>6</td>\n",
       "      <td>0</td>\n",
       "      <td>1</td>\n",
       "      <td>0</td>\n",
       "    </tr>\n",
       "    <tr>\n",
       "      <th>2</th>\n",
       "      <td>903</td>\n",
       "      <td>300.0</td>\n",
       "      <td>11563.0</td>\n",
       "      <td>7.9</td>\n",
       "      <td>59</td>\n",
       "      <td>0</td>\n",
       "      <td>120</td>\n",
       "      <td>2</td>\n",
       "      <td>5</td>\n",
       "      <td>1</td>\n",
       "      <td>3</td>\n",
       "    </tr>\n",
       "    <tr>\n",
       "      <th>3</th>\n",
       "      <td>1060</td>\n",
       "      <td>369.0</td>\n",
       "      <td>17563.0</td>\n",
       "      <td>7.9</td>\n",
       "      <td>56</td>\n",
       "      <td>0</td>\n",
       "      <td>78</td>\n",
       "      <td>5</td>\n",
       "      <td>0</td>\n",
       "      <td>1</td>\n",
       "      <td>0</td>\n",
       "    </tr>\n",
       "    <tr>\n",
       "      <th>4</th>\n",
       "      <td>1032</td>\n",
       "      <td>240.0</td>\n",
       "      <td>80000.0</td>\n",
       "      <td>7.9</td>\n",
       "      <td>45</td>\n",
       "      <td>0</td>\n",
       "      <td>60</td>\n",
       "      <td>6</td>\n",
       "      <td>0</td>\n",
       "      <td>0</td>\n",
       "      <td>0</td>\n",
       "    </tr>\n",
       "  </tbody>\n",
       "</table>\n",
       "</div>"
      ],
      "text/plain": [
       "   Credit_Score  Time_with_Bank   Outstanding_Mortgage_Bal    APR  Age  \\\n",
       "0           918           168.0                     47679.0  14.4   46   \n",
       "1           978           132.0                         0.0   9.9   53   \n",
       "2           903           300.0                     11563.0   7.9   59   \n",
       "3          1060           369.0                     17563.0   7.9   56   \n",
       "4          1032           240.0                     80000.0   7.9   45   \n",
       "\n",
       "   Number_of_Dependants  Term  Income_Range  Worst_History_CT  PPI  clusters  \n",
       "0                     0    36             6                 5    0         2  \n",
       "1                     0    60             6                 0    1         0  \n",
       "2                     0   120             2                 5    1         3  \n",
       "3                     0    78             5                 0    1         0  \n",
       "4                     0    60             6                 0    0         0  "
      ]
     },
     "execution_count": 40,
     "metadata": {},
     "output_type": "execute_result"
    }
   ],
   "source": [
    "data.head()"
   ]
  },
  {
   "cell_type": "code",
   "execution_count": 41,
   "metadata": {},
   "outputs": [
    {
     "data": {
      "text/plain": [
       "['Credit_Score',\n",
       " 'Time_with_Bank',\n",
       " ' Outstanding_Mortgage_Bal ',\n",
       " 'APR',\n",
       " 'Age',\n",
       " 'Number_of_Dependants',\n",
       " 'Term',\n",
       " 'Income_Range',\n",
       " 'Worst_History_CT',\n",
       " 'clusters']"
      ]
     },
     "execution_count": 41,
     "metadata": {},
     "output_type": "execute_result"
    }
   ],
   "source": [
    "#Add the column into our list\n",
    "clmns.extend(['clusters']);clmns"
   ]
  },
  {
   "cell_type": "code",
   "execution_count": 42,
   "metadata": {},
   "outputs": [
    {
     "name": "stdout",
     "output_type": "stream",
     "text": [
      "          Credit_Score  Time_with_Bank   Outstanding_Mortgage_Bal         APR  \\\n",
      "clusters                                                                        \n",
      "0           955.989157      277.646988                42173.077108  12.493976   \n",
      "1           796.024502      131.451761                32872.879020  29.653905   \n",
      "2           890.277228      178.734088               119493.732673  16.077511   \n",
      "3           881.219355      210.725806               100989.245161  11.563548   \n",
      "\n",
      "                Age  Number_of_Dependants        Term  Income_Range  \\\n",
      "clusters                                                              \n",
      "0         54.127711              0.283133   54.731325      4.437349   \n",
      "1         37.733538              0.411945   45.960184      3.292496   \n",
      "2         40.297030              1.514851   54.572843      5.345120   \n",
      "3         44.577419              0.748387  119.290323      4.970968   \n",
      "\n",
      "          Worst_History_CT  \n",
      "clusters                    \n",
      "0                 1.579518  \n",
      "1                 3.133231  \n",
      "2                 2.942008  \n",
      "3                 2.467742  \n"
     ]
    }
   ],
   "source": [
    "#Lets analyze the clusters\n",
    "print (data[clmns].groupby(['clusters']).mean())"
   ]
  },
  {
   "cell_type": "code",
   "execution_count": null,
   "metadata": {},
   "outputs": [],
   "source": []
  },
  {
   "cell_type": "code",
   "execution_count": null,
   "metadata": {},
   "outputs": [],
   "source": []
  },
  {
   "cell_type": "markdown",
   "metadata": {},
   "source": [
    "##### Check later"
   ]
  },
  {
   "cell_type": "code",
   "execution_count": 44,
   "metadata": {},
   "outputs": [
    {
     "data": {
      "text/plain": [
       "array([[ 0.33169109, -0.31939251, -0.25626224, ..., -0.9307052 ,\n",
       "         0.969104  ,  1.05369604],\n",
       "       [ 0.96052115, -0.64613677, -0.83193719, ..., -0.01528748,\n",
       "         0.969104  , -1.03763462],\n",
       "       [ 0.17448357,  0.87866976, -0.69232584, ...,  2.27325683,\n",
       "        -1.55001219,  1.05369604],\n",
       "       ...,\n",
       "       [ 1.4950267 ,  0.334096  , -0.83193719, ..., -0.9307052 ,\n",
       "         0.969104  , -1.03763462],\n",
       "       [ 1.55790971,  1.96781729, -0.83193719, ..., -0.01528748,\n",
       "        -0.2904541 , -1.03763462],\n",
       "       [ 0.02775656, -1.24516791,  0.79804913, ..., -0.01528748,\n",
       "         0.969104  , -1.03763462]])"
      ]
     },
     "execution_count": 44,
     "metadata": {},
     "output_type": "execute_result"
    }
   ],
   "source": [
    "data_std"
   ]
  },
  {
   "cell_type": "code",
   "execution_count": 45,
   "metadata": {},
   "outputs": [],
   "source": [
    "X = data[['Credit_Score','Time_with_Bank',' Outstanding_Mortgage_Bal ','APR','Age',\n",
    "              'Number_of_Dependants','Term','Income_Range','Worst_History_CT']]"
   ]
  },
  {
   "cell_type": "code",
   "execution_count": 46,
   "metadata": {},
   "outputs": [],
   "source": [
    "y = data['PPI']"
   ]
  },
  {
   "cell_type": "code",
   "execution_count": 737,
   "metadata": {},
   "outputs": [
    {
     "name": "stdout",
     "output_type": "stream",
     "text": [
      "[1 1 0 ... 0 2 1]\n"
     ]
    }
   ],
   "source": [
    "from sklearn.cross_validation import train_test_split\n",
    "\n",
    "X_train, X_test,y_train,y_test =  train_test_split(X,y,test_size=0.20,random_state=70)\n",
    "k_means = KMeans(n_clusters=4)\n",
    "k_means = k_means.fit(X_train)\n",
    "print(k_means.labels_[:])\n",
    "# print(y_train[:])"
   ]
  },
  {
   "cell_type": "code",
   "execution_count": null,
   "metadata": {},
   "outputs": [],
   "source": [
    "#Cluster the data\n",
    "kmeans = KMeans(n_clusters=4, random_state=0).fit(data_std)\n",
    "labels = kmeans.labels_"
   ]
  },
  {
   "cell_type": "code",
   "execution_count": 738,
   "metadata": {},
   "outputs": [
    {
     "name": "stdout",
     "output_type": "stream",
     "text": [
      "Accuracy:0.476821\n"
     ]
    }
   ],
   "source": [
    "from sklearn import metrics\n",
    "score = metrics.accuracy_score(y_test,k_means.predict(X_test))\n",
    "print('Accuracy:{0:f}'.format(score))"
   ]
  },
  {
   "cell_type": "code",
   "execution_count": 739,
   "metadata": {},
   "outputs": [],
   "source": [
    "labels = kmeans.predict(data)"
   ]
  },
  {
   "cell_type": "code",
   "execution_count": null,
   "metadata": {},
   "outputs": [],
   "source": []
  },
  {
   "cell_type": "code",
   "execution_count": null,
   "metadata": {},
   "outputs": [],
   "source": []
  },
  {
   "cell_type": "code",
   "execution_count": null,
   "metadata": {},
   "outputs": [],
   "source": []
  },
  {
   "cell_type": "code",
   "execution_count": null,
   "metadata": {},
   "outputs": [],
   "source": []
  },
  {
   "cell_type": "code",
   "execution_count": null,
   "metadata": {},
   "outputs": [],
   "source": []
  },
  {
   "cell_type": "code",
   "execution_count": null,
   "metadata": {},
   "outputs": [],
   "source": []
  },
  {
   "cell_type": "code",
   "execution_count": null,
   "metadata": {},
   "outputs": [],
   "source": []
  },
  {
   "cell_type": "code",
   "execution_count": null,
   "metadata": {},
   "outputs": [],
   "source": []
  },
  {
   "cell_type": "code",
   "execution_count": null,
   "metadata": {},
   "outputs": [],
   "source": []
  },
  {
   "cell_type": "code",
   "execution_count": null,
   "metadata": {},
   "outputs": [],
   "source": []
  },
  {
   "cell_type": "code",
   "execution_count": 577,
   "metadata": {},
   "outputs": [],
   "source": [
    "from sklearn.cluster import KMeans\n",
    "\n",
    "# Number of clusters\n",
    "kmeans = KMeans(n_clusters=4)\n",
    "# Fitting the input data\n",
    "kmeans = kmeans.fit(data)\n",
    "# Getting the cluster labels\n",
    "labels = kmeans.predict(data)\n",
    "# Centroid values\n",
    "centroids = kmeans.cluster_centers_"
   ]
  },
  {
   "cell_type": "code",
   "execution_count": null,
   "metadata": {},
   "outputs": [],
   "source": [
    "labels"
   ]
  },
  {
   "cell_type": "code",
   "execution_count": null,
   "metadata": {},
   "outputs": [],
   "source": [
    "centroids"
   ]
  },
  {
   "cell_type": "code",
   "execution_count": 578,
   "metadata": {},
   "outputs": [
    {
     "name": "stderr",
     "output_type": "stream",
     "text": [
      "C:\\Users\\athiq.ahmed\\AppData2\\Local\\Continuum\\anaconda3\\lib\\site-packages\\ipykernel_launcher.py:2: SettingWithCopyWarning: \n",
      "A value is trying to be set on a copy of a slice from a DataFrame.\n",
      "Try using .loc[row_indexer,col_indexer] = value instead\n",
      "\n",
      "See the caveats in the documentation: http://pandas.pydata.org/pandas-docs/stable/indexing.html#indexing-view-versus-copy\n",
      "  \n"
     ]
    }
   ],
   "source": [
    "#Glue back to originaal data\n",
    "data['clusters'] = labels"
   ]
  },
  {
   "cell_type": "code",
   "execution_count": 579,
   "metadata": {},
   "outputs": [
    {
     "data": {
      "text/html": [
       "<div>\n",
       "<style scoped>\n",
       "    .dataframe tbody tr th:only-of-type {\n",
       "        vertical-align: middle;\n",
       "    }\n",
       "\n",
       "    .dataframe tbody tr th {\n",
       "        vertical-align: top;\n",
       "    }\n",
       "\n",
       "    .dataframe thead th {\n",
       "        text-align: right;\n",
       "    }\n",
       "</style>\n",
       "<table border=\"1\" class=\"dataframe\">\n",
       "  <thead>\n",
       "    <tr style=\"text-align: right;\">\n",
       "      <th></th>\n",
       "      <th>Credit_Score</th>\n",
       "      <th>Time_with_Bank</th>\n",
       "      <th>Outstanding_Mortgage_Bal</th>\n",
       "      <th>APR</th>\n",
       "      <th>Age</th>\n",
       "      <th>Number_of_Dependants</th>\n",
       "      <th>Term</th>\n",
       "      <th>Income_Range</th>\n",
       "      <th>Worst_History_CT</th>\n",
       "      <th>clusters</th>\n",
       "    </tr>\n",
       "  </thead>\n",
       "  <tbody>\n",
       "    <tr>\n",
       "      <th>0</th>\n",
       "      <td>918</td>\n",
       "      <td>168.0</td>\n",
       "      <td>47679.0</td>\n",
       "      <td>14.4</td>\n",
       "      <td>46</td>\n",
       "      <td>0</td>\n",
       "      <td>36</td>\n",
       "      <td>6</td>\n",
       "      <td>5</td>\n",
       "      <td>1</td>\n",
       "    </tr>\n",
       "    <tr>\n",
       "      <th>1</th>\n",
       "      <td>978</td>\n",
       "      <td>132.0</td>\n",
       "      <td>0.0</td>\n",
       "      <td>9.9</td>\n",
       "      <td>53</td>\n",
       "      <td>0</td>\n",
       "      <td>60</td>\n",
       "      <td>6</td>\n",
       "      <td>0</td>\n",
       "      <td>1</td>\n",
       "    </tr>\n",
       "    <tr>\n",
       "      <th>2</th>\n",
       "      <td>903</td>\n",
       "      <td>300.0</td>\n",
       "      <td>11563.0</td>\n",
       "      <td>7.9</td>\n",
       "      <td>59</td>\n",
       "      <td>0</td>\n",
       "      <td>120</td>\n",
       "      <td>2</td>\n",
       "      <td>5</td>\n",
       "      <td>1</td>\n",
       "    </tr>\n",
       "    <tr>\n",
       "      <th>3</th>\n",
       "      <td>1060</td>\n",
       "      <td>369.0</td>\n",
       "      <td>17563.0</td>\n",
       "      <td>7.9</td>\n",
       "      <td>56</td>\n",
       "      <td>0</td>\n",
       "      <td>78</td>\n",
       "      <td>5</td>\n",
       "      <td>0</td>\n",
       "      <td>1</td>\n",
       "    </tr>\n",
       "    <tr>\n",
       "      <th>4</th>\n",
       "      <td>1032</td>\n",
       "      <td>240.0</td>\n",
       "      <td>80000.0</td>\n",
       "      <td>7.9</td>\n",
       "      <td>45</td>\n",
       "      <td>0</td>\n",
       "      <td>60</td>\n",
       "      <td>6</td>\n",
       "      <td>0</td>\n",
       "      <td>0</td>\n",
       "    </tr>\n",
       "  </tbody>\n",
       "</table>\n",
       "</div>"
      ],
      "text/plain": [
       "   Credit_Score  Time_with_Bank   Outstanding_Mortgage_Bal    APR  Age  \\\n",
       "0  918           168.0           47679.0                     14.4  46    \n",
       "1  978           132.0           0.0                         9.9   53    \n",
       "2  903           300.0           11563.0                     7.9   59    \n",
       "3  1060          369.0           17563.0                     7.9   56    \n",
       "4  1032          240.0           80000.0                     7.9   45    \n",
       "\n",
       "   Number_of_Dependants  Term  Income_Range  Worst_History_CT  clusters  \n",
       "0  0                     36    6             5                 1         \n",
       "1  0                     60    6             0                 1         \n",
       "2  0                     120   2             5                 1         \n",
       "3  0                     78    5             0                 1         \n",
       "4  0                     60    6             0                 0         "
      ]
     },
     "execution_count": 579,
     "metadata": {},
     "output_type": "execute_result"
    }
   ],
   "source": [
    "data.head()"
   ]
  },
  {
   "cell_type": "code",
   "execution_count": 580,
   "metadata": {},
   "outputs": [
    {
     "data": {
      "text/plain": [
       "['Credit_Score',\n",
       " 'Time_with_Bank',\n",
       " ' Outstanding_Mortgage_Bal ',\n",
       " 'APR',\n",
       " 'Age',\n",
       " 'Number_of_Dependants',\n",
       " 'Term',\n",
       " 'Income_Range',\n",
       " 'Worst_History_CT',\n",
       " 'clusters']"
      ]
     },
     "execution_count": 580,
     "metadata": {},
     "output_type": "execute_result"
    }
   ],
   "source": [
    "#Add the column into our list\n",
    "clmns.extend(['clusters']);clmns"
   ]
  },
  {
   "cell_type": "code",
   "execution_count": 581,
   "metadata": {},
   "outputs": [
    {
     "name": "stdout",
     "output_type": "stream",
     "text": [
      "          Credit_Score  Time_with_Bank   Outstanding_Mortgage_Bal         APR  \\\n",
      "clusters                                                                        \n",
      "0         887.282341    199.609856      93787.369610                16.145483   \n",
      "1         892.499053    216.424242      12893.398674                18.469981   \n",
      "2         979.428571    279.857143      713459.142857               9.400000    \n",
      "3         889.285714    191.776786      214950.428571               14.433036   \n",
      "\n",
      "                Age  Number_of_Dependants       Term  Income_Range  \\\n",
      "clusters                                                             \n",
      "0         42.663244  0.895277              68.185832  5.007187       \n",
      "1         47.495265  0.532197              58.591856  3.819129       \n",
      "2         52.000000  0.571429              61.714286  5.428571       \n",
      "3         43.491071  1.022321              72.031250  5.812500       \n",
      "\n",
      "          Worst_History_CT  \n",
      "clusters                    \n",
      "0         2.693018          \n",
      "1         2.129735          \n",
      "2         1.428571          \n",
      "3         2.678571          \n"
     ]
    }
   ],
   "source": [
    "#Lets analyze the clusters\n",
    "print (data[clmns].groupby(['clusters']).mean())"
   ]
  },
  {
   "cell_type": "code",
   "execution_count": null,
   "metadata": {},
   "outputs": [],
   "source": []
  },
  {
   "cell_type": "code",
   "execution_count": null,
   "metadata": {},
   "outputs": [],
   "source": []
  },
  {
   "cell_type": "code",
   "execution_count": null,
   "metadata": {},
   "outputs": [],
   "source": []
  },
  {
   "cell_type": "code",
   "execution_count": 590,
   "metadata": {},
   "outputs": [],
   "source": [
    "X = data[['Credit_Score','Time_with_Bank',' Outstanding_Mortgage_Bal ','APR','Age',\n",
    "              'Number_of_Dependants','Term','Income_Range','Worst_History_CT']]"
   ]
  },
  {
   "cell_type": "code",
   "execution_count": 591,
   "metadata": {},
   "outputs": [],
   "source": [
    "y = df1['PPI']"
   ]
  },
  {
   "cell_type": "code",
   "execution_count": 592,
   "metadata": {},
   "outputs": [],
   "source": [
    "from sklearn.cross_validation import train_test_split\n",
    "\n",
    "X_train, X_test,y_train,y_test =  train_test_split(X,y,test_size=0.20,random_state=70)\n",
    "k_means = KMeans(n_clusters=4)\n",
    "k_means.fit(X_train)\n",
    "print(k_means.labels_[:])\n",
    "# print(y_train[:])"
   ]
  },
  {
   "cell_type": "code",
   "execution_count": null,
   "metadata": {},
   "outputs": [],
   "source": [
    "from sklearn.cluster import KMeans\n",
    "\n",
    "# Number of clusters\n",
    "kmeans = KMeans(n_clusters=4)\n",
    "# Fitting the input data\n",
    "kmeans = kmeans.fit(data)\n",
    "# Getting the cluster labels\n",
    "labels = kmeans.predict(data)\n",
    "# Centroid values\n",
    "centroids = kmeans.cluster_centers_"
   ]
  },
  {
   "cell_type": "code",
   "execution_count": 595,
   "metadata": {},
   "outputs": [
    {
     "name": "stdout",
     "output_type": "stream",
     "text": [
      "[1 1 0 ... 0 2 1]\n"
     ]
    }
   ],
   "source": [
    "X_train, X_test,y_train,y_test =  train_test_split(X,y,test_size=0.20,random_state=70)\n",
    "k_means = KMeans(n_clusters=4)\n",
    "k_means.fit(X_train)\n",
    "print(k_means.labels_[:])\n",
    "# print(y_train[:])"
   ]
  },
  {
   "cell_type": "code",
   "execution_count": 597,
   "metadata": {},
   "outputs": [
    {
     "name": "stdout",
     "output_type": "stream",
     "text": [
      "Accuracy:0.476821\n"
     ]
    }
   ],
   "source": [
    "from sklearn import metrics\n",
    "score = metrics.accuracy_score(y_test,k_means.predict(X_test))\n",
    "print('Accuracy:{0:f}'.format(score))"
   ]
  },
  {
   "cell_type": "code",
   "execution_count": null,
   "metadata": {},
   "outputs": [],
   "source": []
  },
  {
   "cell_type": "code",
   "execution_count": null,
   "metadata": {},
   "outputs": [],
   "source": []
  },
  {
   "cell_type": "code",
   "execution_count": null,
   "metadata": {},
   "outputs": [],
   "source": []
  },
  {
   "cell_type": "code",
   "execution_count": null,
   "metadata": {},
   "outputs": [],
   "source": []
  },
  {
   "cell_type": "markdown",
   "metadata": {},
   "source": [
    "##### Performance metrics"
   ]
  },
  {
   "cell_type": "markdown",
   "metadata": {},
   "source": [
    "You need to take a look at clustering metrics to evaluate your predicitons, these include\n",
    "\n",
    "* Homegenity Score\n",
    "* V measure\n",
    "* Completenss Score and so on"
   ]
  },
  {
   "cell_type": "markdown",
   "metadata": {},
   "source": [
    "#### Can I determine k with calinski and hrabasz validation when using k-means clustering?"
   ]
  },
  {
   "cell_type": "code",
   "execution_count": 77,
   "metadata": {},
   "outputs": [
    {
     "name": "stdout",
     "output_type": "stream",
     "text": [
      "2 513.3038433517567\n",
      "3 560.3999242466402\n",
      "4 529.1207190840455\n",
      "5 494.0943819140987\n",
      "6 474.51742958716306\n",
      "7 448.8714494416451\n",
      "8 436.6130248814249\n",
      "9 414.53031740513825\n",
      "10 390.6464805991045\n",
      "11 368.8969634303449\n",
      "12 357.1945920021721\n",
      "13 342.7320841049122\n",
      "14 344.6108187244484\n",
      "15 337.8094705352863\n",
      "16 324.97201906342343\n",
      "17 322.8254661074538\n",
      "18 314.5872201109228\n",
      "19 306.6486355903281\n",
      "20 316.90530160545137\n"
     ]
    }
   ],
   "source": [
    "from sklearn import metrics\n",
    "from sklearn.metrics import pairwise_distances\n",
    "from sklearn import datasets\n",
    "dataset = datasets.load_iris()\n",
    "X = dataset.data\n",
    "y = dataset.target\n",
    "import numpy as np\n",
    "from sklearn.cluster import KMeans\n",
    "kmeans_model = KMeans(n_clusters=3, random_state=1).fit(X)\n",
    "labels = kmeans_model.labels_\n",
    "metrics.calinski_harabaz_score(X, labels)\n",
    "for k in range(2, 21):\n",
    "    kmeans_model = KMeans(n_clusters=k, random_state=1).fit(X)\n",
    "    labels = kmeans_model.labels_\n",
    "    labels = kmeans_model.labels_\n",
    "    print (k, metrics.calinski_harabaz_score(X, labels))"
   ]
  },
  {
   "cell_type": "code",
   "execution_count": null,
   "metadata": {},
   "outputs": [],
   "source": []
  }
 ],
 "metadata": {
  "kernelspec": {
   "display_name": "Python 3",
   "language": "python",
   "name": "python3"
  }
 },
 "nbformat": 4,
 "nbformat_minor": 2
}
