{
  "nbformat": 4,
  "nbformat_minor": 0,
  "metadata": {
    "colab": {
      "name": "Stacking Ensemble Machine Learning",
      "provenance": [],
      "collapsed_sections": [],
      "authorship_tag": "ABX9TyOsJAoWMub70zwDjYRKyarB",
      "include_colab_link": true
    },
    "kernelspec": {
      "name": "python3",
      "display_name": "Python 3"
    }
  },
  "cells": [
    {
      "cell_type": "markdown",
      "metadata": {
        "id": "view-in-github",
        "colab_type": "text"
      },
      "source": [
        "<a href=\"https://colab.research.google.com/github/athiq-ahmed/Data-science/blob/master/Stacking_Ensemble_Machine_Learning.ipynb\" target=\"_parent\"><img src=\"https://colab.research.google.com/assets/colab-badge.svg\" alt=\"Open In Colab\"/></a>"
      ]
    },
    {
      "cell_type": "markdown",
      "metadata": {
        "id": "MaJqqg1fvNa_",
        "colab_type": "text"
      },
      "source": [
        "### Stacked Generalization"
      ]
    },
    {
      "cell_type": "markdown",
      "metadata": {
        "id": "BT9106LSvalD",
        "colab_type": "text"
      },
      "source": [
        "* Unlike bagging, in stacking, the models are typically different (e.g. not all decision trees) and fit on the same dataset (e.g. instead of samples of the training dataset).\n",
        "\n",
        "* Unlike boosting, in stacking, a single model is used to learn how to best combine the predictions from the contributing models (e.g. instead of a sequence of models that correct the predictions of prior models).\n",
        "\n",
        "* The architecture of a stacking model involves two or more base models, often referred to as level-0 models, and a meta-model that combines the predictions of the base models, referred to as a level-1 model.\n",
        "\n",
        "* Level-0 Models (Base-Models): Models fit on the training data and whose predictions are compiled.\n",
        "Level-1 Model (Meta-Model): Model that learns how to best combine the predictions of the base models.\n",
        "\n",
        "* The meta-model is trained on the predictions made by base models on out-of-sample data. That is, data not used to train the base models is fed to the base models, predictions are made, and these predictions, along with the expected outputs, provide the input and output pairs of the training dataset used to fit the meta-model.\n",
        "\n",
        "* The outputs from the base models used as input to the meta-model may be real value in the case of regression, and probability values, probability like values, or class labels in the case of classification.\n",
        "\n",
        "* The most common approach to preparing the training dataset for the meta-model is via k-fold cross-validation of the base models, where the out-of-fold predictions are used as the basis for the training dataset for the meta-model.\n",
        "\n",
        "* The training data for the meta-model may also include the inputs to the base models, e.g. input elements of the training data. This can provide an additional context to the meta-model as to how to best combine the predictions from the meta-model.\n",
        "\n",
        "* Once the training dataset is prepared for the meta-model, the meta-model can be trained in isolation on this dataset, and the base-models can be trained on the entire original training dataset."
      ]
    },
    {
      "cell_type": "code",
      "metadata": {
        "id": "d3bhoFwej9ke",
        "colab_type": "code",
        "colab": {
          "base_uri": "https://localhost:8080/",
          "height": 34
        },
        "outputId": "eb2a2dcc-e8de-474c-b322-3606185657bc"
      },
      "source": [
        "import sklearn\n",
        "print(sklearn.__version__)"
      ],
      "execution_count": 1,
      "outputs": [
        {
          "output_type": "stream",
          "text": [
            "0.22.2.post1\n"
          ],
          "name": "stdout"
        }
      ]
    },
    {
      "cell_type": "markdown",
      "metadata": {
        "id": "8wUT3FMaxJaN",
        "colab_type": "text"
      },
      "source": [
        "### Stacking for Classification"
      ]
    },
    {
      "cell_type": "code",
      "metadata": {
        "id": "7hQQ1A1HlphG",
        "colab_type": "code",
        "colab": {
          "base_uri": "https://localhost:8080/",
          "height": 34
        },
        "outputId": "7d834824-2984-4701-a648-bf78e2653091"
      },
      "source": [
        "from sklearn.datasets import make_classification\n",
        "X,y = make_classification(n_samples=1000, n_features=20, n_informative=15, n_redundant=5, random_state=42)\n",
        "print(X.shape, y.shape)"
      ],
      "execution_count": 3,
      "outputs": [
        {
          "output_type": "stream",
          "text": [
            "(1000, 20) (1000,)\n"
          ],
          "name": "stdout"
        }
      ]
    },
    {
      "cell_type": "code",
      "metadata": {
        "id": "uNf87FshmVUx",
        "colab_type": "code",
        "colab": {
          "base_uri": "https://localhost:8080/",
          "height": 221
        },
        "outputId": "6e51f24e-9842-4e3a-a2f2-f9e53dfa3ac4"
      },
      "source": [
        "X[:3]"
      ],
      "execution_count": 5,
      "outputs": [
        {
          "output_type": "execute_result",
          "data": {
            "text/plain": [
              "array([[-4.90644173,  3.44278902,  0.55896373, -0.97676364, -1.56880543,\n",
              "        -4.27198221, -3.72792096,  0.11186836,  2.11979508, -2.52281204,\n",
              "         3.35228081, -7.49247833,  4.26466854,  0.30486563,  0.77769294,\n",
              "        -9.37546378,  1.65444574,  3.01285895, -4.4970026 , -2.52006572],\n",
              "       [ 2.16261046, -5.2866508 ,  2.60984566, -1.80389839, -1.83121562,\n",
              "         1.45075743,  2.64870874,  2.15230694,  0.52455214,  0.49354757,\n",
              "        -1.40180947,  6.68060317, -2.43182999,  2.46277341, -1.25482394,\n",
              "         2.97840185, -3.42845688, -4.56217784,  3.69866457, -1.92328575],\n",
              "       [-4.78484428, -3.74482699,  4.65759163, -1.40880597, -5.44475753,\n",
              "        -2.41601307,  3.55649527, -1.57211894, -0.7305487 ,  3.44766104,\n",
              "        -2.60905175,  7.96105921, -5.15110508,  0.47313097, -4.07066651,\n",
              "        -0.93230941, -3.23076843, -7.8446457 ,  2.80379841, -2.96318945]])"
            ]
          },
          "metadata": {
            "tags": []
          },
          "execution_count": 5
        }
      ]
    },
    {
      "cell_type": "code",
      "metadata": {
        "id": "QkF6dZZGmblD",
        "colab_type": "code",
        "colab": {
          "base_uri": "https://localhost:8080/",
          "height": 34
        },
        "outputId": "d7a13e20-600b-41dd-b78b-7df4a7137917"
      },
      "source": [
        "y[:3]"
      ],
      "execution_count": 6,
      "outputs": [
        {
          "output_type": "execute_result",
          "data": {
            "text/plain": [
              "array([0, 1, 1])"
            ]
          },
          "metadata": {
            "tags": []
          },
          "execution_count": 6
        }
      ]
    },
    {
      "cell_type": "code",
      "metadata": {
        "id": "qh7hvpYeoqWk",
        "colab_type": "code",
        "colab": {}
      },
      "source": [
        "from numpy import mean, std\n",
        "from sklearn.datasets import make_classification\n",
        "from sklearn.model_selection import cross_val_score, RepeatedStratifiedKFold\n",
        "from sklearn.linear_model import LogisticRegression\n",
        "from sklearn.neighbors import KNeighborsClassifier\n",
        "from sklearn.tree import DecisionTreeClassifier\n",
        "from sklearn.svm import SVC\n",
        "from sklearn.naive_bayes import GaussianNB\n",
        "from matplotlib import pyplot"
      ],
      "execution_count": 9,
      "outputs": []
    },
    {
      "cell_type": "code",
      "metadata": {
        "id": "CzcZeHHroea8",
        "colab_type": "code",
        "colab": {}
      },
      "source": [
        "def get_dataset():\n",
        "  X,y = make_classification(n_samples=1000, n_features=20, n_informative=15, n_redundant=5, random_state=42)\n",
        "  return X, y"
      ],
      "execution_count": 10,
      "outputs": []
    },
    {
      "cell_type": "code",
      "metadata": {
        "id": "-HbHbxwfmiDM",
        "colab_type": "code",
        "colab": {}
      },
      "source": [
        "def get_models():\n",
        "  models = dict()\n",
        "  models['lr'] = LogisticRegression()\n",
        "  models['knn'] = KNeighborsClassifier()\n",
        "  models['cart'] = DecisionTreeClassifier()\n",
        "  models['svm'] = SVC()\n",
        "  models['bayes'] = GaussianNB()\n",
        "  return models"
      ],
      "execution_count": 20,
      "outputs": []
    },
    {
      "cell_type": "code",
      "metadata": {
        "id": "KNBXYaOgnIOp",
        "colab_type": "code",
        "colab": {}
      },
      "source": [
        "def evaluate_model(model, X, y):\n",
        "  cv = RepeatedStratifiedKFold(n_splits=10, n_repeats=3, random_state=42)\n",
        "  scores = cross_val_score(model, X, y, scoring='accuracy', cv=cv, n_jobs=-1, error_score='raise')\n",
        "  return scores"
      ],
      "execution_count": 21,
      "outputs": []
    },
    {
      "cell_type": "code",
      "metadata": {
        "id": "PFaSQ0qooRpJ",
        "colab_type": "code",
        "colab": {
          "base_uri": "https://localhost:8080/",
          "height": 34
        },
        "outputId": "ff11572b-5b1a-4ce0-c599-a20798afb814"
      },
      "source": [
        "X, y = get_dataset()\n",
        "print(X.shape, y.shape)\n",
        "\n",
        "models = get_models()"
      ],
      "execution_count": 22,
      "outputs": [
        {
          "output_type": "stream",
          "text": [
            "(1000, 20) (1000,)\n"
          ],
          "name": "stdout"
        }
      ]
    },
    {
      "cell_type": "code",
      "metadata": {
        "id": "cX8YQHROqHyF",
        "colab_type": "code",
        "colab": {
          "base_uri": "https://localhost:8080/",
          "height": 350
        },
        "outputId": "6224ed62-e5b7-4555-fd7f-4053fb9748b2"
      },
      "source": [
        "results, names = list(), list()\n",
        "for name, model in models.items():\n",
        "  scores = evaluate_model(model, X, y)\n",
        "  results.append(scores)\n",
        "  names.append(name)\n",
        "  print('%s %.3f (%.3f)' %(name, mean(scores), std(scores)))\n",
        "\n",
        "pyplot.boxplot(results, labels=names, showmeans=True)\n",
        "pyplot.show()"
      ],
      "execution_count": 25,
      "outputs": [
        {
          "output_type": "stream",
          "text": [
            "lr 0.810 (0.033)\n",
            "knn 0.927 (0.028)\n",
            "cart 0.792 (0.037)\n",
            "svm 0.943 (0.022)\n",
            "bayes 0.789 (0.044)\n"
          ],
          "name": "stdout"
        },
        {
          "output_type": "display_data",
          "data": {
            "image/png": "[encoded data removed]",
            "text/plain": [
              "<Figure size 432x288 with 1 Axes>"
            ]
          },
          "metadata": {
            "tags": [],
            "needs_background": "light"
          }
        }
      ]
    },
    {
      "cell_type": "code",
      "metadata": {
        "id": "3JshmwfBrI2E",
        "colab_type": "code",
        "colab": {}
      },
      "source": [
        "from sklearn.ensemble import StackingClassifier\n",
        "\n",
        "def get_stacking():\n",
        "  level0 = list()\n",
        "  level0.append(('lr', LogisticRegression()))\n",
        "  level0.append(('knn', KNeighborsClassifier()))\n",
        "  level0.append(('cart', DecisionTreeClassifier()))\n",
        "  level0.append(('svm', SVC()))\n",
        "  level0.append(('bayes', GaussianNB()))\n",
        "\n",
        "  level1 = LogisticRegression()\n",
        "\n",
        "  model = StackingClassifier(estimators=level0, final_estimator=level1, cv=5)\n",
        "  return model"
      ],
      "execution_count": 41,
      "outputs": []
    },
    {
      "cell_type": "code",
      "metadata": {
        "id": "BxS6_3wUsZPA",
        "colab_type": "code",
        "colab": {}
      },
      "source": [
        "def get_models():\n",
        "  models = dict()\n",
        "  models['lr'] = LogisticRegression()\n",
        "  models['knn'] = KNeighborsClassifier()\n",
        "  models['cart'] = DecisionTreeClassifier()\n",
        "  models['svm'] = SVC()\n",
        "  models['bayes'] = GaussianNB()\n",
        "  models['stacking'] = get_stacking()\n",
        "  return models"
      ],
      "execution_count": 42,
      "outputs": []
    },
    {
      "cell_type": "code",
      "metadata": {
        "id": "GEPl4Fivswhm",
        "colab_type": "code",
        "colab": {
          "base_uri": "https://localhost:8080/",
          "height": 51
        },
        "outputId": "b6a44336-1f42-4941-81c9-d1a63a0d53f0"
      },
      "source": [
        "X, y = get_dataset()\n",
        "print(X.shape, y.shape)\n",
        "\n",
        "models = get_models()\n",
        "print(list(models))"
      ],
      "execution_count": 43,
      "outputs": [
        {
          "output_type": "stream",
          "text": [
            "(1000, 20) (1000,)\n",
            "['lr', 'knn', 'cart', 'svm', 'bayes', 'stacking']\n"
          ],
          "name": "stdout"
        }
      ]
    },
    {
      "cell_type": "code",
      "metadata": {
        "id": "dLRvfH75sF8l",
        "colab_type": "code",
        "colab": {
          "base_uri": "https://localhost:8080/",
          "height": 367
        },
        "outputId": "53e26ca5-ec18-4d84-c5e4-edc1f19d4e81"
      },
      "source": [
        "results, names = list(), list()\n",
        "for name, model in models.items():\n",
        "  scores = evaluate_model(model, X, y)\n",
        "  results.append(scores)\n",
        "  names.append(name)\n",
        "  print('%s %.3f (%.3f)' %(name, mean(scores), std(scores)))\n",
        "\n",
        "pyplot.boxplot(results, labels=names, showmeans=True)\n",
        "pyplot.show()"
      ],
      "execution_count": 44,
      "outputs": [
        {
          "output_type": "stream",
          "text": [
            "lr 0.810 (0.033)\n",
            "knn 0.927 (0.028)\n",
            "cart 0.787 (0.040)\n",
            "svm 0.943 (0.022)\n",
            "bayes 0.789 (0.044)\n",
            "stacking 0.943 (0.023)\n"
          ],
          "name": "stdout"
        },
        {
          "output_type": "display_data",
          "data": {
            "image/png": "[encoded data removed]",
            "text/plain": [
              "<Figure size 432x288 with 1 Axes>"
            ]
          },
          "metadata": {
            "tags": [],
            "needs_background": "light"
          }
        }
      ]
    },
    {
      "cell_type": "code",
      "metadata": {
        "id": "Zpr6xsi2udZ6",
        "colab_type": "code",
        "colab": {
          "base_uri": "https://localhost:8080/",
          "height": 561
        },
        "outputId": "e808ae15-e451-46a6-ac34-88bf7567570f"
      },
      "source": [
        "model.fit(X, y)"
      ],
      "execution_count": 46,
      "outputs": [
        {
          "output_type": "execute_result",
          "data": {
            "text/plain": [
              "StackingClassifier(cv=5,\n",
              "                   estimators=[('lr',\n",
              "                                LogisticRegression(C=1.0, class_weight=None,\n",
              "                                                   dual=False,\n",
              "                                                   fit_intercept=True,\n",
              "                                                   intercept_scaling=1,\n",
              "                                                   l1_ratio=None, max_iter=100,\n",
              "                                                   multi_class='auto',\n",
              "                                                   n_jobs=None, penalty='l2',\n",
              "                                                   random_state=None,\n",
              "                                                   solver='lbfgs', tol=0.0001,\n",
              "                                                   verbose=0,\n",
              "                                                   warm_start=False)),\n",
              "                               ('knn',\n",
              "                                KNeighborsClassifier(algorithm='auto',\n",
              "                                                     leaf_size=30,\n",
              "                                                     metric='minko...\n",
              "                                GaussianNB(priors=None, var_smoothing=1e-09))],\n",
              "                   final_estimator=LogisticRegression(C=1.0, class_weight=None,\n",
              "                                                      dual=False,\n",
              "                                                      fit_intercept=True,\n",
              "                                                      intercept_scaling=1,\n",
              "                                                      l1_ratio=None,\n",
              "                                                      max_iter=100,\n",
              "                                                      multi_class='auto',\n",
              "                                                      n_jobs=None, penalty='l2',\n",
              "                                                      random_state=None,\n",
              "                                                      solver='lbfgs',\n",
              "                                                      tol=0.0001, verbose=0,\n",
              "                                                      warm_start=False),\n",
              "                   n_jobs=None, passthrough=False, stack_method='auto',\n",
              "                   verbose=0)"
            ]
          },
          "metadata": {
            "tags": []
          },
          "execution_count": 46
        }
      ]
    },
    {
      "cell_type": "code",
      "metadata": {
        "id": "_zRuXrpysTT6",
        "colab_type": "code",
        "colab": {
          "base_uri": "https://localhost:8080/",
          "height": 34
        },
        "outputId": "4952fcd2-eef9-4b46-866e-36af969949fa"
      },
      "source": [
        "# make a prediction for one example\n",
        "data = [[2.47475454,0.40165523,1.68081787,2.88940715,0.91704519,-3.07950644,4.39961206,0.72464273,-4.86563631,-6.06338084,-1.22209949,-0.4699618,1.01222748,-0.6899355,-0.53000581,6.86966784,-3.27211075,-6.59044146,-2.21290585,-3.139579]]\n",
        "yhat = model.predict(data)\n",
        "print('Predicted Class: %d' % (yhat))"
      ],
      "execution_count": 47,
      "outputs": [
        {
          "output_type": "stream",
          "text": [
            "Predicted Class: 0\n"
          ],
          "name": "stdout"
        }
      ]
    },
    {
      "cell_type": "markdown",
      "metadata": {
        "id": "I-kA8m58uowL",
        "colab_type": "text"
      },
      "source": [
        "### Stacking for Regression"
      ]
    },
    {
      "cell_type": "code",
      "metadata": {
        "id": "mHY8XzPKuVMc",
        "colab_type": "code",
        "colab": {
          "base_uri": "https://localhost:8080/",
          "height": 316
        },
        "outputId": "a5fc3684-45f0-42dc-8f53-5147e4ca53c6"
      },
      "source": [
        "# compare machine learning models for regression\n",
        "from numpy import mean\n",
        "from numpy import std\n",
        "from sklearn.datasets import make_regression\n",
        "from sklearn.model_selection import cross_val_score\n",
        "from sklearn.model_selection import RepeatedKFold\n",
        "from sklearn.linear_model import LinearRegression\n",
        "from sklearn.neighbors import KNeighborsRegressor\n",
        "from sklearn.tree import DecisionTreeRegressor\n",
        "from sklearn.svm import SVR\n",
        "from matplotlib import pyplot\n",
        "\n",
        "# get the dataset\n",
        "def get_dataset():\n",
        "\tX, y = make_regression(n_samples=1000, n_features=20, n_informative=15, noise=0.1, random_state=1)\n",
        "\treturn X, y\n",
        "\n",
        "# get a list of models to evaluate\n",
        "def get_models():\n",
        "\tmodels = dict()\n",
        "\tmodels['knn'] = KNeighborsRegressor()\n",
        "\tmodels['cart'] = DecisionTreeRegressor()\n",
        "\tmodels['svm'] = SVR()\n",
        "\treturn models\n",
        "\n",
        "# evaluate a given model using cross-validation\n",
        "def evaluate_model(model, X, y):\n",
        "\tcv = RepeatedKFold(n_splits=10, n_repeats=3, random_state=1)\n",
        "\tscores = cross_val_score(model, X, y, scoring='neg_mean_absolute_error', cv=cv, n_jobs=-1, error_score='raise')\n",
        "\treturn scores\n",
        "\n",
        "# define dataset\n",
        "X, y = get_dataset()\n",
        "# get the models to evaluate\n",
        "models = get_models()\n",
        "# evaluate the models and store results\n",
        "results, names = list(), list()\n",
        "for name, model in models.items():\n",
        "\tscores = evaluate_model(model, X, y)\n",
        "\tresults.append(scores)\n",
        "\tnames.append(name)\n",
        "\tprint('>%s %.3f (%.3f)' % (name, mean(scores), std(scores)))\n",
        "# plot model performance for comparison\n",
        "pyplot.boxplot(results, labels=names, showmeans=True)\n",
        "pyplot.show()"
      ],
      "execution_count": 48,
      "outputs": [
        {
          "output_type": "stream",
          "text": [
            ">knn -101.019 (7.161)\n",
            ">cart -147.580 (12.500)\n",
            ">svm -162.419 (12.565)\n"
          ],
          "name": "stdout"
        },
        {
          "output_type": "display_data",
          "data": {
            "image/png": "[encoded data removed]",
            "text/plain": [
              "<Figure size 432x288 with 1 Axes>"
            ]
          },
          "metadata": {
            "tags": [],
            "needs_background": "light"
          }
        }
      ]
    },
    {
      "cell_type": "code",
      "metadata": {
        "id": "hfmc1gsruwwo",
        "colab_type": "code",
        "colab": {
          "base_uri": "https://localhost:8080/",
          "height": 336
        },
        "outputId": "3bf153a3-6c45-43ca-f44c-ee01a404ad37"
      },
      "source": [
        "# compare ensemble to each standalone models for regression\n",
        "from numpy import mean\n",
        "from numpy import std\n",
        "from sklearn.datasets import make_regression\n",
        "from sklearn.model_selection import cross_val_score\n",
        "from sklearn.model_selection import RepeatedKFold\n",
        "from sklearn.linear_model import LinearRegression\n",
        "from sklearn.neighbors import KNeighborsRegressor\n",
        "from sklearn.tree import DecisionTreeRegressor\n",
        "from sklearn.svm import SVR\n",
        "from sklearn.ensemble import StackingRegressor\n",
        "from matplotlib import pyplot\n",
        "\n",
        "# get the dataset\n",
        "def get_dataset():\n",
        "\tX, y = make_regression(n_samples=1000, n_features=20, n_informative=15, noise=0.1, random_state=1)\n",
        "\treturn X, y\n",
        "\n",
        "# get a stacking ensemble of models\n",
        "def get_stacking():\n",
        "\t# define the base models\n",
        "\tlevel0 = list()\n",
        "\tlevel0.append(('knn', KNeighborsRegressor()))\n",
        "\tlevel0.append(('cart', DecisionTreeRegressor()))\n",
        "\tlevel0.append(('svm', SVR()))\n",
        "\t# define meta learner model\n",
        "\tlevel1 = LinearRegression()\n",
        "\t# define the stacking ensemble\n",
        "\tmodel = StackingRegressor(estimators=level0, final_estimator=level1, cv=5)\n",
        "\treturn model\n",
        "\n",
        "# get a list of models to evaluate\n",
        "def get_models():\n",
        "\tmodels = dict()\n",
        "\tmodels['knn'] = KNeighborsRegressor()\n",
        "\tmodels['cart'] = DecisionTreeRegressor()\n",
        "\tmodels['svm'] = SVR()\n",
        "\tmodels['stacking'] = get_stacking()\n",
        "\treturn models\n",
        "\n",
        "# evaluate a given model using cross-validation\n",
        "def evaluate_model(model, X, y):\n",
        "\tcv = RepeatedKFold(n_splits=10, n_repeats=3, random_state=1)\n",
        "\tscores = cross_val_score(model, X, y, scoring='neg_mean_absolute_error', cv=cv, n_jobs=-1, error_score='raise')\n",
        "\treturn scores\n",
        "\n",
        "# define dataset\n",
        "X, y = get_dataset()\n",
        "# get the models to evaluate\n",
        "models = get_models()\n",
        "# evaluate the models and store results\n",
        "results, names = list(), list()\n",
        "for name, model in models.items():\n",
        "\tscores = evaluate_model(model, X, y)\n",
        "\tresults.append(scores)\n",
        "\tnames.append(name)\n",
        "\tprint('>%s %.3f (%.3f)' % (name, mean(scores), std(scores)))\n",
        "# plot model performance for comparison\n",
        "pyplot.boxplot(results, labels=names, showmeans=True)\n",
        "pyplot.show()"
      ],
      "execution_count": 49,
      "outputs": [
        {
          "output_type": "stream",
          "text": [
            ">knn -101.019 (7.161)\n",
            ">cart -148.877 (10.607)\n",
            ">svm -162.419 (12.565)\n",
            ">stacking -56.657 (5.152)\n"
          ],
          "name": "stdout"
        },
        {
          "output_type": "display_data",
          "data": {
            "image/png": "[encoded data removed]",
            "text/plain": [
              "<Figure size 432x288 with 1 Axes>"
            ]
          },
          "metadata": {
            "tags": [],
            "needs_background": "light"
          }
        }
      ]
    },
    {
      "cell_type": "code",
      "metadata": {
        "id": "JzDfR05pu8GC",
        "colab_type": "code",
        "colab": {
          "base_uri": "https://localhost:8080/",
          "height": 34
        },
        "outputId": "8468045c-4deb-432d-9576-0d74593fd4d3"
      },
      "source": [
        "# make a prediction with a stacking ensemble\n",
        "from sklearn.datasets import make_regression\n",
        "from sklearn.linear_model import LinearRegression\n",
        "from sklearn.neighbors import KNeighborsRegressor\n",
        "from sklearn.tree import DecisionTreeRegressor\n",
        "from sklearn.svm import SVR\n",
        "from sklearn.ensemble import StackingRegressor\n",
        "# define dataset\n",
        "X, y = make_regression(n_samples=1000, n_features=20, n_informative=15, noise=0.1, random_state=1)\n",
        "# define the base models\n",
        "level0 = list()\n",
        "level0.append(('knn', KNeighborsRegressor()))\n",
        "level0.append(('cart', DecisionTreeRegressor()))\n",
        "level0.append(('svm', SVR()))\n",
        "# define meta learner model\n",
        "level1 = LinearRegression()\n",
        "# define the stacking ensemble\n",
        "model = StackingRegressor(estimators=level0, final_estimator=level1, cv=5)\n",
        "# fit the model on all available data\n",
        "model.fit(X, y)\n",
        "# make a prediction for one example\n",
        "data = [[0.59332206,-0.56637507,1.34808718,-0.57054047,-0.72480487,1.05648449,0.77744852,0.07361796,0.88398267,2.02843157,1.01902732,0.11227799,0.94218853,0.26741783,0.91458143,-0.72759572,1.08842814,-0.61450942,-0.69387293,1.69169009]]\n",
        "yhat = model.predict(data)\n",
        "print('Predicted Value: %.3f' % (yhat))"
      ],
      "execution_count": 50,
      "outputs": [
        {
          "output_type": "stream",
          "text": [
            "Predicted Value: 557.499\n"
          ],
          "name": "stdout"
        }
      ]
    },
    {
      "cell_type": "markdown",
      "metadata": {
        "id": "hXH2Uc4hxMgp",
        "colab_type": "text"
      },
      "source": [
        "Ref: https://machinelearningmastery.com/stacking-ensemble-machine-learning-with-python/"
      ]
    },
    {
      "cell_type": "code",
      "metadata": {
        "id": "gpMv4-SPvEmc",
        "colab_type": "code",
        "colab": {}
      },
      "source": [
        ""
      ],
      "execution_count": null,
      "outputs": []
    }
  ]
}