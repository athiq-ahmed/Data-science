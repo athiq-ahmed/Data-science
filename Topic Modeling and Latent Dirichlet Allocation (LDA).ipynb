{
 "cells": [
  {
   "cell_type": "markdown",
   "metadata": {},
   "source": [
    "## Topic Modeling and Latent Dirichlet Allocation (LDA)"
   ]
  },
  {
   "cell_type": "markdown",
   "metadata": {},
   "source": [
    "Topic modeling is a type of statistical modeling for discovering the abstract “topics” that occur in a collection of documents. Latent Dirichlet Allocation (LDA) is an example of topic model and is used to classify text in a document to a particular topic. It builds a topic per document model and words per topic model, modeled as Dirichlet distributions."
   ]
  },
  {
   "cell_type": "markdown",
   "metadata": {},
   "source": [
    "##### The Data"
   ]
  },
  {
   "cell_type": "markdown",
   "metadata": {},
   "source": [
    "The data set we’ll use is a list of over one million news headlines published over a period of 15 years "
   ]
  },
  {
   "cell_type": "code",
   "execution_count": 2,
   "metadata": {},
   "outputs": [],
   "source": [
    "import pandas as pd\n",
    "\n",
    "data = pd.read_csv(r'C:\\Users\\athiq.ahmed\\Desktop\\Other\\Python code\\ML\\Text data analysis\\Datasets\\abcnews-date-text.csv')"
   ]
  },
  {
   "cell_type": "code",
   "execution_count": 3,
   "metadata": {},
   "outputs": [
    {
     "name": "stdout",
     "output_type": "stream",
     "text": [
      "   publish_date                                      headline_text\n",
      "0      20030219  aba decides against community broadcasting lic...\n",
      "1      20030219     act fire witnesses must be aware of defamation\n",
      "2      20030219     a g calls for infrastructure protection summit\n",
      "3      20030219           air nz staff in aust strike for pay rise\n",
      "4      20030219      air nz strike to affect australian travellers\n"
     ]
    }
   ],
   "source": [
    "print(data.head())"
   ]
  },
  {
   "cell_type": "code",
   "execution_count": 10,
   "metadata": {},
   "outputs": [
    {
     "name": "stdout",
     "output_type": "stream",
     "text": [
      "                                       headline_text  index\n",
      "0  aba decides against community broadcasting lic...      0\n",
      "1     act fire witnesses must be aware of defamation      1\n",
      "2     a g calls for infrastructure protection summit      2\n",
      "3           air nz staff in aust strike for pay rise      3\n",
      "4      air nz strike to affect australian travellers      4\n"
     ]
    }
   ],
   "source": [
    "data_text = data[['headline_text']]\n",
    "data_text['index']=data_text.index\n",
    "documents = data_text\n",
    "print(documents[:5])"
   ]
  },
  {
   "cell_type": "code",
   "execution_count": 11,
   "metadata": {},
   "outputs": [
    {
     "data": {
      "text/plain": [
       "1103665"
      ]
     },
     "execution_count": 11,
     "metadata": {},
     "output_type": "execute_result"
    }
   ],
   "source": [
    "len(documents)"
   ]
  },
  {
   "cell_type": "markdown",
   "metadata": {},
   "source": [
    "##### Data preprocessing"
   ]
  },
  {
   "cell_type": "markdown",
   "metadata": {},
   "source": [
    "    We will perform the following steps:\n",
    "    1. Tokenization: Split the text into sentences and the sentences into words. Lowercase the words and remove punctuation.\n",
    "    2. Words that have fewer than 3 characters are removed.\n",
    "    3. All stopwords are removed.\n",
    "    4. Words are lemmatized — words in third person are changed to first person and verbs in past and future tenses are \n",
    "       changed into present.\n",
    "    5. Words are stemmed — words are reduced to their root form."
   ]
  },
  {
   "cell_type": "code",
   "execution_count": null,
   "metadata": {},
   "outputs": [],
   "source": [
    "# !pip install gensim\n",
    "\n",
    "import gensim\n",
    "from gensim.utils import simple_preprocess\n",
    "from gensim.parsing.preprocessing import STOPWORDS\n",
    "from nltk.stem import WordNetLemmatizer, SnowballStemmer\n",
    "from nltk.stem.porter import *\n",
    "import numpy as np\n",
    "np.random.seed(2018)"
   ]
  },
  {
   "cell_type": "code",
   "execution_count": 17,
   "metadata": {},
   "outputs": [
    {
     "name": "stdout",
     "output_type": "stream",
     "text": [
      "[nltk_data] Downloading package wordnet to\n",
      "[nltk_data]     C:\\Users\\athiq.ahmed\\AppData\\Roaming\\nltk_data...\n",
      "[nltk_data]   Unzipping corpora\\wordnet.zip.\n"
     ]
    },
    {
     "data": {
      "text/plain": [
       "True"
      ]
     },
     "execution_count": 17,
     "metadata": {},
     "output_type": "execute_result"
    }
   ],
   "source": [
    "import nltk\n",
    "nltk.download('wordnet')"
   ]
  },
  {
   "cell_type": "markdown",
   "metadata": {},
   "source": [
    "##### Lemmatize example"
   ]
  },
  {
   "cell_type": "code",
   "execution_count": 18,
   "metadata": {},
   "outputs": [
    {
     "name": "stdout",
     "output_type": "stream",
     "text": [
      "go\n"
     ]
    }
   ],
   "source": [
    "print(WordNetLemmatizer().lemmatize('went',pos='v'))"
   ]
  },
  {
   "cell_type": "markdown",
   "metadata": {},
   "source": [
    "##### Stemmer Example"
   ]
  },
  {
   "cell_type": "code",
   "execution_count": null,
   "metadata": {},
   "outputs": [],
   "source": [
    "stemmer = SnowballStemmer('english')\n",
    "\n",
    "stemmerstemmer = SnowballStemmer('english')\n",
    "original_words = ['caresses', 'flies', 'dies', 'mules', 'denied','died', 'agreed', 'owned', \n",
    "           'humbled', 'sized','meeting', 'stating', 'siezing', 'itemization','sensational', \n",
    "           'traditional', 'reference', 'colonizer','plotted']\n",
    "singles = [stemmer.stem(plural) for plural in original_words]\n",
    "pd.DataFrame(data={'original_word':original_words, 'stemmed':singles})"
   ]
  },
  {
   "cell_type": "markdown",
   "metadata": {},
   "source": [
    "##### Write a function to perform lemmatize and stem preprocessing steps on the data set."
   ]
  },
  {
   "cell_type": "code",
   "execution_count": 21,
   "metadata": {},
   "outputs": [],
   "source": [
    "def lemmatize_stemming(text):\n",
    "    return stemmer.stem(WordNetLemmatizer().lemmatize(text,pos='v'))"
   ]
  },
  {
   "cell_type": "code",
   "execution_count": 26,
   "metadata": {},
   "outputs": [],
   "source": [
    "def preprocess(text):\n",
    "    result = []\n",
    "    for token in gensim.utils.simple_preprocess(text):\n",
    "        if token not in gensim.parsing.preprocessing.STOPWORDS and len(token) > 3:\n",
    "            result.append(lemmatize_stemming(token))\n",
    "    return result"
   ]
  },
  {
   "cell_type": "code",
   "execution_count": 27,
   "metadata": {},
   "outputs": [
    {
     "data": {
      "text/plain": [
       "['decid', 'communiti', 'broadcast', 'licenc']"
      ]
     },
     "execution_count": 27,
     "metadata": {},
     "output_type": "execute_result"
    }
   ],
   "source": [
    "preprocess('aba decides against community broadcasting licence')"
   ]
  },
  {
   "cell_type": "markdown",
   "metadata": {},
   "source": [
    "##### Select a document to preview after preprocessing."
   ]
  },
  {
   "cell_type": "code",
   "execution_count": 35,
   "metadata": {},
   "outputs": [
    {
     "data": {
      "text/plain": [
       "'rain helps dampen bushfires'"
      ]
     },
     "execution_count": 35,
     "metadata": {},
     "output_type": "execute_result"
    }
   ],
   "source": [
    "doc_sample = documents[documents['index'] ==4310].values[0][0];doc_sample\n",
    "# doc_sample = documents[documents['index'] ==4310];doc_sample"
   ]
  },
  {
   "cell_type": "code",
   "execution_count": 46,
   "metadata": {},
   "outputs": [
    {
     "name": "stdout",
     "output_type": "stream",
     "text": [
      "original document: \n",
      "['rain', 'helps', 'dampen', 'bushfires']\n",
      "\n",
      "tokenized and lemmatized document: \n",
      "['rain', 'help', 'dampen', 'bushfir']\n"
     ]
    }
   ],
   "source": [
    "print('original document: ')\n",
    "words =[]\n",
    "for word in doc_sample.split(' '):\n",
    "    words.append(word)\n",
    "print(words)\n",
    "print('\\ntokenized and lemmatized document: ')\n",
    "print(preprocess(doc_sample))"
   ]
  },
  {
   "cell_type": "markdown",
   "metadata": {},
   "source": [
    "###### Preprocess the headline text, saving the results as ‘processed_docs"
   ]
  },
  {
   "cell_type": "code",
   "execution_count": 48,
   "metadata": {},
   "outputs": [
    {
     "data": {
      "text/plain": [
       "0            [decid, communiti, broadcast, licenc]\n",
       "1                               [wit, awar, defam]\n",
       "2           [call, infrastructur, protect, summit]\n",
       "3                      [staff, aust, strike, rise]\n",
       "4             [strike, affect, australian, travel]\n",
       "5               [ambiti, olsson, win, tripl, jump]\n",
       "6           [antic, delight, record, break, barca]\n",
       "7    [aussi, qualifi, stosur, wast, memphi, match]\n",
       "8            [aust, address, secur, council, iraq]\n",
       "9                         [australia, lock, timet]\n",
       "Name: headline_text, dtype: object"
      ]
     },
     "execution_count": 48,
     "metadata": {},
     "output_type": "execute_result"
    }
   ],
   "source": [
    "processed_docs = documents['headline_text'].map(preprocess)\n",
    "processed_docs[:10]"
   ]
  },
  {
   "cell_type": "markdown",
   "metadata": {},
   "source": [
    "##### Bag of Words on the Data set"
   ]
  },
  {
   "cell_type": "markdown",
   "metadata": {},
   "source": [
    "Create a dictionary from ‘processed_docs’ containing the number of times a word appears in the training set."
   ]
  },
  {
   "cell_type": "code",
   "execution_count": 52,
   "metadata": {},
   "outputs": [
    {
     "name": "stdout",
     "output_type": "stream",
     "text": [
      "Dictionary(62245 unique tokens: ['broadcast', 'communiti', 'decid', 'licenc', 'awar']...)\n"
     ]
    }
   ],
   "source": [
    "dictionary = gensim.corpora.Dictionary(processed_docs)\n",
    "print(dictionary)"
   ]
  },
  {
   "cell_type": "code",
   "execution_count": 55,
   "metadata": {},
   "outputs": [
    {
     "name": "stdout",
     "output_type": "stream",
     "text": [
      "0 broadcast\n",
      "1 communiti\n",
      "2 decid\n",
      "3 licenc\n",
      "4 awar\n",
      "5 defam\n",
      "6 wit\n",
      "7 call\n",
      "8 infrastructur\n",
      "9 protect\n",
      "10 summit\n"
     ]
    }
   ],
   "source": [
    "count = 0\n",
    "for k,v in dictionary.iteritems():\n",
    "    print(k,v)\n",
    "    count+=1\n",
    "    if count>10:\n",
    "        break"
   ]
  },
  {
   "cell_type": "markdown",
   "metadata": {},
   "source": [
    "##### Gensim filter_extremes"
   ]
  },
  {
   "cell_type": "markdown",
   "metadata": {},
   "source": [
    "Filter out tokens that appear in\n",
    "\n",
    "less than 15 documents (absolute number) or\n",
    "more than 0.5 documents (fraction of total corpus size, not absolute number).\n",
    "after the above two steps, keep only the first 100000 most frequent tokens."
   ]
  },
  {
   "cell_type": "code",
   "execution_count": 56,
   "metadata": {},
   "outputs": [],
   "source": [
    "dictionary.filter_extremes(no_below=15,no_above=0.5,keep_n=100000)"
   ]
  },
  {
   "cell_type": "markdown",
   "metadata": {},
   "source": [
    "##### Gensim doc2bow"
   ]
  },
  {
   "cell_type": "markdown",
   "metadata": {},
   "source": [
    "For each document we create a dictionary reporting how many\n",
    "words and how many times those words appear. Save this to ‘bow_corpus’, then check our selected document earlier."
   ]
  },
  {
   "cell_type": "code",
   "execution_count": 58,
   "metadata": {},
   "outputs": [],
   "source": [
    "bow_corpus = [dictionary.doc2bow(doc) for doc in processed_docs]"
   ]
  },
  {
   "cell_type": "markdown",
   "metadata": {},
   "source": [
    "##### Preview Bag Of Words for our sample preprocessed document."
   ]
  },
  {
   "cell_type": "code",
   "execution_count": 59,
   "metadata": {},
   "outputs": [
    {
     "data": {
      "text/plain": [
       "[(76, 1), (112, 1), (483, 1), (4014, 1)]"
      ]
     },
     "execution_count": 59,
     "metadata": {},
     "output_type": "execute_result"
    }
   ],
   "source": [
    "bow_corpus[4310]"
   ]
  },
  {
   "cell_type": "code",
   "execution_count": 64,
   "metadata": {},
   "outputs": [
    {
     "name": "stdout",
     "output_type": "stream",
     "text": [
      "word 76 (\"bushfir\") appears 1 time.\n",
      "word 112 (\"help\") appears 1 time.\n",
      "word 483 (\"rain\") appears 1 time.\n",
      "word 4014 (\"dampen\") appears 1 time.\n"
     ]
    }
   ],
   "source": [
    "bow_doc_4310 = bow_corpus[4310]\n",
    "\n",
    "for i in range(len(bow_doc_4310)):\n",
    "    print(\"word {} (\\\"{}\\\") appears {} time.\"\n",
    "          .format(bow_doc_4310[i][0]\n",
    "                  ,dictionary[bow_doc_4310[i][0]]\n",
    "                  ,bow_doc_4310[i][1]))"
   ]
  },
  {
   "cell_type": "markdown",
   "metadata": {},
   "source": [
    "##### TF-IDF"
   ]
  },
  {
   "cell_type": "markdown",
   "metadata": {},
   "source": [
    "Create tf-idf model object using models.TfidfModel on ‘bow_corpus’ and save it to ‘tfidf’, then apply transformation to the entire corpus and call it ‘corpus_tfidf’. Finally we preview TF-IDF scores for our first document."
   ]
  },
  {
   "cell_type": "code",
   "execution_count": 99,
   "metadata": {},
   "outputs": [
    {
     "name": "stdout",
     "output_type": "stream",
     "text": [
      "[(0, 0.5892908644709983),\n",
      " (1, 0.38929657403503015),\n",
      " (2, 0.4964985198530063),\n",
      " (3, 0.5046520328695662)]\n"
     ]
    }
   ],
   "source": [
    "from gensim import corpora, models\n",
    "\n",
    "tfidf = models.TfidfModel(bow_corpus)\n",
    "corpus_tfidf = tfidf[bow_corpus]\n",
    "\n",
    "from pprint import pprint\n",
    "\n",
    "for doc in corpus_tfidf:\n",
    "    pprint(doc)\n",
    "    break"
   ]
  },
  {
   "cell_type": "markdown",
   "metadata": {},
   "source": [
    "##### Running LDA using Bag of Words"
   ]
  },
  {
   "cell_type": "markdown",
   "metadata": {},
   "source": [
    "Train our lda model using gensim.models.LdaMulticore and save it to ‘lda_model’"
   ]
  },
  {
   "cell_type": "code",
   "execution_count": 101,
   "metadata": {},
   "outputs": [],
   "source": [
    "lda_model = gensim.models.LdaMulticore(bow_corpus,num_topics=10,id2word=dictionary,passes=2,workers=2)"
   ]
  },
  {
   "cell_type": "code",
   "execution_count": 102,
   "metadata": {},
   "outputs": [
    {
     "name": "stdout",
     "output_type": "stream",
     "text": [
      "Topic: 0 \n",
      "Words: 0.029*\"elect\" + 0.018*\"death\" + 0.017*\"hospit\" + 0.017*\"say\" + 0.016*\"tasmanian\" + 0.015*\"labor\" + 0.013*\"deal\" + 0.013*\"china\" + 0.011*\"polit\" + 0.011*\"talk\"\n",
      "Topic: 1 \n",
      "Words: 0.019*\"nation\" + 0.018*\"coast\" + 0.016*\"help\" + 0.016*\"countri\" + 0.015*\"state\" + 0.015*\"chang\" + 0.014*\"health\" + 0.013*\"hour\" + 0.013*\"indigen\" + 0.012*\"water\"\n",
      "Topic: 2 \n",
      "Words: 0.019*\"canberra\" + 0.018*\"market\" + 0.014*\"rise\" + 0.014*\"west\" + 0.014*\"australian\" + 0.013*\"turnbul\" + 0.013*\"price\" + 0.013*\"share\" + 0.011*\"victoria\" + 0.011*\"bank\"\n",
      "Topic: 3 \n",
      "Words: 0.063*\"polic\" + 0.023*\"crash\" + 0.019*\"interview\" + 0.018*\"miss\" + 0.018*\"shoot\" + 0.016*\"arrest\" + 0.015*\"investig\" + 0.013*\"driver\" + 0.012*\"search\" + 0.011*\"offic\"\n",
      "Topic: 4 \n",
      "Words: 0.029*\"charg\" + 0.027*\"court\" + 0.021*\"murder\" + 0.018*\"woman\" + 0.018*\"face\" + 0.016*\"die\" + 0.016*\"alleg\" + 0.015*\"brisban\" + 0.015*\"live\" + 0.015*\"jail\"\n",
      "Topic: 5 \n",
      "Words: 0.035*\"australia\" + 0.022*\"melbourn\" + 0.021*\"world\" + 0.017*\"open\" + 0.014*\"final\" + 0.013*\"donald\" + 0.011*\"sydney\" + 0.010*\"leagu\" + 0.010*\"take\" + 0.010*\"win\"\n",
      "Topic: 6 \n",
      "Words: 0.026*\"south\" + 0.025*\"kill\" + 0.015*\"island\" + 0.013*\"fall\" + 0.011*\"attack\" + 0.009*\"forc\" + 0.009*\"shark\" + 0.009*\"east\" + 0.008*\"northern\" + 0.007*\"great\"\n",
      "Topic: 7 \n",
      "Words: 0.019*\"council\" + 0.015*\"power\" + 0.013*\"farmer\" + 0.012*\"busi\" + 0.011*\"guilti\" + 0.010*\"region\" + 0.010*\"feder\" + 0.009*\"research\" + 0.009*\"industri\" + 0.009*\"energi\"\n",
      "Topic: 8 \n",
      "Words: 0.036*\"trump\" + 0.031*\"australian\" + 0.019*\"queensland\" + 0.014*\"leav\" + 0.014*\"australia\" + 0.012*\"say\" + 0.011*\"show\" + 0.011*\"report\" + 0.011*\"royal\" + 0.010*\"meet\"\n",
      "Topic: 9 \n",
      "Words: 0.036*\"govern\" + 0.020*\"test\" + 0.018*\"rural\" + 0.014*\"break\" + 0.013*\"worker\" + 0.012*\"school\" + 0.012*\"news\" + 0.010*\"violenc\" + 0.010*\"say\" + 0.009*\"premier\"\n"
     ]
    }
   ],
   "source": [
    "for idx,topic in lda_model.print_topics(-1):\n",
    "    print('Topic: {} \\nWords: {}'.format(idx,topic))"
   ]
  },
  {
   "cell_type": "markdown",
   "metadata": {},
   "source": [
    "##### Running LDA using TF-IDF"
   ]
  },
  {
   "cell_type": "code",
   "execution_count": 103,
   "metadata": {},
   "outputs": [],
   "source": [
    "lda_model_tfidf = gensim.models.LdaMulticore(corpus_tfidf,num_topics=10,id2word=dictionary,passes=2,workers=4)"
   ]
  },
  {
   "cell_type": "code",
   "execution_count": 104,
   "metadata": {},
   "outputs": [
    {
     "name": "stdout",
     "output_type": "stream",
     "text": [
      "Topic: 0 \n",
      "Words: 0.010*\"sport\" + 0.008*\"plead\" + 0.008*\"abbott\" + 0.008*\"michael\" + 0.007*\"monday\" + 0.007*\"dairi\" + 0.006*\"toni\" + 0.006*\"wrap\" + 0.005*\"origin\" + 0.005*\"live\"\n",
      "Topic: 1 \n",
      "Words: 0.020*\"countri\" + 0.019*\"hour\" + 0.008*\"violenc\" + 0.007*\"grandstand\" + 0.007*\"korea\" + 0.006*\"strike\" + 0.006*\"asylum\" + 0.005*\"domest\" + 0.005*\"north\" + 0.005*\"islam\"\n",
      "Topic: 2 \n",
      "Words: 0.012*\"interview\" + 0.010*\"donald\" + 0.007*\"leagu\" + 0.007*\"final\" + 0.007*\"rugbi\" + 0.006*\"peter\" + 0.006*\"wednesday\" + 0.006*\"thursday\" + 0.006*\"august\" + 0.006*\"syria\"\n",
      "Topic: 3 \n",
      "Words: 0.007*\"climat\" + 0.007*\"friday\" + 0.007*\"mother\" + 0.006*\"tuesday\" + 0.006*\"festiv\" + 0.006*\"care\" + 0.006*\"histori\" + 0.005*\"quiz\" + 0.005*\"thousand\" + 0.005*\"music\"\n",
      "Topic: 4 \n",
      "Words: 0.008*\"christma\" + 0.006*\"farm\" + 0.006*\"energi\" + 0.006*\"stori\" + 0.005*\"decemb\" + 0.005*\"plan\" + 0.004*\"blog\" + 0.004*\"centr\" + 0.004*\"town\" + 0.004*\"council\"\n",
      "Topic: 5 \n",
      "Words: 0.010*\"australia\" + 0.009*\"podcast\" + 0.009*\"market\" + 0.008*\"weather\" + 0.008*\"share\" + 0.007*\"australian\" + 0.006*\"south\" + 0.005*\"world\" + 0.005*\"novemb\" + 0.005*\"test\"\n",
      "Topic: 6 \n",
      "Words: 0.022*\"rural\" + 0.016*\"news\" + 0.009*\"nation\" + 0.008*\"ash\" + 0.007*\"celebr\" + 0.007*\"victorian\" + 0.006*\"busi\" + 0.006*\"liber\" + 0.005*\"explain\" + 0.004*\"kid\"\n",
      "Topic: 7 \n",
      "Words: 0.017*\"polic\" + 0.015*\"charg\" + 0.014*\"murder\" + 0.013*\"crash\" + 0.012*\"woman\" + 0.011*\"court\" + 0.010*\"death\" + 0.009*\"alleg\" + 0.008*\"shoot\" + 0.008*\"assault\"\n",
      "Topic: 8 \n",
      "Words: 0.012*\"drum\" + 0.007*\"rise\" + 0.007*\"mental\" + 0.006*\"queensland\" + 0.006*\"rat\" + 0.006*\"june\" + 0.006*\"rate\" + 0.005*\"drive\" + 0.005*\"polic\" + 0.005*\"spring\"\n",
      "Topic: 9 \n",
      "Words: 0.016*\"trump\" + 0.013*\"govern\" + 0.008*\"turnbul\" + 0.007*\"elect\" + 0.007*\"fund\" + 0.006*\"labor\" + 0.006*\"say\" + 0.006*\"indigen\" + 0.006*\"royal\" + 0.005*\"commiss\"\n"
     ]
    }
   ],
   "source": [
    "for idx,topic in lda_model_tfidf.print_topics(-1):\n",
    "    print('Topic: {} \\nWords: {}'.format(idx,topic))"
   ]
  },
  {
   "cell_type": "markdown",
   "metadata": {},
   "source": [
    "##### Performance evaluation by classifying sample document using LDA Bag of Words model"
   ]
  },
  {
   "cell_type": "code",
   "execution_count": 105,
   "metadata": {},
   "outputs": [
    {
     "data": {
      "text/plain": [
       "['rain', 'help', 'dampen', 'bushfir']"
      ]
     },
     "execution_count": 105,
     "metadata": {},
     "output_type": "execute_result"
    }
   ],
   "source": [
    "processed_docs[4310]"
   ]
  },
  {
   "cell_type": "code",
   "execution_count": 107,
   "metadata": {},
   "outputs": [
    {
     "name": "stdout",
     "output_type": "stream",
     "text": [
      "\n",
      "Score: 0.41999879479408264 \t \n",
      "Topic: 0.026*\"south\" + 0.025*\"kill\" + 0.015*\"island\" + 0.013*\"fall\" + 0.011*\"attack\" + 0.009*\"forc\" + 0.009*\"shark\" + 0.009*\"east\" + 0.008*\"northern\" + 0.007*\"great\"\n",
      "\n",
      "Score: 0.2200000286102295 \t \n",
      "Topic: 0.019*\"nation\" + 0.018*\"coast\" + 0.016*\"help\" + 0.016*\"countri\" + 0.015*\"state\" + 0.015*\"chang\" + 0.014*\"health\" + 0.013*\"hour\" + 0.013*\"indigen\" + 0.012*\"water\"\n",
      "\n",
      "Score: 0.2200000286102295 \t \n",
      "Topic: 0.035*\"australia\" + 0.022*\"melbourn\" + 0.021*\"world\" + 0.017*\"open\" + 0.014*\"final\" + 0.013*\"donald\" + 0.011*\"sydney\" + 0.010*\"leagu\" + 0.010*\"take\" + 0.010*\"win\"\n",
      "\n",
      "Score: 0.020001189783215523 \t \n",
      "Topic: 0.019*\"council\" + 0.015*\"power\" + 0.013*\"farmer\" + 0.012*\"busi\" + 0.011*\"guilti\" + 0.010*\"region\" + 0.010*\"feder\" + 0.009*\"research\" + 0.009*\"industri\" + 0.009*\"energi\"\n",
      "\n",
      "Score: 0.019999999552965164 \t \n",
      "Topic: 0.029*\"elect\" + 0.018*\"death\" + 0.017*\"hospit\" + 0.017*\"say\" + 0.016*\"tasmanian\" + 0.015*\"labor\" + 0.013*\"deal\" + 0.013*\"china\" + 0.011*\"polit\" + 0.011*\"talk\"\n",
      "\n",
      "Score: 0.019999999552965164 \t \n",
      "Topic: 0.019*\"canberra\" + 0.018*\"market\" + 0.014*\"rise\" + 0.014*\"west\" + 0.014*\"australian\" + 0.013*\"turnbul\" + 0.013*\"price\" + 0.013*\"share\" + 0.011*\"victoria\" + 0.011*\"bank\"\n",
      "\n",
      "Score: 0.019999999552965164 \t \n",
      "Topic: 0.063*\"polic\" + 0.023*\"crash\" + 0.019*\"interview\" + 0.018*\"miss\" + 0.018*\"shoot\" + 0.016*\"arrest\" + 0.015*\"investig\" + 0.013*\"driver\" + 0.012*\"search\" + 0.011*\"offic\"\n",
      "\n",
      "Score: 0.019999999552965164 \t \n",
      "Topic: 0.029*\"charg\" + 0.027*\"court\" + 0.021*\"murder\" + 0.018*\"woman\" + 0.018*\"face\" + 0.016*\"die\" + 0.016*\"alleg\" + 0.015*\"brisban\" + 0.015*\"live\" + 0.015*\"jail\"\n",
      "\n",
      "Score: 0.019999999552965164 \t \n",
      "Topic: 0.036*\"trump\" + 0.031*\"australian\" + 0.019*\"queensland\" + 0.014*\"leav\" + 0.014*\"australia\" + 0.012*\"say\" + 0.011*\"show\" + 0.011*\"report\" + 0.011*\"royal\" + 0.010*\"meet\"\n",
      "\n",
      "Score: 0.019999999552965164 \t \n",
      "Topic: 0.036*\"govern\" + 0.020*\"test\" + 0.018*\"rural\" + 0.014*\"break\" + 0.013*\"worker\" + 0.012*\"school\" + 0.012*\"news\" + 0.010*\"violenc\" + 0.010*\"say\" + 0.009*\"premier\"\n"
     ]
    }
   ],
   "source": [
    "for index,score in sorted(lda_model[bow_corpus[4310]], key=lambda tup:-1*tup[1]):\n",
    "                         print('\\nScore: {} \\t \\nTopic: {}'.format(score,lda_model.print_topic(index,10)))"
   ]
  },
  {
   "cell_type": "markdown",
   "metadata": {},
   "source": [
    "##### Performance evaluation by classifying sample document using LDA TF-IDF model"
   ]
  },
  {
   "cell_type": "code",
   "execution_count": 109,
   "metadata": {},
   "outputs": [
    {
     "name": "stdout",
     "output_type": "stream",
     "text": [
      "\n",
      "Score: 0.4107843041419983 \t \n",
      "Topic: 0.022*\"rural\" + 0.016*\"news\" + 0.009*\"nation\" + 0.008*\"ash\" + 0.007*\"celebr\" + 0.007*\"victorian\" + 0.006*\"busi\" + 0.006*\"liber\" + 0.005*\"explain\" + 0.004*\"kid\"\n",
      "\n",
      "Score: 0.27544841170310974 \t \n",
      "Topic: 0.010*\"sport\" + 0.008*\"plead\" + 0.008*\"abbott\" + 0.008*\"michael\" + 0.007*\"monday\" + 0.007*\"dairi\" + 0.006*\"toni\" + 0.006*\"wrap\" + 0.005*\"origin\" + 0.005*\"live\"\n",
      "\n",
      "Score: 0.17374882102012634 \t \n",
      "Topic: 0.008*\"christma\" + 0.006*\"farm\" + 0.006*\"energi\" + 0.006*\"stori\" + 0.005*\"decemb\" + 0.005*\"plan\" + 0.004*\"blog\" + 0.004*\"centr\" + 0.004*\"town\" + 0.004*\"council\"\n",
      "\n",
      "Score: 0.020004134625196457 \t \n",
      "Topic: 0.012*\"drum\" + 0.007*\"rise\" + 0.007*\"mental\" + 0.006*\"queensland\" + 0.006*\"rat\" + 0.006*\"june\" + 0.006*\"rate\" + 0.005*\"drive\" + 0.005*\"polic\" + 0.005*\"spring\"\n",
      "\n",
      "Score: 0.02000388875603676 \t \n",
      "Topic: 0.010*\"australia\" + 0.009*\"podcast\" + 0.009*\"market\" + 0.008*\"weather\" + 0.008*\"share\" + 0.007*\"australian\" + 0.006*\"south\" + 0.005*\"world\" + 0.005*\"novemb\" + 0.005*\"test\"\n",
      "\n",
      "Score: 0.020002851262688637 \t \n",
      "Topic: 0.016*\"trump\" + 0.013*\"govern\" + 0.008*\"turnbul\" + 0.007*\"elect\" + 0.007*\"fund\" + 0.006*\"labor\" + 0.006*\"say\" + 0.006*\"indigen\" + 0.006*\"royal\" + 0.005*\"commiss\"\n",
      "\n",
      "Score: 0.02000243030488491 \t \n",
      "Topic: 0.017*\"polic\" + 0.015*\"charg\" + 0.014*\"murder\" + 0.013*\"crash\" + 0.012*\"woman\" + 0.011*\"court\" + 0.010*\"death\" + 0.009*\"alleg\" + 0.008*\"shoot\" + 0.008*\"assault\"\n",
      "\n",
      "Score: 0.020002324134111404 \t \n",
      "Topic: 0.020*\"countri\" + 0.019*\"hour\" + 0.008*\"violenc\" + 0.007*\"grandstand\" + 0.007*\"korea\" + 0.006*\"strike\" + 0.006*\"asylum\" + 0.005*\"domest\" + 0.005*\"north\" + 0.005*\"islam\"\n",
      "\n",
      "Score: 0.020002247765660286 \t \n",
      "Topic: 0.007*\"climat\" + 0.007*\"friday\" + 0.007*\"mother\" + 0.006*\"tuesday\" + 0.006*\"festiv\" + 0.006*\"care\" + 0.006*\"histori\" + 0.005*\"quiz\" + 0.005*\"thousand\" + 0.005*\"music\"\n",
      "\n",
      "Score: 0.020000595599412918 \t \n",
      "Topic: 0.012*\"interview\" + 0.010*\"donald\" + 0.007*\"leagu\" + 0.007*\"final\" + 0.007*\"rugbi\" + 0.006*\"peter\" + 0.006*\"wednesday\" + 0.006*\"thursday\" + 0.006*\"august\" + 0.006*\"syria\"\n"
     ]
    }
   ],
   "source": [
    "for index,score in sorted(lda_model_tfidf[bow_corpus[4310]], key=lambda tup:-1*tup[1]):\n",
    "                         print('\\nScore: {} \\t \\nTopic: {}'.format(score,lda_model_tfidf.print_topic(index,10)))"
   ]
  },
  {
   "cell_type": "markdown",
   "metadata": {},
   "source": [
    "##### Testing model on unseen document"
   ]
  },
  {
   "cell_type": "code",
   "execution_count": 110,
   "metadata": {},
   "outputs": [
    {
     "name": "stdout",
     "output_type": "stream",
     "text": [
      "Score: 0.27935636043548584\t Topic: 0.029*\"elect\" + 0.018*\"death\" + 0.017*\"hospit\" + 0.017*\"say\" + 0.016*\"tasmanian\"\n",
      "Score: 0.2539708912372589\t Topic: 0.019*\"nation\" + 0.018*\"coast\" + 0.016*\"help\" + 0.016*\"countri\" + 0.015*\"state\"\n",
      "Score: 0.1833333522081375\t Topic: 0.019*\"canberra\" + 0.018*\"market\" + 0.014*\"rise\" + 0.014*\"west\" + 0.014*\"australian\"\n",
      "Score: 0.18333333730697632\t Topic: 0.063*\"polic\" + 0.023*\"crash\" + 0.019*\"interview\" + 0.018*\"miss\" + 0.018*\"shoot\"\n",
      "Score: 0.016672732308506966\t Topic: 0.036*\"trump\" + 0.031*\"australian\" + 0.019*\"queensland\" + 0.014*\"leav\" + 0.014*\"australia\"\n",
      "Score: 0.01666666753590107\t Topic: 0.029*\"charg\" + 0.027*\"court\" + 0.021*\"murder\" + 0.018*\"woman\" + 0.018*\"face\"\n",
      "Score: 0.01666666753590107\t Topic: 0.035*\"australia\" + 0.022*\"melbourn\" + 0.021*\"world\" + 0.017*\"open\" + 0.014*\"final\"\n",
      "Score: 0.01666666753590107\t Topic: 0.026*\"south\" + 0.025*\"kill\" + 0.015*\"island\" + 0.013*\"fall\" + 0.011*\"attack\"\n",
      "Score: 0.01666666753590107\t Topic: 0.019*\"council\" + 0.015*\"power\" + 0.013*\"farmer\" + 0.012*\"busi\" + 0.011*\"guilti\"\n",
      "Score: 0.01666666753590107\t Topic: 0.036*\"govern\" + 0.020*\"test\" + 0.018*\"rural\" + 0.014*\"break\" + 0.013*\"worker\"\n"
     ]
    }
   ],
   "source": [
    "unseen_document = 'How a Pentagon deal became an identity crisis for Google'\n",
    "bow_vector = dictionary.doc2bow(preprocess(unseen_document))\n",
    "for index, score in sorted(lda_model[bow_vector], key=lambda tup: -1*tup[1]):\n",
    "    print(\"Score: {}\\t Topic: {}\".format(score, lda_model.print_topic(index, 5)))"
   ]
  },
  {
   "cell_type": "code",
   "execution_count": null,
   "metadata": {},
   "outputs": [],
   "source": []
  },
  {
   "cell_type": "code",
   "execution_count": null,
   "metadata": {},
   "outputs": [],
   "source": []
  },
  {
   "cell_type": "code",
   "execution_count": null,
   "metadata": {},
   "outputs": [],
   "source": []
  },
  {
   "cell_type": "code",
   "execution_count": null,
   "metadata": {},
   "outputs": [],
   "source": []
  },
  {
   "cell_type": "code",
   "execution_count": null,
   "metadata": {},
   "outputs": [],
   "source": []
  },
  {
   "cell_type": "markdown",
   "metadata": {},
   "source": [
    "https://towardsdatascience.com/topic-modeling-and-latent-dirichlet-allocation-in-python-9bf156893c24"
   ]
  }
 ],
 "metadata": {
  "kernelspec": {
   "display_name": "Python 3",
   "language": "python",
   "name": "python3"
  },
  "language_info": {
   "codemirror_mode": {
    "name": "ipython",
    "version": 3
   },
   "file_extension": ".py",
   "mimetype": "text/x-python",
   "name": "python",
   "nbconvert_exporter": "python",
   "pygments_lexer": "ipython3",
   "version": "3.6.5"
  }
 },
 "nbformat": 4,
 "nbformat_minor": 2
}
