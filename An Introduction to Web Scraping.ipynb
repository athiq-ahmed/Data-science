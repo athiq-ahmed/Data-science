{
 "cells": [
  {
   "cell_type": "markdown",
   "metadata": {},
   "source": [
    "##### Web Scraping has many applications in business.A few examples are Market Sentiment Analysis, Customer Sentiment Analysis and Competitive Pricing."
   ]
  },
  {
   "cell_type": "markdown",
   "metadata": {},
   "source": [
    "##### Step 1: Before we scrape a website, we need to take a look at their robots.txt. \n",
    "\n",
    "    This file tells us if the website allows scraping or if they do not. To find the robots.txt, type in the base url and add       “/robots.txt”. For eg, if we want to crawl apartments.com, type in https://www.apartments.com/robots.txt at the url box.\n",
    "\n",
    "    If the robots.txt allows full access it says as follows:\n",
    "        User-agent: *\n",
    "        Disallow:\n",
    "\n",
    "    If the robots.txt blocks all access, it contains the following:\n",
    "        User-agent: *\n",
    "        Disallow: /\n",
    "\n",
    "    And if the robots.txt gives partial access, it contains the following, where section stands for the sections that are not to     be crawled:\n",
    "\n",
    "    User-agent: *\n",
    "    Disallow: /section/\n",
    "    \n",
    "    In the case of apartments.com, the robots.txt contains the following , as of today:\n",
    "    # Ensure UTF-8 WITHOUT SIGNATURE- no BOM \n",
    "    User-agent: *\n",
    "    Disallow: /services/\n",
    "\n",
    "    Sitemap: https://www.apartments.com/sitemapindex.xml.gz\n",
    "\n",
    "    This means we can crawl all the sections on the site except for the ones with apartments.com/services/ in the url."
   ]
  },
  {
   "cell_type": "code",
   "execution_count": 48,
   "metadata": {},
   "outputs": [],
   "source": [
    "# Step 2:Import the necessary libraries\n",
    "\n",
    "import requests                  # Requests is used in this example to get the html content\n",
    "from bs4 import BeautifulSoup    # BeautifulSoup to parse the html\n",
    "import pandas                    # pandas to make a dataframe and write to a csv"
   ]
  },
  {
   "cell_type": "code",
   "execution_count": 49,
   "metadata": {},
   "outputs": [],
   "source": [
    "# Step 3: Store the url you want to scrape to a variable\n",
    "\n",
    "base_url = 'https://www.apartments.com/cincinnati-oh/'"
   ]
  },
  {
   "cell_type": "code",
   "execution_count": null,
   "metadata": {},
   "outputs": [],
   "source": [
    "# Step 4: Get the html contents from the page. This is done using the requests library\n",
    "\n",
    "r = requests.get(base_url)\n",
    "c = r.content;c"
   ]
  },
  {
   "cell_type": "code",
   "execution_count": null,
   "metadata": {},
   "outputs": [],
   "source": [
    "# Step 5: Parse the html. This is done with BeautifulSoup\n",
    "\n",
    "soup = BeautifulSoup(c,\"html.parser\")\n",
    "soup"
   ]
  },
  {
   "cell_type": "code",
   "execution_count": 53,
   "metadata": {},
   "outputs": [],
   "source": [
    "# Step 6: Extract the first and last page numbers\n",
    "\n",
    "# to extract the first and last page numbers\n",
    "paging = soup.find(\"div\",{\"id\":\"placardContainer\"}).find(\"div\",{\"id\":\"paging\"}).find_all(\"a\")\n",
    "start_page=paging[1].text\n",
    "last_page=paging[len(paging)-2].text\n",
    "# start_page # 1\n",
    "# last_page  # 28"
   ]
  },
  {
   "cell_type": "code",
   "execution_count": 54,
   "metadata": {},
   "outputs": [],
   "source": [
    "# Step 7: Make an empty list to append all the content that we get later on\n",
    "\n",
    "web_content_list = []"
   ]
  },
  {
   "cell_type": "code",
   "execution_count": 88,
   "metadata": {},
   "outputs": [],
   "source": [
    "# Step 8: Make page links from the page numbers ,crawl through the pages and extract the contents from the corresponding tags.\n",
    "\n",
    "for page_number in range(int(start_page),int(last_page)+1):\n",
    "    url = base_url+str(page_number)\n",
    "    r = requests.get(base_url+str(page_number)+\"/\")\n",
    "    c = r.content\n",
    "    soup = BeautifulSoup(c,\"html.parser\")   \n",
    "\n",
    "    # Step 9: Extract the header class for title and the location.Right click on the title and inspect.\n",
    "    # to extract the title and location\n",
    "    placard_header = soup.find_all(\"header\",{\"class\":\"placardHeader\"});placard_header\n",
    "\n",
    "    # Step 10: Extract the section class for rent, no of beds and phone number\n",
    "    # to extract the rent, no of beds and phone number\n",
    "    placard_content = soup.find_all(\"section\",{\"class\":\"placardContent\"});placard_content\n",
    "    \n",
    "    # Step 11: Start a for loop to process property by property and extract the values of Title, \n",
    "    # Address, Price, Beds and Phone from the header classes and section classes.\n",
    "\n",
    "    # To process property by property by looping\n",
    "    for item_header,item_content in zip(placard_header,placard_content):\n",
    "        # To store the information to a dictionary\n",
    "        web_content_dict = {}\n",
    "        web_content_dict[\"Title\"]=item_header.find(\"a\",{\"class\":\"placardTitle js-placardTitle \"}).text.replace(\"\\r\",\"\").replace(\"\\n\",\"\")\n",
    "        web_content_dict[\"Address\"] = item_header.find(\"div\",{\"class\":\"location\"}).text\n",
    "        web_content_dict[\"Price\"] = item_content.find(\"span\",{\"class\":\"altRentDisplay\"}).text\n",
    "        web_content_dict[\"Beds\"] = item_content.find(\"span\",{\"class\":\"unitLabel\"}).text\n",
    "        web_content_dict[\"Phone\"] = item_content.find(\"div\",{\"class\":\"phone\"}).find(\"span\").text\n",
    "\n",
    "        # To store the dictionary to into a list\n",
    "        web_content_list.append(web_content_dict)       "
   ]
  },
  {
   "cell_type": "code",
   "execution_count": 89,
   "metadata": {},
   "outputs": [],
   "source": [
    "# Step 12:Make a dataframe with the list and write the list to a csv file\n",
    "\n",
    "# To make a dataframe with the list\n",
    "df = pandas.DataFrame(web_content_list)\n",
    "\n",
    "# To write the dataframe to a csv file\n",
    "df.to_csv(r\"C:\\Users\\athiq.ahmed\\Desktop\\Other\\Python code\\ML\\Web Scraping\\Datasets\\Output.csv\")"
   ]
  },
  {
   "cell_type": "code",
   "execution_count": 91,
   "metadata": {},
   "outputs": [
    {
     "data": {
      "text/html": [
       "<div>\n",
       "<style scoped>\n",
       "    .dataframe tbody tr th:only-of-type {\n",
       "        vertical-align: middle;\n",
       "    }\n",
       "\n",
       "    .dataframe tbody tr th {\n",
       "        vertical-align: top;\n",
       "    }\n",
       "\n",
       "    .dataframe thead th {\n",
       "        text-align: right;\n",
       "    }\n",
       "</style>\n",
       "<table border=\"1\" class=\"dataframe\">\n",
       "  <thead>\n",
       "    <tr style=\"text-align: right;\">\n",
       "      <th></th>\n",
       "      <th>Address</th>\n",
       "      <th>Beds</th>\n",
       "      <th>Phone</th>\n",
       "      <th>Price</th>\n",
       "      <th>Title</th>\n",
       "    </tr>\n",
       "  </thead>\n",
       "  <tbody>\n",
       "    <tr>\n",
       "      <th>0</th>\n",
       "      <td>11513 Village Brook Dr, Cincinnati, OH 45249</td>\n",
       "      <td>1-3 Bed</td>\n",
       "      <td>844-289-7404</td>\n",
       "      <td>$1,055 - 2,300</td>\n",
       "      <td>Glenbridge Manors Apartment Homes</td>\n",
       "    </tr>\n",
       "    <tr>\n",
       "      <th>1</th>\n",
       "      <td>200 W Galbraith Rd, Cincinnati, OH 45215</td>\n",
       "      <td>Studio - 3 Bed</td>\n",
       "      <td>844-874-3632</td>\n",
       "      <td>$655 - 1,860</td>\n",
       "      <td>Williamsburg Of Cincinnati</td>\n",
       "    </tr>\n",
       "    <tr>\n",
       "      <th>2</th>\n",
       "      <td>100 Southern Trace D Dr, Cincinnati, OH 45255</td>\n",
       "      <td>1-2 Bed</td>\n",
       "      <td>844-812-3358</td>\n",
       "      <td>$699 - 1,115</td>\n",
       "      <td>Timber Trails</td>\n",
       "    </tr>\n",
       "    <tr>\n",
       "      <th>3</th>\n",
       "      <td>4209 Erie Ave, Cincinnati, OH 45227</td>\n",
       "      <td>Studio - 2 Bed</td>\n",
       "      <td>513-373-4357</td>\n",
       "      <td>$1,135 - 1,620</td>\n",
       "      <td>Centennial Station</td>\n",
       "    </tr>\n",
       "    <tr>\n",
       "      <th>4</th>\n",
       "      <td>3225 Oakley Station Blvd, Cincinnati, OH 45209</td>\n",
       "      <td>Studio - 2 Bed</td>\n",
       "      <td>513-448-0898</td>\n",
       "      <td>$1,200 - 2,230</td>\n",
       "      <td>The Boulevard at Oakley Station</td>\n",
       "    </tr>\n",
       "  </tbody>\n",
       "</table>\n",
       "</div>"
      ],
      "text/plain": [
       "                                          Address            Beds  \\\n",
       "0    11513 Village Brook Dr, Cincinnati, OH 45249         1-3 Bed   \n",
       "1        200 W Galbraith Rd, Cincinnati, OH 45215  Studio - 3 Bed   \n",
       "2   100 Southern Trace D Dr, Cincinnati, OH 45255         1-2 Bed   \n",
       "3             4209 Erie Ave, Cincinnati, OH 45227  Studio - 2 Bed   \n",
       "4  3225 Oakley Station Blvd, Cincinnati, OH 45209  Studio - 2 Bed   \n",
       "\n",
       "          Phone           Price                              Title  \n",
       "0  844-289-7404  $1,055 - 2,300  Glenbridge Manors Apartment Homes  \n",
       "1  844-874-3632    $655 - 1,860         Williamsburg Of Cincinnati  \n",
       "2  844-812-3358    $699 - 1,115                      Timber Trails  \n",
       "3  513-373-4357  $1,135 - 1,620                 Centennial Station  \n",
       "4  513-448-0898  $1,200 - 2,230    The Boulevard at Oakley Station  "
      ]
     },
     "execution_count": 91,
     "metadata": {},
     "output_type": "execute_result"
    }
   ],
   "source": [
    "df.head()"
   ]
  },
  {
   "cell_type": "code",
   "execution_count": null,
   "metadata": {},
   "outputs": [],
   "source": []
  },
  {
   "cell_type": "code",
   "execution_count": null,
   "metadata": {},
   "outputs": [],
   "source": []
  },
  {
   "cell_type": "markdown",
   "metadata": {},
   "source": [
    "https://towardsdatascience.com/an-introduction-to-web-scraping-with-python-bc9563fe8860"
   ]
  }
 ],
 "metadata": {
  "kernelspec": {
   "display_name": "Python 3",
   "language": "python",
   "name": "python3"
  },
  "language_info": {
   "codemirror_mode": {
    "name": "ipython",
    "version": 3
   },
   "file_extension": ".py",
   "mimetype": "text/x-python",
   "name": "python",
   "nbconvert_exporter": "python",
   "pygments_lexer": "ipython3",
   "version": "3.6.5"
  }
 },
 "nbformat": 4,
 "nbformat_minor": 2
}
