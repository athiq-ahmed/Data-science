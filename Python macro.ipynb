{
 "cells": [
  {
   "cell_type": "code",
   "execution_count": 76,
   "metadata": {},
   "outputs": [
    {
     "name": "stdout",
     "output_type": "stream",
     "text": [
      "C:/Users/athiq.ahmed/Desktop/chk.jpg\n",
      "C:/Users/athiq.ahmed/Desktop/dettol_mix 9.jpg\n",
      "C:/Users/athiq.ahmed/Desktop/dettol_mix.jpg\n",
      "C:/Users/athiq.ahmed/Desktop/dettol_mix2.jpg\n",
      "C:/Users/athiq.ahmed/Desktop/dettol_mix3.jpg\n",
      "C:/Users/athiq.ahmed/Desktop/dettol_mix4.jpg\n",
      "C:/Users/athiq.ahmed/Desktop/dettol_mix5.jpg\n",
      "C:/Users/athiq.ahmed/Desktop/dettol_mix6.jpg\n",
      "C:/Users/athiq.ahmed/Desktop/dettol_mix7.jpg\n",
      "C:/Users/athiq.ahmed/Desktop/dettol_mix8.jpg\n",
      "C:/Users/athiq.ahmed/Desktop/dettol_mix9.jpg\n",
      "C:/Users/athiq.ahmed/Desktop/dettol_only.jpg\n",
      "C:/Users/athiq.ahmed/Desktop/dettol_pic 2.jpg\n",
      "C:/Users/athiq.ahmed/Desktop/dettol_pic 3.jpg\n",
      "C:/Users/athiq.ahmed/Desktop/dettol_pic 4.jpg\n",
      "C:/Users/athiq.ahmed/Desktop/dettol_pic 5.jpg\n",
      "C:/Users/athiq.ahmed/Desktop/dettol_pic 6.jpg\n",
      "C:/Users/athiq.ahmed/Desktop/dettol_pic 7.jpg\n",
      "C:/Users/athiq.ahmed/Desktop/dettol_pic 8.jpg\n",
      "C:/Users/athiq.ahmed/Desktop/dettol_pic.jpg\n",
      "C:/Users/athiq.ahmed/Desktop/Image_dettol.jpg\n",
      "C:/Users/athiq.ahmed/Desktop/Image_dettol2.jpg\n",
      "C:/Users/athiq.ahmed/Desktop/Image_dettol3.jpg\n",
      "C:/Users/athiq.ahmed/Desktop/mix_dettol.jpg\n",
      "C:/Users/athiq.ahmed/Desktop/mix_dettol2.jpg\n",
      "C:/Users/athiq.ahmed/Desktop/mix_dettol3.jpg\n",
      "C:/Users/athiq.ahmed/Desktop/mix_dettol4.jpg\n",
      "C:/Users/athiq.ahmed/Desktop/non dettol 2.jpg\n",
      "C:/Users/athiq.ahmed/Desktop/non dettol 3.jpg\n",
      "C:/Users/athiq.ahmed/Desktop/non dettol 4.jpg\n",
      "C:/Users/athiq.ahmed/Desktop/non dettol 5.jpg\n",
      "C:/Users/athiq.ahmed/Desktop/non dettol 6.jpg\n",
      "C:/Users/athiq.ahmed/Desktop/non dettol 7.jpg\n",
      "C:/Users/athiq.ahmed/Desktop/non dettol.jpg\n",
      "C:/Users/athiq.ahmed/Desktop/spreadsheet.xls\n"
     ]
    }
   ],
   "source": [
    "import os\n",
    "#for i in 2:\n",
    "x = os.listdir('C:/Users/athiq.ahmed/Desktop/RB/Images/test_images')\n",
    "    #img = Image.open('C:/Users/athiq.ahmed/Desktop/RB/Images/test_images/x[1]')\n",
    "#for i in range(len(x)):\n",
    "    #img.show(x[i])\n",
    "\n",
    "for i in range(len(x)):\n",
    "    pred = os.path.join('C:/Users/athiq.ahmed/Desktop/',x[i])\n",
    "    print (pred)\n",
    "\n",
    "\n",
    "#for files in x:\n",
    "#    print (files)\n",
    "#print (len(x))\n",
    "#print (x[1:5])\n",
    "\n",
    "#img = Image.open('C:/Users/athiq.ahmed/Desktop/RB/Images/test_images/non dettol.jpg')\n",
    "#img.show()"
   ]
  },
  {
   "cell_type": "code",
   "execution_count": 2,
   "metadata": {
    "collapsed": true
   },
   "outputs": [],
   "source": [
    "from PIL import Image\n",
    "img = Image.open('C:/Users/athiq.ahmed/Desktop/RB/Images/test_images/non dettol.jpg')\n",
    "img.show()"
   ]
  },
  {
   "cell_type": "code",
   "execution_count": null,
   "metadata": {
    "collapsed": true
   },
   "outputs": [],
   "source": [
    "from PIL import Image\n",
    "import glob\n",
    "image_list = []\n",
    "for filename in glob.glob('C:/Users/athiq.ahmed/Desktop/RB/Images/test_images/*.jpg'): #assuming gif\n",
    "    im=Image.open(filename)\n",
    "    image_list.append(im)\n",
    "    print (image_list)"
   ]
  },
  {
   "cell_type": "code",
   "execution_count": 72,
   "metadata": {},
   "outputs": [
    {
     "name": "stdout",
     "output_type": "stream",
     "text": [
      "C:/Users/athiq.ahmed/Desktop/RB/Images/test_images\\chk.jpg\n",
      "C:/Users/athiq.ahmed/Desktop/RB/Images/test_images\\dettol_mix 9.jpg\n",
      "C:/Users/athiq.ahmed/Desktop/RB/Images/test_images\\dettol_mix.jpg\n",
      "C:/Users/athiq.ahmed/Desktop/RB/Images/test_images\\dettol_mix2.jpg\n",
      "C:/Users/athiq.ahmed/Desktop/RB/Images/test_images\\dettol_mix3.jpg\n",
      "C:/Users/athiq.ahmed/Desktop/RB/Images/test_images\\dettol_mix4.jpg\n",
      "C:/Users/athiq.ahmed/Desktop/RB/Images/test_images\\dettol_mix5.jpg\n",
      "C:/Users/athiq.ahmed/Desktop/RB/Images/test_images\\dettol_mix6.jpg\n",
      "C:/Users/athiq.ahmed/Desktop/RB/Images/test_images\\dettol_mix7.jpg\n",
      "C:/Users/athiq.ahmed/Desktop/RB/Images/test_images\\dettol_mix8.jpg\n",
      "C:/Users/athiq.ahmed/Desktop/RB/Images/test_images\\dettol_mix9.jpg\n",
      "C:/Users/athiq.ahmed/Desktop/RB/Images/test_images\\dettol_only.jpg\n",
      "C:/Users/athiq.ahmed/Desktop/RB/Images/test_images\\dettol_pic 2.jpg\n",
      "C:/Users/athiq.ahmed/Desktop/RB/Images/test_images\\dettol_pic 3.jpg\n",
      "C:/Users/athiq.ahmed/Desktop/RB/Images/test_images\\dettol_pic 4.jpg\n",
      "C:/Users/athiq.ahmed/Desktop/RB/Images/test_images\\dettol_pic 5.jpg\n",
      "C:/Users/athiq.ahmed/Desktop/RB/Images/test_images\\dettol_pic 6.jpg\n",
      "C:/Users/athiq.ahmed/Desktop/RB/Images/test_images\\dettol_pic 7.jpg\n",
      "C:/Users/athiq.ahmed/Desktop/RB/Images/test_images\\dettol_pic 8.jpg\n",
      "C:/Users/athiq.ahmed/Desktop/RB/Images/test_images\\dettol_pic.jpg\n",
      "C:/Users/athiq.ahmed/Desktop/RB/Images/test_images\\Image_dettol.jpg\n",
      "C:/Users/athiq.ahmed/Desktop/RB/Images/test_images\\Image_dettol2.jpg\n",
      "C:/Users/athiq.ahmed/Desktop/RB/Images/test_images\\Image_dettol3.jpg\n",
      "C:/Users/athiq.ahmed/Desktop/RB/Images/test_images\\mix_dettol.jpg\n",
      "C:/Users/athiq.ahmed/Desktop/RB/Images/test_images\\mix_dettol2.jpg\n",
      "C:/Users/athiq.ahmed/Desktop/RB/Images/test_images\\mix_dettol3.jpg\n",
      "C:/Users/athiq.ahmed/Desktop/RB/Images/test_images\\mix_dettol4.jpg\n",
      "C:/Users/athiq.ahmed/Desktop/RB/Images/test_images\\non dettol 2.jpg\n",
      "C:/Users/athiq.ahmed/Desktop/RB/Images/test_images\\non dettol 3.jpg\n",
      "C:/Users/athiq.ahmed/Desktop/RB/Images/test_images\\non dettol 4.jpg\n",
      "C:/Users/athiq.ahmed/Desktop/RB/Images/test_images\\non dettol 5.jpg\n",
      "C:/Users/athiq.ahmed/Desktop/RB/Images/test_images\\non dettol 6.jpg\n",
      "C:/Users/athiq.ahmed/Desktop/RB/Images/test_images\\non dettol 7.jpg\n",
      "C:/Users/athiq.ahmed/Desktop/RB/Images/test_images\\non dettol.jpg\n",
      "C:/Users/athiq.ahmed/Desktop/RB/Images/test_images\\dettol_mix.jpg\n"
     ]
    }
   ],
   "source": [
    "from glob import glob\n",
    "\n",
    "#x = os.listdir('C:/Users/athiq.ahmed/Desktop/RB/Images/test_images')\n",
    "\n",
    "directoryPath  = \"C:/Users/athiq.ahmed/Desktop/RB/Images/test_images/*.\" \n",
    "fileExtensions = [ \"jpg\", \"jpeg\", \"png\", \"bmp\", \"gif\" ]\n",
    "listOfFiles    = []\n",
    "\n",
    "for extension in fileExtensions:\n",
    "    listOfFiles.extend( glob( directoryPath + extension ))\n",
    "\n",
    "for file in listOfFiles:\n",
    "    print(file)   \n",
    "\n",
    "#for i in range(len(listOfFiles)):\n",
    "    #print ('variable',i,listOfFiles[i])\n",
    "    \n",
    "#print (listOfFiles[1:10])\n",
    "\n",
    "#save_path = \"/home/Abhay/Athiq/Image_RB/saved_models/model.ckpt\"\n",
    "#for i in len(x):\n",
    "#image_path = \"/home/Abhay/Athiq/test_images/TND-9.jpg\"\n",
    "#image_path = \"/home/Abhay/Athiq/test_images/Drink3.jpg\"\n",
    "    #pred = (file(i),save_path) \n",
    "    #pred = os.path.join(save_path,file)\n",
    "    \n",
    "pred = os.path.join(save_path,listOfFiles[2])   \n",
    "print (pred)\n"
   ]
  },
  {
   "cell_type": "code",
   "execution_count": 4,
   "metadata": {},
   "outputs": [
    {
     "name": "stdout",
     "output_type": "stream",
     "text": [
      "/home/Abhay/Athiq/Image_RB/saved_models/model.ckpt\n",
      "/home/Abhay/Athiq/dettol_mix5.jpg\n"
     ]
    }
   ],
   "source": [
    "import os\n",
    "x = os.listdir('C:/Users/athiq.ahmed/Desktop/RB/Images/test_images')\n",
    "#print (x)\n",
    "\n",
    "pred =[]\n",
    "save_path = \"/home/Abhay/Athiq/Image_RB/saved_models/model.ckpt\"\n",
    "for i in range(5):\n",
    "    pred = (save_path,'/home/Abhay/Athiq/'+x[i])\n",
    "\n",
    "print (pred[0])          \n",
    "print (pred[1])\n",
    "\n",
    "           \n"
   ]
  },
  {
   "cell_type": "code",
   "execution_count": null,
   "metadata": {
    "collapsed": true
   },
   "outputs": [],
   "source": [
    "for i in range(len(listOfFiles)):\n",
    "    print ('variable',i,listOfFiles[i])\n",
    "    \n",
    "print (listOfFiles[2])"
   ]
  },
  {
   "cell_type": "code",
   "execution_count": null,
   "metadata": {
    "collapsed": true
   },
   "outputs": [],
   "source": [
    "import os\n",
    "import xlwt\n",
    "from PIL import Image\n",
    "\n",
    "#image_pathfolder = \"C:/Users/athiq.ahmed/Desktop/RB/Images/test_images\"\n",
    "image_file_name = os.listdir('C:/Users/athiq.ahmed/Desktop/RB/Images/test_images')\n",
    "\n",
    "for i in range(2):\n",
    "    #image_path = os.path.join(image_pathfolder,image_file_name)\n",
    "    #image_path = image_pathfolder+image_file_name\n",
    "    pred = image_file_name.show()\n",
    "    #print(pred)\n",
    "    #book = xlwt.Workbook(encoding=\"utf-8\") # Initialize a workbook \n",
    "    #sheet1 = book.add_sheet(\"Python Sheet 1\") # Add a sheet to the workbook \n",
    "    #sheet1.write(0,0,c) # Write to the sheet of the workbook \n",
    "    \n",
    "\n",
    "# Save the workbook \n",
    "#book.save(\"spreadsheet.xls\")"
   ]
  },
  {
   "cell_type": "code",
   "execution_count": 152,
   "metadata": {},
   "outputs": [
    {
     "name": "stdout",
     "output_type": "stream",
     "text": [
      "(7, '/home/Abhay/Athiq/Image_RB/saved_models/model.ckpt')\n",
      "(16, '/home/Abhay/Athiq/Image_RB/saved_models/model.ckpt')\n",
      "(14, '/home/Abhay/Athiq/Image_RB/saved_models/model.ckpt')\n",
      "(15, '/home/Abhay/Athiq/Image_RB/saved_models/model.ckpt')\n",
      "(15, '/home/Abhay/Athiq/Image_RB/saved_models/model.ckpt')\n",
      "(15, '/home/Abhay/Athiq/Image_RB/saved_models/model.ckpt')\n",
      "(15, '/home/Abhay/Athiq/Image_RB/saved_models/model.ckpt')\n",
      "(15, '/home/Abhay/Athiq/Image_RB/saved_models/model.ckpt')\n",
      "(15, '/home/Abhay/Athiq/Image_RB/saved_models/model.ckpt')\n",
      "(15, '/home/Abhay/Athiq/Image_RB/saved_models/model.ckpt')\n",
      "(15, '/home/Abhay/Athiq/Image_RB/saved_models/model.ckpt')\n",
      "(15, '/home/Abhay/Athiq/Image_RB/saved_models/model.ckpt')\n",
      "(16, '/home/Abhay/Athiq/Image_RB/saved_models/model.ckpt')\n",
      "(16, '/home/Abhay/Athiq/Image_RB/saved_models/model.ckpt')\n",
      "(16, '/home/Abhay/Athiq/Image_RB/saved_models/model.ckpt')\n",
      "(16, '/home/Abhay/Athiq/Image_RB/saved_models/model.ckpt')\n",
      "(16, '/home/Abhay/Athiq/Image_RB/saved_models/model.ckpt')\n",
      "(16, '/home/Abhay/Athiq/Image_RB/saved_models/model.ckpt')\n",
      "(16, '/home/Abhay/Athiq/Image_RB/saved_models/model.ckpt')\n",
      "(14, '/home/Abhay/Athiq/Image_RB/saved_models/model.ckpt')\n",
      "(16, '/home/Abhay/Athiq/Image_RB/saved_models/model.ckpt')\n",
      "(17, '/home/Abhay/Athiq/Image_RB/saved_models/model.ckpt')\n",
      "(17, '/home/Abhay/Athiq/Image_RB/saved_models/model.ckpt')\n",
      "(14, '/home/Abhay/Athiq/Image_RB/saved_models/model.ckpt')\n",
      "(15, '/home/Abhay/Athiq/Image_RB/saved_models/model.ckpt')\n",
      "(15, '/home/Abhay/Athiq/Image_RB/saved_models/model.ckpt')\n",
      "(15, '/home/Abhay/Athiq/Image_RB/saved_models/model.ckpt')\n",
      "(16, '/home/Abhay/Athiq/Image_RB/saved_models/model.ckpt')\n",
      "(16, '/home/Abhay/Athiq/Image_RB/saved_models/model.ckpt')\n",
      "(16, '/home/Abhay/Athiq/Image_RB/saved_models/model.ckpt')\n",
      "(16, '/home/Abhay/Athiq/Image_RB/saved_models/model.ckpt')\n",
      "(16, '/home/Abhay/Athiq/Image_RB/saved_models/model.ckpt')\n",
      "(16, '/home/Abhay/Athiq/Image_RB/saved_models/model.ckpt')\n",
      "(14, '/home/Abhay/Athiq/Image_RB/saved_models/model.ckpt')\n",
      "(15, '/home/Abhay/Athiq/Image_RB/saved_models/model.ckpt')\n"
     ]
    }
   ],
   "source": [
    "import os\n",
    "import xlwt\n",
    "\n",
    "\n",
    "image_path = os.listdir('C:/Users/athiq.ahmed/Desktop/RB/Images/test_images')\n",
    "save_path = \"/home/Abhay/Athiq/Image_RB/saved_models/model.ckpt\"\n",
    "\n",
    "for i in range(len(image_path)):\n",
    "    pred = (len(image_path[i]),save_path)\n",
    "    print(pred)\n",
    "    #book = xlwt.Workbook(encoding=\"utf-8\") # Initialize a workbook \n",
    "    #sheet1 = book.add_sheet(\"Python Sheet 1\") # Add a sheet to the workbook \n",
    "    #sheet1.write(0,0,c) # Write to the sheet of the workbook \n",
    "    \n",
    "\n",
    "# Save the workbook \n",
    "#book.save(\"spreadsheet.xls\")"
   ]
  },
  {
   "cell_type": "code",
   "execution_count": null,
   "metadata": {
    "collapsed": true
   },
   "outputs": [],
   "source": [
    "# Import 'xlwt'\n",
    "import xlwt\n",
    "\n",
    "# Initialize a workbook \n",
    "book = xlwt.Workbook(encoding=\"utf-8\")\n",
    "\n",
    "# Add a sheet to the workbook \n",
    "sheet1 = book.add_sheet(\"Python Sheet 1\") \n",
    "\n",
    "a = 2\n",
    "b = 2\n",
    "c = a + b\n",
    "\n",
    "# Write to the sheet of the workbook \n",
    "#sheet1.write(0, 0, \"This is the First Cell of the First Sheet\") \n",
    "sheet1.write(0,0,c) \n",
    "\n",
    "# Save the workbook \n",
    "book.save(\"spreadsheet.xls\")"
   ]
  },
  {
   "cell_type": "code",
   "execution_count": null,
   "metadata": {
    "collapsed": true
   },
   "outputs": [],
   "source": [
    "save_path = \"/home/Abhay/Athiq/Image_RB/saved_models/model.ckpt\"\n",
    "image_path = \"/home/Abhay/Athiq/test_images/TND-9.jpg\"\n",
    "#image_path = \"/home/Abhay/Athiq/test_images/Drink3.jpg\"\n",
    "pred = fcl.show_prediction(image_path,save_path)            \n",
    "#print(pred)\n"
   ]
  },
  {
   "cell_type": "code",
   "execution_count": null,
   "metadata": {
    "collapsed": true
   },
   "outputs": [],
   "source": [
    "import xlwt\n",
    "book = xlwt.Workbook(encoding=\"utf-8\") # Initialize a workbook \n",
    "sheet1 = book.add_sheet(\"Python Sheet 1\") # Add a sheet to the workbook \n",
    "sheet1.write(0,0,c)  # Write to the sheet of the workbook \n",
    "book.save(\"spreadsheet.xls\") # Save the workbook "
   ]
  },
  {
   "cell_type": "code",
   "execution_count": 206,
   "metadata": {},
   "outputs": [
    {
     "ename": "ValueError",
     "evalue": "DataFrame constructor not properly called!",
     "output_type": "error",
     "traceback": [
      "\u001b[1;31m---------------------------------------------------------------------------\u001b[0m",
      "\u001b[1;31mValueError\u001b[0m                                Traceback (most recent call last)",
      "\u001b[1;32m<ipython-input-206-f6c36ab347b0>\u001b[0m in \u001b[0;36m<module>\u001b[1;34m()\u001b[0m\n\u001b[0;32m      4\u001b[0m \u001b[0mc\u001b[0m \u001b[1;33m=\u001b[0m \u001b[0ma\u001b[0m \u001b[1;33m+\u001b[0m \u001b[0mb\u001b[0m\u001b[1;33m\u001b[0m\u001b[0m\n\u001b[0;32m      5\u001b[0m \u001b[1;33m\u001b[0m\u001b[0m\n\u001b[1;32m----> 6\u001b[1;33m \u001b[0mdf\u001b[0m \u001b[1;33m=\u001b[0m \u001b[0mpd\u001b[0m\u001b[1;33m.\u001b[0m\u001b[0mDataFrame\u001b[0m\u001b[1;33m(\u001b[0m\u001b[0mc\u001b[0m\u001b[1;33m,\u001b[0m \u001b[0mcolumns\u001b[0m \u001b[1;33m=\u001b[0m \u001b[1;33m[\u001b[0m\u001b[1;34m'results'\u001b[0m\u001b[1;33m]\u001b[0m\u001b[1;33m)\u001b[0m\u001b[1;33m\u001b[0m\u001b[0m\n\u001b[0m\u001b[0;32m      7\u001b[0m \u001b[0mdf\u001b[0m\u001b[1;33m\u001b[0m\u001b[0m\n",
      "\u001b[1;32m~\\AppData\\Local\\Continuum\\anaconda3\\lib\\site-packages\\pandas\\core\\frame.py\u001b[0m in \u001b[0;36m__init__\u001b[1;34m(self, data, index, columns, dtype, copy)\u001b[0m\n\u001b[0;32m    402\u001b[0m                                          dtype=values.dtype, copy=False)\n\u001b[0;32m    403\u001b[0m             \u001b[1;32melse\u001b[0m\u001b[1;33m:\u001b[0m\u001b[1;33m\u001b[0m\u001b[0m\n\u001b[1;32m--> 404\u001b[1;33m                 \u001b[1;32mraise\u001b[0m \u001b[0mValueError\u001b[0m\u001b[1;33m(\u001b[0m\u001b[1;34m'DataFrame constructor not properly called!'\u001b[0m\u001b[1;33m)\u001b[0m\u001b[1;33m\u001b[0m\u001b[0m\n\u001b[0m\u001b[0;32m    405\u001b[0m \u001b[1;33m\u001b[0m\u001b[0m\n\u001b[0;32m    406\u001b[0m         \u001b[0mNDFrame\u001b[0m\u001b[1;33m.\u001b[0m\u001b[0m__init__\u001b[0m\u001b[1;33m(\u001b[0m\u001b[0mself\u001b[0m\u001b[1;33m,\u001b[0m \u001b[0mmgr\u001b[0m\u001b[1;33m,\u001b[0m \u001b[0mfastpath\u001b[0m\u001b[1;33m=\u001b[0m\u001b[1;32mTrue\u001b[0m\u001b[1;33m)\u001b[0m\u001b[1;33m\u001b[0m\u001b[0m\n",
      "\u001b[1;31mValueError\u001b[0m: DataFrame constructor not properly called!"
     ]
    }
   ],
   "source": [
    "import pandas as pd\n",
    "a = 2\n",
    "b = 3\n",
    "c = a + b\n",
    "\n",
    "df = pd.DataFrame(c, columns = ['results'])\n",
    "df"
   ]
  },
  {
   "cell_type": "code",
   "execution_count": 79,
   "metadata": {
    "collapsed": true
   },
   "outputs": [],
   "source": [
    "import os\n",
    "import xlwt\n",
    "\n",
    "\n",
    "x = os.listdir('C:/Users/athiq.ahmed/Desktop/RB/Images/test_images')\n",
    "save_path = \"/home/Abhay/Athiq/Image_RB/saved_models/model.ckpt\"\n",
    "\n",
    "for i in range(2):\n",
    "    #pred = show_prediction(x[i],save_path)            \n",
    "    pred = (x[i],save_path)            \n",
    "    #print(pred)\n",
    "    book = xlwt.Workbook(encoding=\"utf-8\") # Initialize a workbook \n",
    "    sheet1 = book.add_sheet(\"Python Sheet 1\") # Add a sheet to the workbook\n",
    "    sheet1.write(0,0,pred)  # Write to the sheet of the workbook \n",
    "    book.save(\"spreadsheet.xls\") # Save the workbook \n",
    "\n",
    "\n",
    "\n"
   ]
  },
  {
   "cell_type": "code",
   "execution_count": 90,
   "metadata": {},
   "outputs": [
    {
     "data": {
      "application/vnd.jupyter.widget-view+json": {
       "model_id": "1de6b2c754a74e73810ecf35508775a3",
       "version_major": 2,
       "version_minor": 0
      },
      "text/plain": [
       "A Jupyter Widget"
      ]
     },
     "metadata": {},
     "output_type": "display_data"
    }
   ],
   "source": [
    "from ipywidgets import Button\n",
    "#b1 = Button(description='Custom color')\n",
    "b1.style.button_color = 'darkgreen'\n",
    "b1"
   ]
  },
  {
   "cell_type": "code",
   "execution_count": 112,
   "metadata": {},
   "outputs": [
    {
     "data": {
      "application/vnd.jupyter.widget-view+json": {
       "model_id": "472635aeae714df9bdf55c2dd2167f00",
       "version_major": 2,
       "version_minor": 0
      },
      "text/plain": [
       "A Jupyter Widget"
      ]
     },
     "metadata": {},
     "output_type": "display_data"
    }
   ],
   "source": [
    "from ipywidgets import Layout, Button, Box\n",
    "\n",
    "items_layout = Layout(flex='1 1 auto',\n",
    "                      width='auto')     # override the default width of the button to 'auto' to let the button grow\n",
    "\n",
    "box_layout = Layout(display='flex',\n",
    "                    flex_flow='column',\n",
    "                    align_items='stretch',\n",
    "                    border='',\n",
    "                    width='5%')\n",
    "\n",
    "words = ['']\n",
    "items = [Button(description=w, layout=items_layout, button_style='success') for w in words]\n",
    "box = Box(children=items, layout=box_layout)\n",
    "box"
   ]
  },
  {
   "cell_type": "code",
   "execution_count": 146,
   "metadata": {},
   "outputs": [
    {
     "data": {
      "application/vnd.jupyter.widget-view+json": {
       "model_id": "9e393bb583f44280871cd3407094d5c8",
       "version_major": 2,
       "version_minor": 0
      },
      "text/plain": [
       "A Jupyter Widget"
      ]
     },
     "metadata": {},
     "output_type": "display_data"
    }
   ],
   "source": [
    "from ipywidgets import Layout, Button, Box\n",
    "\n",
    "items_layout = Layout(flex='1 1 auto',\n",
    "                      width='auto')     # override the default width of the button to 'auto' to let the button grow\n",
    "\n",
    "box_layout = Layout(display='flex',\n",
    "                    flex_flow='column',\n",
    "                    align_items='stretch',\n",
    "                    border='',\n",
    "                    width='15%')\n",
    "\n",
    "words = ['Compliance']\n",
    "items = [Button(description=w, layout=items_layout, button_style='danger') for w in words]\n",
    "box = Box(children=items, layout=box_layout)\n",
    "box"
   ]
  },
  {
   "cell_type": "code",
   "execution_count": 187,
   "metadata": {
    "collapsed": true
   },
   "outputs": [],
   "source": [
    "a = 2\n",
    "b = 2\n",
    "c = a + b\n",
    "\n",
    "if c > 2:\n",
    "    from ipywidgets import Layout, Button, Box\n",
    "    items_layout = Layout(flex='1 1 auto',\n",
    "                      width='auto')     # override the default width of the button to 'auto' to let the button grow\n",
    "\n",
    "    box_layout = Layout(display='flex',\n",
    "                    flex_flow='column',\n",
    "                    align_items='stretch',\n",
    "                    border='',\n",
    "                    width='15%')\n",
    "\n",
    "    words = ['Compliance']\n",
    "    items = [Button(description=w, layout=items_layout, button_style='danger') for w in words]\n",
    "    box = Box(children=items, layout=box_layout)\n",
    "    box\n",
    "else:\n",
    "    print ('ok')\n",
    "\n"
   ]
  },
  {
   "cell_type": "code",
   "execution_count": 2,
   "metadata": {
    "collapsed": true
   },
   "outputs": [],
   "source": [
    "a = 2\n",
    "b = 2\n",
    "c = a + b\n",
    "if c > 2:\n",
    "    from ipywidgets import Layout, Button, Box\n",
    "    items_layout = Layout(flex='1 1 auto',width='auto')     # override the default width of the button to 'auto' to let the button grow\n",
    "    box_layout = Layout(display='flex',\n",
    "                    flex_flow='column',\n",
    "                    align_items='stretch',\n",
    "                    border='',\n",
    "                    width='15%')\n",
    "\n",
    "    words = ['Compliance']\n",
    "    items = [Button(description=w, layout=items_layout, button_style='success') for w in words]\n",
    "    box_red = Box(children=items, layout=box_layout)\n",
    "    box_red\n",
    "\n",
    "else:\n",
    "    wordss = ['Non Compliance']\n",
    "    items = [Button(description=w, layout=items_layout, button_style='danger') for w in wordss]\n",
    "    box_green = Box(children=items, layout=box_layout)"
   ]
  },
  {
   "cell_type": "code",
   "execution_count": 192,
   "metadata": {
    "collapsed": true
   },
   "outputs": [],
   "source": [
    "a = 2\n",
    "b = 2\n",
    "c = a + b\n",
    "if c > 5:\n",
    "    from ipywidgets import Button\n",
    "    Button(description='Danger Button', button_style='danger')\n",
    "else:\n",
    "    Button(description='Danger Button', button_style='success')"
   ]
  },
  {
   "cell_type": "code",
   "execution_count": 198,
   "metadata": {},
   "outputs": [
    {
     "name": "stdout",
     "output_type": "stream",
     "text": [
      "4\n"
     ]
    },
    {
     "ename": "SyntaxError",
     "evalue": "'return' outside function (<ipython-input-198-4aafaecd1a57>, line 11)",
     "output_type": "error",
     "traceback": [
      "\u001b[1;36m  File \u001b[1;32m\"<ipython-input-198-4aafaecd1a57>\"\u001b[1;36m, line \u001b[1;32m11\u001b[0m\n\u001b[1;33m    return b1\u001b[0m\n\u001b[1;37m    ^\u001b[0m\n\u001b[1;31mSyntaxError\u001b[0m\u001b[1;31m:\u001b[0m 'return' outside function\n"
     ]
    }
   ],
   "source": [
    "from ipywidgets import Button\n",
    "\n",
    "a = 2\n",
    "b = 2\n",
    "c = a + b\n",
    "print (c)\n",
    "if c > 2:\n",
    "    from ipywidgets import Button\n",
    "    b1 = Button(description='Custom color')\n",
    "    b1.style.button_color = 'lightgreen'\n",
    "    return b1\n"
   ]
  },
  {
   "cell_type": "code",
   "execution_count": 205,
   "metadata": {},
   "outputs": [
    {
     "name": "stdout",
     "output_type": "stream",
     "text": [
      "4\n"
     ]
    },
    {
     "data": {
      "application/vnd.jupyter.widget-view+json": {
       "model_id": "d7c3fcc0d86d4848a32df708df617515",
       "version_major": 2,
       "version_minor": 0
      },
      "text/plain": [
       "A Jupyter Widget"
      ]
     },
     "metadata": {},
     "output_type": "display_data"
    }
   ],
   "source": [
    "from IPython.display import display\n",
    "import ipywidgets as widgets\n",
    "\n",
    "a = 2\n",
    "b = 2\n",
    "c = a + b\n",
    "print (c)\n",
    "if c > 5:\n",
    "    button = widgets.Button(description=\"Click Me!\", button_style='danger')\n",
    "    display(button)\n",
    "else:\n",
    "    button = widgets.Button(description=\"Click Me!\", button_style='success')\n",
    "    display(button)\n",
    "\n",
    "#def on_button_clicked(b):\n",
    "    #print(\"Button clicked.\")\n",
    "\n",
    "#button.on_click(on_button_clicked)"
   ]
  },
  {
   "cell_type": "code",
   "execution_count": 1,
   "metadata": {},
   "outputs": [
    {
     "data": {
      "application/vnd.jupyter.widget-view+json": {
       "model_id": "83541e9d9bdb4aacaeeff0a355bf7c12",
       "version_major": 2,
       "version_minor": 0
      },
      "text/plain": [
       "A Jupyter Widget"
      ]
     },
     "metadata": {},
     "output_type": "display_data"
    }
   ],
   "source": [
    "from ipywidgets import Button\n",
    "\n",
    "Button(description='Danger Button', button_style='danger')"
   ]
  },
  {
   "cell_type": "code",
   "execution_count": null,
   "metadata": {
    "collapsed": true
   },
   "outputs": [],
   "source": []
  }
 ],
 "metadata": {
  "kernelspec": {
   "display_name": "Python 3",
   "language": "python",
   "name": "python3"
  },
  "language_info": {
   "codemirror_mode": {
    "name": "ipython",
    "version": 3
   },
   "file_extension": ".py",
   "mimetype": "text/x-python",
   "name": "python",
   "nbconvert_exporter": "python",
   "pygments_lexer": "ipython3",
   "version": "3.6.3"
  }
 },
 "nbformat": 4,
 "nbformat_minor": 2
}
