{
 "cells": [
  {
   "cell_type": "code",
   "execution_count": 1,
   "metadata": {},
   "outputs": [
    {
     "name": "stderr",
     "output_type": "stream",
     "text": [
      "C:\\Users\\athiq.ahmed\\AppData2\\Local\\Continuum\\anaconda3\\lib\\site-packages\\sklearn\\cross_validation.py:41: DeprecationWarning: This module was deprecated in version 0.18 in favor of the model_selection module into which all the refactored classes and functions are moved. Also note that the interface of the new CV iterators are different from that of this module. This module will be removed in 0.20.\n",
      "  \"This module will be removed in 0.20.\", DeprecationWarning)\n"
     ]
    }
   ],
   "source": [
    "import math\n",
    "import numpy as np\n",
    "import pandas as pd\n",
    "from pandas import DataFrame\n",
    "from sklearn import preprocessing\n",
    "from sklearn.linear_model import LogisticRegression\n",
    "from sklearn.cross_validation import train_test_split\n",
    "from numpy import loadtxt, where\n",
    "from pylab import scatter, show, legend, xlabel, ylabel"
   ]
  },
  {
   "cell_type": "code",
   "execution_count": 7,
   "metadata": {},
   "outputs": [],
   "source": [
    "# scale larger positive and negative values to between -1,1 depending on the largest value in the data\n",
    "\n",
    "min_max_scalar = preprocessing.MinMaxScaler(feature_range=(-1,1))"
   ]
  },
  {
   "cell_type": "code",
   "execution_count": 3,
   "metadata": {},
   "outputs": [],
   "source": [
    "df = pd.read_csv(r'C:\\Users\\athiq.ahmed\\Desktop\\Other\\Python code\\ML\\Logistic regression\\Downloads\\LogisticRegression-master\\LogisticRegression-master\\data.csv')"
   ]
  },
  {
   "cell_type": "code",
   "execution_count": 32,
   "metadata": {},
   "outputs": [
    {
     "data": {
      "text/html": [
       "<div>\n",
       "<style scoped>\n",
       "    .dataframe tbody tr th:only-of-type {\n",
       "        vertical-align: middle;\n",
       "    }\n",
       "\n",
       "    .dataframe tbody tr th {\n",
       "        vertical-align: top;\n",
       "    }\n",
       "\n",
       "    .dataframe thead th {\n",
       "        text-align: right;\n",
       "    }\n",
       "</style>\n",
       "<table border=\"1\" class=\"dataframe\">\n",
       "  <thead>\n",
       "    <tr style=\"text-align: right;\">\n",
       "      <th></th>\n",
       "      <th>grade1</th>\n",
       "      <th>grade2</th>\n",
       "      <th>label;;;;</th>\n",
       "    </tr>\n",
       "  </thead>\n",
       "  <tbody>\n",
       "    <tr>\n",
       "      <th>0</th>\n",
       "      <td>34.623660</td>\n",
       "      <td>78.024693</td>\n",
       "      <td>0;;;;</td>\n",
       "    </tr>\n",
       "    <tr>\n",
       "      <th>1</th>\n",
       "      <td>30.286711</td>\n",
       "      <td>43.894998</td>\n",
       "      <td>0;;;;</td>\n",
       "    </tr>\n",
       "    <tr>\n",
       "      <th>2</th>\n",
       "      <td>35.847409</td>\n",
       "      <td>72.902198</td>\n",
       "      <td>0;;;;</td>\n",
       "    </tr>\n",
       "    <tr>\n",
       "      <th>3</th>\n",
       "      <td>60.182599</td>\n",
       "      <td>86.308552</td>\n",
       "      <td>1;;;;</td>\n",
       "    </tr>\n",
       "    <tr>\n",
       "      <th>4</th>\n",
       "      <td>79.032736</td>\n",
       "      <td>75.344376</td>\n",
       "      <td>1;;;;</td>\n",
       "    </tr>\n",
       "  </tbody>\n",
       "</table>\n",
       "</div>"
      ],
      "text/plain": [
       "      grade1     grade2 label;;;;\n",
       "0  34.623660  78.024693     0;;;;\n",
       "1  30.286711  43.894998     0;;;;\n",
       "2  35.847409  72.902198     0;;;;\n",
       "3  60.182599  86.308552     1;;;;\n",
       "4  79.032736  75.344376     1;;;;"
      ]
     },
     "execution_count": 32,
     "metadata": {},
     "output_type": "execute_result"
    }
   ],
   "source": [
    "df.head()\n",
    "# df.grade1.min()  # 30.05\n",
    "# df.grade1.max()  # 99.82\n",
    "\n",
    "# df.grade2.min()  # 30.60\n",
    "# df.grade2.max()  # 98.86"
   ]
  },
  {
   "cell_type": "code",
   "execution_count": 67,
   "metadata": {},
   "outputs": [
    {
     "data": {
      "text/plain": [
       "array([[-0.86914432,  0.38930975],\n",
       "       [-0.99346735, -0.6105909 ],\n",
       "       [-0.83406432,  0.23923558],\n",
       "       [-0.13647145,  0.6320027 ],\n",
       "       [ 0.40388679,  0.31078429]])"
      ]
     },
     "execution_count": 67,
     "metadata": {},
     "output_type": "execute_result"
    }
   ],
   "source": [
    "# formats the input data into two arrays, one for independant and other for dependant variables\n",
    "\n",
    "X = df[['grade1', 'grade2']]\n",
    "X = np.array(X)\n",
    "X = min_max_scalar.fit_transform(X)\n",
    "X[:5,]\n",
    "# np.min(X)\n",
    "# np.max(X)"
   ]
  },
  {
   "cell_type": "code",
   "execution_count": 57,
   "metadata": {},
   "outputs": [
    {
     "data": {
      "text/plain": [
       "array([0., 0., 0., 1., 1., 0., 1., 1., 1., 1., 0., 0., 1., 1., 0., 1., 1.,\n",
       "       0., 1., 1., 0., 1., 0., 0., 1., 1., 1., 0., 0., 0., 1., 1., 0., 1.,\n",
       "       0., 0., 0., 1., 0., 0., 1., 0., 1., 0., 0., 0., 1., 1., 1., 1., 1.,\n",
       "       1., 1., 0., 0., 0., 1., 0., 1., 1., 1., 0., 0., 0., 0., 0., 1., 0.,\n",
       "       1., 1., 0., 1., 1., 1., 1., 1., 1., 1., 0., 0., 1., 1., 1., 1., 1.,\n",
       "       1., 0., 1., 1., 0., 1., 1., 0., 1., 1., 1., 1., 1., 1., 1.])"
      ]
     },
     "execution_count": 57,
     "metadata": {},
     "output_type": "execute_result"
    }
   ],
   "source": [
    "Y = df[\"label;;;;\"].map(lambda x:float(x.rstrip(';')))\n",
    "Y = np.array(Y)\n",
    "Y\n",
    "# min(Y)\n",
    "# max(Y)"
   ]
  },
  {
   "cell_type": "code",
   "execution_count": 66,
   "metadata": {},
   "outputs": [
    {
     "data": {
      "text/plain": [
       "33"
      ]
     },
     "execution_count": 66,
     "metadata": {},
     "output_type": "execute_result"
    }
   ],
   "source": [
    "# creating training and testing records\n",
    "\n",
    "X_train, X_test, Y_train, Y_test = train_test_split(X, Y, test_size=0.33)\n",
    "\n",
    "len(X_train)  # 67\n",
    "len(X_test)   # 33\n",
    "len(Y_train)  # 67\n",
    "len(Y_test)   # 33\n",
    "\n",
    "# X_train[:5,]\n",
    "# X_test[:5,]\n",
    "# Y_train[:5,]\n",
    "# Y_test[:5,]"
   ]
  },
  {
   "cell_type": "code",
   "execution_count": 109,
   "metadata": {},
   "outputs": [
    {
     "name": "stdout",
     "output_type": "stream",
     "text": [
      "Score Scikit learn:  0.85\n"
     ]
    }
   ],
   "source": [
    "# train scikit learn model\n",
    "\n",
    "clf = LogisticRegression()\n",
    "clf.fit(X_train,Y_train)\n",
    "print('Score Scikit learn: ', round(clf.score(X_test,Y_test),2))"
   ]
  },
  {
   "cell_type": "code",
   "execution_count": 61,
   "metadata": {},
   "outputs": [
    {
     "data": {
      "text/plain": [
       "(array([ 0,  1,  2,  5, 10, 11, 14, 17, 20, 22, 23, 27, 28, 29, 32, 34, 35,\n",
       "        36, 38, 39, 41, 43, 44, 45, 53, 54, 55, 57, 61, 62, 63, 64, 65, 67,\n",
       "        70, 78, 79, 86, 89, 92], dtype=int64),)"
      ]
     },
     "execution_count": 61,
     "metadata": {},
     "output_type": "execute_result"
    }
   ],
   "source": [
    "# visualize data\n",
    "\n",
    "pos = where(Y==1);pos\n",
    "neg = where(Y==0);neg\n",
    "# Y"
   ]
  },
  {
   "cell_type": "code",
   "execution_count": 65,
   "metadata": {},
   "outputs": [
    {
     "data": {
      "text/plain": [
       "<matplotlib.legend.Legend at 0x4759560780>"
      ]
     },
     "execution_count": 65,
     "metadata": {},
     "output_type": "execute_result"
    },
    {
     "data": {
      "image/png": "[encoded data removed]",
      "text/plain": [
       "<Figure size 432x288 with 1 Axes>"
      ]
     },
     "metadata": {},
     "output_type": "display_data"
    }
   ],
   "source": [
    "scatter(X[pos,0], X[pos,1], marker='o', c='b')\n",
    "scatter(X[neg,0], X[neg,1], marker='x', c='r')\n",
    "xlabel('Exam 1 score')\n",
    "ylabel('Exam 2 score')\n",
    "legend(['Not admitted', 'Admitted'])"
   ]
  },
  {
   "cell_type": "code",
   "execution_count": 71,
   "metadata": {},
   "outputs": [],
   "source": [
    "# The sigmoid function adjusts the cost function hypothesis to adjust the algorithm proportionally for worse estimates\n",
    "def Sigmoid(z):\n",
    "    G_of_Z = float(1.0/float(1.0 + math.exp(-1.0*z)))\n",
    "    return G_of_Z"
   ]
  },
  {
   "cell_type": "code",
   "execution_count": 101,
   "metadata": {},
   "outputs": [],
   "source": [
    "##The hypothesis is the linear combination of all the known factors x[i] and their current estimated coefficients theta[i] \n",
    "##This hypothesis will be used to calculate each instance of the Cost Function\n",
    "\n",
    "def Hypothesis(theta, X):\n",
    "    z = 0\n",
    "    for i in range(len(theta)):\n",
    "        z = z+X[i]*theta[i]\n",
    "    return Sigmoid(z)"
   ]
  },
  {
   "cell_type": "code",
   "execution_count": 102,
   "metadata": {},
   "outputs": [],
   "source": [
    "##For each member of the dataset, the result (Y) determines which variation of the cost function is used\n",
    "##The Y = 0 cost function punishes high probability estimations, and the Y = 1 it punishes low scores\n",
    "##The \"punishment\" makes the change in the gradient of ThetaCurrent - Average(CostFunction(Dataset)) greater\n",
    "def Cost_Function(X,Y,theta,m):\n",
    "    sumOfErrors = 0\n",
    "    for i in range(m):\n",
    "        xi = X[i]\n",
    "        hi = Hypothesis(theta,xi)\n",
    "        if Y[i] == 1:\n",
    "            error = Y[i] * math.log(hi)\n",
    "        elif Y[i] == 0:\n",
    "            error = (1-Y[i]) * math.log(1-hi)\n",
    "            sumOfErrors += error\n",
    "        const = -1/m\n",
    "        J = const * sumOfErrors\n",
    "        print ('cost is ', J )\n",
    "        return J"
   ]
  },
  {
   "cell_type": "code",
   "execution_count": 103,
   "metadata": {},
   "outputs": [],
   "source": [
    "##This function creates the gradient component for each Theta value \n",
    "##The gradient is the partial derivative by Theta of the current value of theta minus \n",
    "##a \"learning speed factor aplha\" times the average of all the cost functions for that theta\n",
    "##For each Theta there is a cost function calculated for each member of the dataset\n",
    "def Cost_Function_Derivative(X,Y,theta,j,m,alpha):\n",
    "    sumErrors = 0\n",
    "    for i in range(m):\n",
    "        xi = X[i]\n",
    "        xij = xi[j]\n",
    "        hi = Hypothesis(theta,X[i])\n",
    "        error = (hi - Y[i])*xij\n",
    "        sumErrors += error\n",
    "    m = len(Y)\n",
    "    constant = float(alpha)/float(m)\n",
    "    J = constant * sumErrors\n",
    "    return J"
   ]
  },
  {
   "cell_type": "code",
   "execution_count": 104,
   "metadata": {},
   "outputs": [],
   "source": [
    "##For each theta, the partial differential \n",
    "##The gradient, or vector from the current point in Theta-space (each theta value is its own dimension) to the more accurate \n",
    "##point, is the vector with each dimensional component being the partial differential for each theta value\n",
    "def Gradient_Descent(X,Y,theta,m,alpha):\n",
    "    new_theta = []\n",
    "    constant = alpha/m\n",
    "    for j in range(len(theta)):\n",
    "        CFDerivative = Cost_Function_Derivative(X,Y,theta,j,m,alpha)\n",
    "        new_theta_value = theta[j] - CFDerivative\n",
    "        new_theta.append(new_theta_value)\n",
    "    return new_theta"
   ]
  },
  {
   "cell_type": "code",
   "execution_count": 108,
   "metadata": {},
   "outputs": [],
   "source": [
    "##The high level function for the LR algorithm which, for a number of steps (num_iters) finds gradients which take \n",
    "##the Theta values (coefficients of known factors) from an estimation closer (new_theta) to their \"optimum estimation\" which is the\n",
    "##set of values best representing the system in a linear combination model\n",
    "def Logistic_Regression(X,Y,alpha,theta,num_iters):\n",
    "    m = len(Y)\n",
    "    for x in range(num_iters):\n",
    "        new_theta = Gradient_Descent(X,Y,theta,m,alpha)\n",
    "        theta = new_theta\n",
    "        if x % 100 == 0:\n",
    "            #here the cost function is used to present the final hypothesis of the model in the same form for each gradient-step iteration\n",
    "            Cost_Function(X,Y,theta,m)\n",
    "            print ('theta ', theta)\t\n",
    "            print ('cost is ', Cost_Function(X,Y,theta,m))\n",
    "    Declare_Winner(theta)"
   ]
  },
  {
   "cell_type": "code",
   "execution_count": 106,
   "metadata": {},
   "outputs": [],
   "source": [
    "##This method compares the accuracy of the model generated by the scikit library with the model generated by this implementation\n",
    "def Declare_Winner(theta):\n",
    "    score = 0\n",
    "    winner = \"\"\n",
    "    #first scikit LR is tested for each independent var in the dataset and its prediction is compared against the dependent var\n",
    "    #if the prediction is the same as the dataset measured value it counts as a point for thie scikit version of LR\n",
    "    scikit_score = clf.score(X_test,Y_test)\n",
    "    length = len(X_test)\n",
    "    for i in range(length):\n",
    "        prediction = round(Hypothesis(X_test[i],theta))\n",
    "        answer = Y_test[i]\n",
    "        if prediction == answer:\n",
    "            score += 1\n",
    "    #the same process is repeated for the implementation from this module and the scores compared to find the higher match-rate\n",
    "    my_score = float(score) / float(length)\n",
    "    if my_score > scikit_score:\n",
    "        print ('You won!')\n",
    "    elif my_score == scikit_score:\n",
    "        print ('Its a tie!')\n",
    "    else:\n",
    "        print ('Scikit won.. :(')\n",
    "    print ('Your score: ', my_score)\n",
    "    print ('Scikits score: ', scikit_score )"
   ]
  },
  {
   "cell_type": "code",
   "execution_count": 110,
   "metadata": {},
   "outputs": [
    {
     "name": "stdout",
     "output_type": "stream",
     "text": [
      "cost is  0.006890168072197608\n",
      "theta  [0.015808968977217012, 0.014030982200249273]\n",
      "cost is  0.006890168072197608\n",
      "cost is  0.006890168072197608\n",
      "cost is  0.004397292227514621\n",
      "theta  [1.1446039323506159, 1.030383323481578]\n",
      "cost is  0.004397292227514621\n",
      "cost is  0.004397292227514621\n",
      "cost is  0.0033403295622074962\n",
      "theta  [1.7920198800927762, 1.6251057941038252]\n",
      "cost is  0.0033403295622074962\n",
      "cost is  0.0033403295622074962\n",
      "cost is  0.002747211194499778\n",
      "theta  [2.2378078311381255, 2.0381775708737533]\n",
      "cost is  0.002747211194499778\n",
      "cost is  0.002747211194499778\n",
      "cost is  0.002361197918475112\n",
      "theta  [2.5764517180022444, 2.35358660097723]\n",
      "cost is  0.002361197918475112\n",
      "cost is  0.002361197918475112\n",
      "cost is  0.0020872083946966843\n",
      "theta  [2.8487364478320787, 2.608155678935002]\n",
      "cost is  0.0020872083946966843\n",
      "cost is  0.0020872083946966843\n",
      "cost is  0.0018813766427206878\n",
      "theta  [3.0758031030008572, 2.8210921909376734]\n",
      "cost is  0.0018813766427206878\n",
      "cost is  0.0018813766427206878\n",
      "cost is  0.0017204241538672554\n",
      "theta  [3.2700162725064694, 3.0036648752998807]\n",
      "cost is  0.0017204241538672554\n",
      "cost is  0.0017204241538672554\n",
      "cost is  0.0015907525213542557\n",
      "theta  [3.4392392975568247, 3.163057635787686]\n",
      "cost is  0.0015907525213542557\n",
      "cost is  0.0015907525213542557\n",
      "cost is  0.0014838416490146537\n",
      "theta  [3.588788716304762, 3.3041402117668226]\n",
      "cost is  0.0014838416490146537\n",
      "cost is  0.0014838416490146537\n",
      "Scikit won.. :(\n",
      "Your score:  0.7878787878787878\n",
      "Scikits score:  0.8484848484848485\n"
     ]
    }
   ],
   "source": [
    "# These are the initial guesses for theta as well as the learning rate of the algorithm\n",
    "# A learning rate too low will not close in on the most accurate values within a reasonable number of iterations\n",
    "# An alpha too high might overshoot the accurate values or cause irratic guesses\n",
    "# Each iteration increases model accuracy but with diminishing returns, \n",
    "# and takes a signficicant coefficient times O(n)*|Theta|, n = dataset length\n",
    "initial_theta = [0,0]\n",
    "alpha = 0.1\n",
    "iterations = 1000\n",
    "Logistic_Regression(X,Y,alpha,initial_theta,iterations)"
   ]
  },
  {
   "cell_type": "code",
   "execution_count": null,
   "metadata": {},
   "outputs": [],
   "source": []
  },
  {
   "cell_type": "code",
   "execution_count": null,
   "metadata": {},
   "outputs": [],
   "source": []
  },
  {
   "cell_type": "code",
   "execution_count": null,
   "metadata": {},
   "outputs": [],
   "source": []
  },
  {
   "cell_type": "markdown",
   "metadata": {},
   "source": [
    "https://github.com/perborgen/LogisticRegression/blob/master/logistic.py"
   ]
  }
 ],
 "metadata": {
  "kernelspec": {
   "display_name": "Python 3",
   "language": "python",
   "name": "python3"
  },
  "language_info": {
   "codemirror_mode": {
    "name": "ipython",
    "version": 3
   },
   "file_extension": ".py",
   "mimetype": "text/x-python",
   "name": "python",
   "nbconvert_exporter": "python",
   "pygments_lexer": "ipython3",
   "version": "3.6.5"
  }
 },
 "nbformat": 4,
 "nbformat_minor": 2
}
