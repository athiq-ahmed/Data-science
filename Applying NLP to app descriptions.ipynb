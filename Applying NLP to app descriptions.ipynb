{
 "cells": [
  {
   "cell_type": "markdown",
   "metadata": {},
   "source": [
    "### Preprocessing and clustering for Apple Appstore apps"
   ]
  },
  {
   "cell_type": "markdown",
   "metadata": {},
   "source": [
    "Continuing along with the theme of data cleaning and exploration, much of effective NLP analysis is dependent on the pre-processing of textual data. I have thus decided to perform a step by step preprocessing of some textual data derived from Apple Appstore descriptions and a K-Means cluster of the resulting text.\n",
    "\n",
    "Why the Appstore? This dataset from kaggle contains 7197 apps with all their respective app descriptions. App descriptions are where app creators try their best to \"sell\" their app. With the preprocessed data, I examine the question of \"Are App descriptions good predictors of the genre of the app?\".\n",
    "\n",
    "The preprocessing \"framework\" I use here is as follows:\n",
    "\n",
    "1.Translations*\n",
    "2.Remove non-alphabetic characters\n",
    "3.Convert all to lower case\n",
    "4.Tokenization\n",
    "5.Remove stop words\n",
    "6.Stemming**\n",
    "7.Analysis\n",
    "\n",
    "* I wanted to translate all the descriptions first as a regex for non-alphabetic characters would have removed languages like Japanese and Chinese.\n",
    "\n",
    "** I had left out lemmatization in this particular case as I wanted to look at lexical diversity later.\n",
    "\n",
    "As usual, we start off by reading in the csv files with the relevant data. Here, we merge the dataframe with basic app information with another dataframe with app descriptions."
   ]
  },
  {
   "cell_type": "code",
   "execution_count": null,
   "metadata": {},
   "outputs": [],
   "source": [
    "# !pip install markovify\n",
    "# !pip install missingno"
   ]
  },
  {
   "cell_type": "code",
   "execution_count": 8,
   "metadata": {},
   "outputs": [],
   "source": [
    "import pandas as pd\n",
    "import matplotlib\n",
    "import matplotlib.pyplot as plt\n",
    "import seaborn as sb\n",
    "import markovify\n",
    "import missingno as msno\n",
    "import nltk"
   ]
  },
  {
   "cell_type": "code",
   "execution_count": 2,
   "metadata": {},
   "outputs": [],
   "source": [
    "gen_df = pd.read_csv(r'C:\\Users\\athiq.ahmed\\Desktop\\Other\\Python code\\ML\\Text data analysis\\Datasets\\AppleStore.csv')\n",
    "desc_df = pd.read_csv(r'C:\\Users\\athiq.ahmed\\Desktop\\Other\\Python code\\ML\\Text data analysis\\Datasets\\appleStore_description.csv')"
   ]
  },
  {
   "cell_type": "code",
   "execution_count": 9,
   "metadata": {},
   "outputs": [],
   "source": [
    "apps_df = pd.merge(gen_df, desc_df[['id','app_desc']], on='id', how='left')"
   ]
  },
  {
   "cell_type": "code",
   "execution_count": null,
   "metadata": {},
   "outputs": [],
   "source": [
    "apps_df.head(30)"
   ]
  },
  {
   "cell_type": "code",
   "execution_count": 6,
   "metadata": {},
   "outputs": [
    {
     "data": {
      "text/plain": [
       "(11100, 18)"
      ]
     },
     "execution_count": 6,
     "metadata": {},
     "output_type": "execute_result"
    }
   ],
   "source": [
    "apps_df.shape"
   ]
  },
  {
   "cell_type": "code",
   "execution_count": 8,
   "metadata": {},
   "outputs": [
    {
     "name": "stderr",
     "output_type": "stream",
     "text": [
      "C:\\Users\\athiq.ahmed\\AppData2\\Local\\Continuum\\anaconda3\\lib\\site-packages\\matplotlib\\axes\\_axes.py:6462: UserWarning: The 'normed' kwarg is deprecated, and has been replaced by the 'density' kwarg.\n",
      "  warnings.warn(\"The 'normed' kwarg is deprecated, and has been \"\n"
     ]
    },
    {
     "data": {
      "image/png": "[encoded data removed]",
      "text/plain": [
       "<Figure size 720x360 with 1 Axes>"
      ]
     },
     "metadata": {},
     "output_type": "display_data"
    }
   ],
   "source": [
    "# distribution across languages\n",
    "\n",
    "%matplotlib inline\n",
    "plt.figure(figsize=(10,5))\n",
    "ax = sb.distplot(apps_df['lang.num'])\n",
    "plt.show()"
   ]
  },
  {
   "cell_type": "code",
   "execution_count": 483,
   "metadata": {},
   "outputs": [
    {
     "data": {
      "text/html": [
       "<div>\n",
       "<style scoped>\n",
       "    .dataframe tbody tr th:only-of-type {\n",
       "        vertical-align: middle;\n",
       "    }\n",
       "\n",
       "    .dataframe tbody tr th {\n",
       "        vertical-align: top;\n",
       "    }\n",
       "\n",
       "    .dataframe thead th {\n",
       "        text-align: right;\n",
       "    }\n",
       "</style>\n",
       "<table border=\"1\" class=\"dataframe\">\n",
       "  <thead>\n",
       "    <tr style=\"text-align: right;\">\n",
       "      <th></th>\n",
       "      <th>id</th>\n",
       "      <th>size_bytes</th>\n",
       "      <th>price</th>\n",
       "      <th>rating_count_tot</th>\n",
       "      <th>rating_count_ver</th>\n",
       "      <th>user_rating</th>\n",
       "      <th>user_rating_ver</th>\n",
       "      <th>sup_devices.num</th>\n",
       "      <th>ipadSc_urls.num</th>\n",
       "      <th>lang.num</th>\n",
       "      <th>vpp_lic</th>\n",
       "      <th>game_enab</th>\n",
       "    </tr>\n",
       "  </thead>\n",
       "  <tbody>\n",
       "    <tr>\n",
       "      <th>count</th>\n",
       "      <td>1.110000e+04</td>\n",
       "      <td>1.110000e+04</td>\n",
       "      <td>11100.000000</td>\n",
       "      <td>1.110000e+04</td>\n",
       "      <td>11100.000000</td>\n",
       "      <td>11100.000000</td>\n",
       "      <td>11100.000000</td>\n",
       "      <td>11100.000000</td>\n",
       "      <td>11100.000000</td>\n",
       "      <td>11100.000000</td>\n",
       "      <td>11100.000000</td>\n",
       "      <td>11100.0</td>\n",
       "    </tr>\n",
       "    <tr>\n",
       "      <th>mean</th>\n",
       "      <td>9.196595e+08</td>\n",
       "      <td>1.291145e+08</td>\n",
       "      <td>1.119242</td>\n",
       "      <td>8.359482e+03</td>\n",
       "      <td>298.496486</td>\n",
       "      <td>2.286802</td>\n",
       "      <td>2.109550</td>\n",
       "      <td>24.576216</td>\n",
       "      <td>2.755225</td>\n",
       "      <td>3.875495</td>\n",
       "      <td>0.643874</td>\n",
       "      <td>0.0</td>\n",
       "    </tr>\n",
       "    <tr>\n",
       "      <th>std</th>\n",
       "      <td>2.575416e+08</td>\n",
       "      <td>3.044624e+08</td>\n",
       "      <td>4.768515</td>\n",
       "      <td>6.129530e+04</td>\n",
       "      <td>3164.394530</td>\n",
       "      <td>2.080899</td>\n",
       "      <td>2.129825</td>\n",
       "      <td>17.621606</td>\n",
       "      <td>2.056240</td>\n",
       "      <td>6.719282</td>\n",
       "      <td>0.478875</td>\n",
       "      <td>0.0</td>\n",
       "    </tr>\n",
       "    <tr>\n",
       "      <th>min</th>\n",
       "      <td>2.816565e+08</td>\n",
       "      <td>0.000000e+00</td>\n",
       "      <td>0.000000</td>\n",
       "      <td>0.000000e+00</td>\n",
       "      <td>0.000000</td>\n",
       "      <td>0.000000</td>\n",
       "      <td>0.000000</td>\n",
       "      <td>1.000000</td>\n",
       "      <td>0.000000</td>\n",
       "      <td>0.000000</td>\n",
       "      <td>0.000000</td>\n",
       "      <td>0.0</td>\n",
       "    </tr>\n",
       "    <tr>\n",
       "      <th>25%</th>\n",
       "      <td>7.748118e+08</td>\n",
       "      <td>0.000000e+00</td>\n",
       "      <td>0.000000</td>\n",
       "      <td>0.000000e+00</td>\n",
       "      <td>0.000000</td>\n",
       "      <td>0.000000</td>\n",
       "      <td>0.000000</td>\n",
       "      <td>1.000000</td>\n",
       "      <td>1.000000</td>\n",
       "      <td>1.000000</td>\n",
       "      <td>0.000000</td>\n",
       "      <td>0.0</td>\n",
       "    </tr>\n",
       "    <tr>\n",
       "      <th>50%</th>\n",
       "      <td>1.041344e+09</td>\n",
       "      <td>4.249093e+07</td>\n",
       "      <td>0.000000</td>\n",
       "      <td>2.000000e+01</td>\n",
       "      <td>1.000000</td>\n",
       "      <td>3.000000</td>\n",
       "      <td>2.000000</td>\n",
       "      <td>37.000000</td>\n",
       "      <td>2.000000</td>\n",
       "      <td>1.000000</td>\n",
       "      <td>1.000000</td>\n",
       "      <td>0.0</td>\n",
       "    </tr>\n",
       "    <tr>\n",
       "      <th>75%</th>\n",
       "      <td>1.106219e+09</td>\n",
       "      <td>1.246930e+08</td>\n",
       "      <td>0.990000</td>\n",
       "      <td>8.192500e+02</td>\n",
       "      <td>54.000000</td>\n",
       "      <td>4.500000</td>\n",
       "      <td>4.500000</td>\n",
       "      <td>38.000000</td>\n",
       "      <td>5.000000</td>\n",
       "      <td>2.000000</td>\n",
       "      <td>1.000000</td>\n",
       "      <td>0.0</td>\n",
       "    </tr>\n",
       "    <tr>\n",
       "      <th>max</th>\n",
       "      <td>1.188524e+09</td>\n",
       "      <td>4.025970e+09</td>\n",
       "      <td>299.990000</td>\n",
       "      <td>2.974676e+06</td>\n",
       "      <td>177050.000000</td>\n",
       "      <td>5.000000</td>\n",
       "      <td>5.000000</td>\n",
       "      <td>47.000000</td>\n",
       "      <td>5.000000</td>\n",
       "      <td>75.000000</td>\n",
       "      <td>1.000000</td>\n",
       "      <td>0.0</td>\n",
       "    </tr>\n",
       "  </tbody>\n",
       "</table>\n",
       "</div>"
      ],
      "text/plain": [
       "                 id    size_bytes         price  rating_count_tot  \\\n",
       "count  1.110000e+04  1.110000e+04  11100.000000      1.110000e+04   \n",
       "mean   9.196595e+08  1.291145e+08      1.119242      8.359482e+03   \n",
       "std    2.575416e+08  3.044624e+08      4.768515      6.129530e+04   \n",
       "min    2.816565e+08  0.000000e+00      0.000000      0.000000e+00   \n",
       "25%    7.748118e+08  0.000000e+00      0.000000      0.000000e+00   \n",
       "50%    1.041344e+09  4.249093e+07      0.000000      2.000000e+01   \n",
       "75%    1.106219e+09  1.246930e+08      0.990000      8.192500e+02   \n",
       "max    1.188524e+09  4.025970e+09    299.990000      2.974676e+06   \n",
       "\n",
       "       rating_count_ver   user_rating  user_rating_ver  sup_devices.num  \\\n",
       "count      11100.000000  11100.000000     11100.000000     11100.000000   \n",
       "mean         298.496486      2.286802         2.109550        24.576216   \n",
       "std         3164.394530      2.080899         2.129825        17.621606   \n",
       "min            0.000000      0.000000         0.000000         1.000000   \n",
       "25%            0.000000      0.000000         0.000000         1.000000   \n",
       "50%            1.000000      3.000000         2.000000        37.000000   \n",
       "75%           54.000000      4.500000         4.500000        38.000000   \n",
       "max       177050.000000      5.000000         5.000000        47.000000   \n",
       "\n",
       "       ipadSc_urls.num      lang.num       vpp_lic  game_enab  \n",
       "count     11100.000000  11100.000000  11100.000000    11100.0  \n",
       "mean          2.755225      3.875495      0.643874        0.0  \n",
       "std           2.056240      6.719282      0.478875        0.0  \n",
       "min           0.000000      0.000000      0.000000        0.0  \n",
       "25%           1.000000      1.000000      0.000000        0.0  \n",
       "50%           2.000000      1.000000      1.000000        0.0  \n",
       "75%           5.000000      2.000000      1.000000        0.0  \n",
       "max           5.000000     75.000000      1.000000        0.0  "
      ]
     },
     "execution_count": 483,
     "metadata": {},
     "output_type": "execute_result"
    }
   ],
   "source": [
    "apps_df.describe()"
   ]
  },
  {
   "cell_type": "code",
   "execution_count": null,
   "metadata": {},
   "outputs": [],
   "source": [
    "test = apps_df[0:50];test\n",
    "# test.shape"
   ]
  },
  {
   "cell_type": "code",
   "execution_count": 8,
   "metadata": {},
   "outputs": [
    {
     "data": {
      "text/plain": [
       "array(['Games', 'Productivity', 'Weather', 'Shopping', 'Reference',\n",
       "       'Finance', 'Music', 'Utilities', 'Travel', 'Social Networking',\n",
       "       nan, 'Sports', 'Business', 'Health & Fitness', 'Entertainment',\n",
       "       'Photo & Video', 'Navigation'], dtype=object)"
      ]
     },
     "execution_count": 8,
     "metadata": {},
     "output_type": "execute_result"
    }
   ],
   "source": [
    "test.prime_genre.unique()"
   ]
  },
  {
   "cell_type": "code",
   "execution_count": null,
   "metadata": {},
   "outputs": [],
   "source": [
    "# pd.set_option('display.max_colwidth', -1)  # to display the full content of the column"
   ]
  },
  {
   "cell_type": "code",
   "execution_count": null,
   "metadata": {},
   "outputs": [],
   "source": [
    "chk = test[test['prime_genre']=='Sports']\n",
    "print(chk.app_desc)"
   ]
  },
  {
   "cell_type": "code",
   "execution_count": null,
   "metadata": {},
   "outputs": [],
   "source": [
    "for messages in chk.app_desc:\n",
    "    print(messages)"
   ]
  },
  {
   "cell_type": "code",
   "execution_count": 20,
   "metadata": {},
   "outputs": [],
   "source": [
    "# apps_df.groupby('prime_genre').get_group('Sports')\n",
    "# sports_model = markovify.NewlineText(apps_df.groupby('prime_genre').get_group('Sports')['app_desc'], state_size = 2)\n",
    "\n",
    "test.groupby('prime_genre').get_group('Sports')\n",
    "sports_model = markovify.NewlineText(test.groupby('prime_genre').get_group('Sports')['app_desc'], state_size = 2)"
   ]
  },
  {
   "cell_type": "code",
   "execution_count": null,
   "metadata": {},
   "outputs": [],
   "source": [
    "for i in range(10):\n",
    "    print(sports_model.make_sentence())"
   ]
  },
  {
   "cell_type": "code",
   "execution_count": 16,
   "metadata": {},
   "outputs": [
    {
     "name": "stdout",
     "output_type": "stream",
     "text": [
      "Games                53.66\n",
      "Entertainment         7.43\n",
      "Education             6.29\n",
      "Photo & Video         4.85\n",
      "Utilities             3.45\n",
      "Health & Fitness      2.50\n",
      "Productivity          2.47\n",
      "Social Networking     2.32\n",
      "Lifestyle             2.00\n",
      "Music                 1.92\n",
      "Shopping              1.70\n",
      "Sports                1.58\n",
      "Book                  1.56\n",
      "Finance               1.45\n",
      "Travel                1.13\n",
      "News                  1.04\n",
      "Weather               1.00\n",
      "Reference             0.89\n",
      "Food & Drink          0.88\n",
      "Business              0.79\n",
      "Navigation            0.64\n",
      "Medical               0.32\n",
      "Catalogs              0.14\n",
      "Name: prime_genre, dtype: float64\n"
     ]
    }
   ],
   "source": [
    "# print(round(apps_df.prime_genre.value_counts(sort=True)/apps_df.prime_genre)*100,2))\n",
    "print(round(apps_df.prime_genre.value_counts(sort=True)/apps_df['prime_genre'].count()*100,2))"
   ]
  },
  {
   "cell_type": "code",
   "execution_count": 17,
   "metadata": {},
   "outputs": [
    {
     "data": {
      "image/png": "[encoded data removed]",
      "text/plain": [
       "<Figure size 1440x360 with 1 Axes>"
      ]
     },
     "metadata": {},
     "output_type": "display_data"
    }
   ],
   "source": [
    "ax = apps_df['prime_genre'].value_counts().plot(kind='bar', figsize=(20,5),color=\"indigo\", fontsize=15);\n",
    "ax.set_title('Number of Apps by Genre', fontsize = 30)\n",
    "ax.set_xlabel('Genre of App', fontsize = 20)\n",
    "ax.set_ylabel('Number of Apps', fontsize = 20)\n",
    "\n",
    "# create a list to collect the plt.patches data\n",
    "totals = []\n",
    "\n",
    "# find the values and append to list\n",
    "for i in ax.patches:\n",
    "    totals.append(i.get_height())\n",
    "\n",
    "    # set individual bar lables using above list\n",
    "total = sum(totals)\n",
    "for i in ax.patches:\n",
    "    # get_x pulls left or right; get_height pushes up or down\n",
    "    ax.text(i.get_x()-.1, i.get_height()+.1,str(round((i.get_height()/total)*100, 2))+'%', fontsize=15,color='dimgrey')"
   ]
  },
  {
   "cell_type": "code",
   "execution_count": null,
   "metadata": {},
   "outputs": [],
   "source": [
    "ax = round(apps_df.groupby('prime_genre')['user_rating'].mean().nlargest(25),2)\n",
    "ax = pd.DataFrame(ax);ax"
   ]
  },
  {
   "cell_type": "code",
   "execution_count": 25,
   "metadata": {},
   "outputs": [
    {
     "data": {
      "image/png": "[encoded data removed]",
      "text/plain": [
       "<Figure size 1440x360 with 1 Axes>"
      ]
     },
     "metadata": {},
     "output_type": "display_data"
    }
   ],
   "source": [
    "ax = apps_df.groupby('prime_genre')['user_rating'].mean().plot(kind='bar', figsize=(20,5), color = 'indigo',fontsize=15)\n",
    "ax.set_title('Average User Rating by Genre', fontsize = 30)\n",
    "ax.set_xlabel('Genre of App', fontsize = 20)\n",
    "ax.set_ylabel('Average Rating', fontsize = 20)\n",
    "ax.set_ylim((2,4.2))\n",
    "\n",
    "# create a list to collect the plt.patches data\n",
    "for i in ax.patches:\n",
    "    # get_x pulls left or right; get_height pushes up or down\n",
    "    ax.text(i.get_x()-.1, i.get_height()+.1,str(round((i.get_height()), 2)), fontsize=15,color='dimgrey')    "
   ]
  },
  {
   "cell_type": "markdown",
   "metadata": {},
   "source": [
    "#### Preprocessing process"
   ]
  },
  {
   "cell_type": "code",
   "execution_count": 71,
   "metadata": {},
   "outputs": [],
   "source": [
    "# !pip install langdetect\n",
    "# !pip install googletrans"
   ]
  },
  {
   "cell_type": "code",
   "execution_count": 10,
   "metadata": {},
   "outputs": [],
   "source": [
    "# 1.Translating to English\n",
    "\n",
    "from langdetect import detect\n",
    "from googletrans import Translator"
   ]
  },
  {
   "cell_type": "code",
   "execution_count": null,
   "metadata": {},
   "outputs": [],
   "source": [
    "for item,row in apps_df.head(2).iterrows():\n",
    "    print(\"Item\",item)\n",
    "    print('*'*100)\n",
    "    print(\"row\",row)"
   ]
  },
  {
   "cell_type": "code",
   "execution_count": 22,
   "metadata": {},
   "outputs": [
    {
     "name": "stdout",
     "output_type": "stream",
     "text": [
      "4.0\n"
     ]
    }
   ],
   "source": [
    "print(apps_df.at[0,'user_rating'])"
   ]
  },
  {
   "cell_type": "code",
   "execution_count": 11,
   "metadata": {},
   "outputs": [
    {
     "data": {
      "text/plain": [
       "(11100, 18)"
      ]
     },
     "execution_count": 11,
     "metadata": {},
     "output_type": "execute_result"
    }
   ],
   "source": [
    "#missing data\n",
    "data = apps_df\n",
    "total = data.isnull().sum().sort_values(ascending=False)\n",
    "percent = (data.isnull().sum()/data.isnull().count()*100).sort_values(ascending=False)\n",
    "missing_data = pd.concat([total, percent], axis=1, keys=['Total', 'Percent'])\n",
    "missing_data.head(10)\n",
    "data.shape"
   ]
  },
  {
   "cell_type": "code",
   "execution_count": 24,
   "metadata": {},
   "outputs": [
    {
     "data": {
      "text/html": [
       "<div>\n",
       "<style scoped>\n",
       "    .dataframe tbody tr th:only-of-type {\n",
       "        vertical-align: middle;\n",
       "    }\n",
       "\n",
       "    .dataframe tbody tr th {\n",
       "        vertical-align: top;\n",
       "    }\n",
       "\n",
       "    .dataframe thead th {\n",
       "        text-align: right;\n",
       "    }\n",
       "</style>\n",
       "<table border=\"1\" class=\"dataframe\">\n",
       "  <thead>\n",
       "    <tr style=\"text-align: right;\">\n",
       "      <th></th>\n",
       "      <th>id</th>\n",
       "      <th>track_name</th>\n",
       "      <th>size_bytes</th>\n",
       "      <th>currency</th>\n",
       "      <th>price</th>\n",
       "      <th>rating_count_tot</th>\n",
       "      <th>rating_count_ver</th>\n",
       "      <th>user_rating</th>\n",
       "      <th>user_rating_ver</th>\n",
       "      <th>ver</th>\n",
       "      <th>cont_rating</th>\n",
       "      <th>prime_genre</th>\n",
       "      <th>sup_devices.num</th>\n",
       "      <th>ipadSc_urls.num</th>\n",
       "      <th>lang.num</th>\n",
       "      <th>vpp_lic</th>\n",
       "      <th>game_enab</th>\n",
       "      <th>app_desc</th>\n",
       "    </tr>\n",
       "  </thead>\n",
       "  <tbody>\n",
       "    <tr>\n",
       "      <th>18</th>\n",
       "      <td>284971781</td>\n",
       "      <td>NaN</td>\n",
       "      <td>0</td>\n",
       "      <td>NaN</td>\n",
       "      <td>0.0</td>\n",
       "      <td>0</td>\n",
       "      <td>0</td>\n",
       "      <td>0.0</td>\n",
       "      <td>0.0</td>\n",
       "      <td>NaN</td>\n",
       "      <td>NaN</td>\n",
       "      <td>NaN</td>\n",
       "      <td>1</td>\n",
       "      <td>1</td>\n",
       "      <td>1</td>\n",
       "      <td>0</td>\n",
       "      <td>0</td>\n",
       "      <td>NaN</td>\n",
       "    </tr>\n",
       "    <tr>\n",
       "      <th>25</th>\n",
       "      <td>286115722</td>\n",
       "      <td>NaN</td>\n",
       "      <td>0</td>\n",
       "      <td>NaN</td>\n",
       "      <td>0.0</td>\n",
       "      <td>0</td>\n",
       "      <td>0</td>\n",
       "      <td>0.0</td>\n",
       "      <td>0.0</td>\n",
       "      <td>NaN</td>\n",
       "      <td>NaN</td>\n",
       "      <td>NaN</td>\n",
       "      <td>1</td>\n",
       "      <td>1</td>\n",
       "      <td>1</td>\n",
       "      <td>0</td>\n",
       "      <td>0</td>\n",
       "      <td>NaN</td>\n",
       "    </tr>\n",
       "    <tr>\n",
       "      <th>29</th>\n",
       "      <td>288091002</td>\n",
       "      <td>NaN</td>\n",
       "      <td>0</td>\n",
       "      <td>NaN</td>\n",
       "      <td>0.0</td>\n",
       "      <td>0</td>\n",
       "      <td>0</td>\n",
       "      <td>0.0</td>\n",
       "      <td>0.0</td>\n",
       "      <td>NaN</td>\n",
       "      <td>NaN</td>\n",
       "      <td>NaN</td>\n",
       "      <td>1</td>\n",
       "      <td>1</td>\n",
       "      <td>1</td>\n",
       "      <td>0</td>\n",
       "      <td>0</td>\n",
       "      <td>NaN</td>\n",
       "    </tr>\n",
       "    <tr>\n",
       "      <th>37</th>\n",
       "      <td>289567151</td>\n",
       "      <td>NaN</td>\n",
       "      <td>0</td>\n",
       "      <td>NaN</td>\n",
       "      <td>0.0</td>\n",
       "      <td>0</td>\n",
       "      <td>0</td>\n",
       "      <td>0.0</td>\n",
       "      <td>0.0</td>\n",
       "      <td>NaN</td>\n",
       "      <td>NaN</td>\n",
       "      <td>NaN</td>\n",
       "      <td>1</td>\n",
       "      <td>1</td>\n",
       "      <td>1</td>\n",
       "      <td>0</td>\n",
       "      <td>0</td>\n",
       "      <td>NaN</td>\n",
       "    </tr>\n",
       "    <tr>\n",
       "      <th>43</th>\n",
       "      <td>291676451</td>\n",
       "      <td>NaN</td>\n",
       "      <td>0</td>\n",
       "      <td>NaN</td>\n",
       "      <td>0.0</td>\n",
       "      <td>0</td>\n",
       "      <td>0</td>\n",
       "      <td>0.0</td>\n",
       "      <td>0.0</td>\n",
       "      <td>NaN</td>\n",
       "      <td>NaN</td>\n",
       "      <td>NaN</td>\n",
       "      <td>1</td>\n",
       "      <td>1</td>\n",
       "      <td>1</td>\n",
       "      <td>0</td>\n",
       "      <td>0</td>\n",
       "      <td>NaN</td>\n",
       "    </tr>\n",
       "  </tbody>\n",
       "</table>\n",
       "</div>"
      ],
      "text/plain": [
       "           id track_name  size_bytes currency  price  rating_count_tot  \\\n",
       "18  284971781        NaN           0      NaN    0.0                 0   \n",
       "25  286115722        NaN           0      NaN    0.0                 0   \n",
       "29  288091002        NaN           0      NaN    0.0                 0   \n",
       "37  289567151        NaN           0      NaN    0.0                 0   \n",
       "43  291676451        NaN           0      NaN    0.0                 0   \n",
       "\n",
       "    rating_count_ver  user_rating  user_rating_ver  ver cont_rating  \\\n",
       "18                 0          0.0              0.0  NaN         NaN   \n",
       "25                 0          0.0              0.0  NaN         NaN   \n",
       "29                 0          0.0              0.0  NaN         NaN   \n",
       "37                 0          0.0              0.0  NaN         NaN   \n",
       "43                 0          0.0              0.0  NaN         NaN   \n",
       "\n",
       "   prime_genre  sup_devices.num  ipadSc_urls.num  lang.num  vpp_lic  \\\n",
       "18         NaN                1                1         1        0   \n",
       "25         NaN                1                1         1        0   \n",
       "29         NaN                1                1         1        0   \n",
       "37         NaN                1                1         1        0   \n",
       "43         NaN                1                1         1        0   \n",
       "\n",
       "    game_enab app_desc  \n",
       "18          0      NaN  \n",
       "25          0      NaN  \n",
       "29          0      NaN  \n",
       "37          0      NaN  \n",
       "43          0      NaN  "
      ]
     },
     "execution_count": 24,
     "metadata": {},
     "output_type": "execute_result"
    }
   ],
   "source": [
    "apps_df[apps_df['app_desc'].isnull()].head()"
   ]
  },
  {
   "cell_type": "code",
   "execution_count": 12,
   "metadata": {},
   "outputs": [
    {
     "data": {
      "text/plain": [
       "(7197, 18)"
      ]
     },
     "execution_count": 12,
     "metadata": {},
     "output_type": "execute_result"
    }
   ],
   "source": [
    "#missing data\n",
    "data = data.dropna()\n",
    "total = data.isnull().sum().sort_values(ascending=False)\n",
    "percent = (data.isnull().sum()/data.isnull().count()*100).sort_values(ascending=False)\n",
    "missing_data = pd.concat([total, percent], axis=1, keys=['Total', 'Percent'])\n",
    "missing_data.head(10)\n",
    "data.shape"
   ]
  },
  {
   "cell_type": "code",
   "execution_count": 13,
   "metadata": {},
   "outputs": [],
   "source": [
    "apps_df = data"
   ]
  },
  {
   "cell_type": "code",
   "execution_count": null,
   "metadata": {},
   "outputs": [],
   "source": [
    "apps_df.head(25)"
   ]
  },
  {
   "cell_type": "code",
   "execution_count": null,
   "metadata": {},
   "outputs": [],
   "source": [
    "apps_df['desc_lang'] = ''\n",
    "\n",
    "for item, row in apps_df.iterrows():\n",
    "    apps_df.at[item,'desc_lang'] = detect(row['app_desc'])\n",
    "    if detect(row['app_desc']) != 'en':\n",
    "        try:\n",
    "            translator = Translator()\n",
    "            translated = translator.translate(row['app_desc']).text\n",
    "            apps_df.at[item,'app_desc'] = translated\n",
    "        except:\n",
    "            print('ERRORERRORERROER',row['id'], row['track_name'])"
   ]
  },
  {
   "cell_type": "code",
   "execution_count": 14,
   "metadata": {},
   "outputs": [],
   "source": [
    "error_apps = [356968629,379395415,395096736,413487517,447024088,481033328,481914139,491629188,594145971,621167809,622559167,\n",
    "             660617252,794156760,820004378,862469459,894225691,895700579,915223450,923138396,933687137,938095479,953940121,\n",
    "             958635569,966099615,975414811,977041956,982887800,985565530,1021368752,1039883456,1040048258,1040713617,1056011241,\n",
    "             1057818838,1072278593,1078142098,1078542442,1078812538,1084253570,1087276648,1111428249,1114284578,1123417039,\n",
    "             1179959829,1180931796,1181724803]"
   ]
  },
  {
   "cell_type": "code",
   "execution_count": 15,
   "metadata": {},
   "outputs": [],
   "source": [
    "apps_df = apps_df[~apps_df['id'].isin(error_apps)]"
   ]
  },
  {
   "cell_type": "code",
   "execution_count": 16,
   "metadata": {},
   "outputs": [
    {
     "data": {
      "text/plain": [
       "(7151, 18)"
      ]
     },
     "execution_count": 16,
     "metadata": {},
     "output_type": "execute_result"
    }
   ],
   "source": [
    "apps_df.shape"
   ]
  },
  {
   "cell_type": "code",
   "execution_count": null,
   "metadata": {},
   "outputs": [],
   "source": [
    "apps_df.head(25)"
   ]
  },
  {
   "cell_type": "code",
   "execution_count": 17,
   "metadata": {},
   "outputs": [
    {
     "name": "stderr",
     "output_type": "stream",
     "text": [
      "C:\\Users\\athiq.ahmed\\AppData2\\Local\\Continuum\\anaconda3\\lib\\site-packages\\ipykernel_launcher.py:7: SettingWithCopyWarning: \n",
      "A value is trying to be set on a copy of a slice from a DataFrame.\n",
      "Try using .loc[row_indexer,col_indexer] = value instead\n",
      "\n",
      "See the caveats in the documentation: http://pandas.pydata.org/pandas-docs/stable/indexing.html#indexing-view-versus-copy\n",
      "  import sys\n"
     ]
    }
   ],
   "source": [
    "# 2. Removing non-alphabetic characters\n",
    "\n",
    "import re\n",
    "def cleaned(x):\n",
    "    return re.sub(r'[^a-zA-z ]','',x)\n",
    "\n",
    "apps_df['app_desc'] = apps_df['app_desc'].apply(cleaned)"
   ]
  },
  {
   "cell_type": "code",
   "execution_count": null,
   "metadata": {},
   "outputs": [],
   "source": [
    "apps_df.head(25)"
   ]
  },
  {
   "cell_type": "code",
   "execution_count": 18,
   "metadata": {},
   "outputs": [
    {
     "name": "stderr",
     "output_type": "stream",
     "text": [
      "C:\\Users\\athiq.ahmed\\AppData2\\Local\\Continuum\\anaconda3\\lib\\site-packages\\ipykernel_launcher.py:3: SettingWithCopyWarning: \n",
      "A value is trying to be set on a copy of a slice from a DataFrame.\n",
      "Try using .loc[row_indexer,col_indexer] = value instead\n",
      "\n",
      "See the caveats in the documentation: http://pandas.pydata.org/pandas-docs/stable/indexing.html#indexing-view-versus-copy\n",
      "  This is separate from the ipykernel package so we can avoid doing imports until\n"
     ]
    }
   ],
   "source": [
    "# 3. Convert to lower case\n",
    "\n",
    "apps_df['app_desc'] = apps_df['app_desc'].str.lower()"
   ]
  },
  {
   "cell_type": "code",
   "execution_count": null,
   "metadata": {},
   "outputs": [],
   "source": [
    "apps_df.head(25)"
   ]
  },
  {
   "cell_type": "code",
   "execution_count": 19,
   "metadata": {},
   "outputs": [],
   "source": [
    "# 4: Tokenization\n",
    "# 5: Removing stop words\n",
    "# 6. Stemming\n",
    "\n",
    "import nltk\n",
    "from nltk.corpus import stopwords\n",
    "from nltk.tokenize import word_tokenize\n",
    "from nltk.stem.snowball import SnowballStemmer\n",
    "\n",
    "stemmer = SnowballStemmer('english')\n",
    "stop_words = set(stopwords.words('english'))\n",
    "\n",
    "def wordfilter(string,filtwords):\n",
    "    filtered=[]\n",
    "    tokens=word_tokenize(string)\n",
    "    for word in tokens:\n",
    "        if word not in filtwords:\n",
    "            filtered.append(stemmer.stem(word))\n",
    "    return filtered"
   ]
  },
  {
   "cell_type": "code",
   "execution_count": 20,
   "metadata": {},
   "outputs": [
    {
     "name": "stderr",
     "output_type": "stream",
     "text": [
      "C:\\Users\\athiq.ahmed\\AppData2\\Local\\Continuum\\anaconda3\\lib\\site-packages\\ipykernel_launcher.py:4: SettingWithCopyWarning: \n",
      "A value is trying to be set on a copy of a slice from a DataFrame.\n",
      "Try using .loc[row_indexer,col_indexer] = value instead\n",
      "\n",
      "See the caveats in the documentation: http://pandas.pydata.org/pandas-docs/stable/indexing.html#indexing-view-versus-copy\n",
      "  after removing the cwd from sys.path.\n"
     ]
    }
   ],
   "source": [
    "# import nltk\n",
    "# nltk.download('punkt')\n",
    "\n",
    "apps_df['filtered'] =''\n",
    "\n",
    "for item,row in apps_df.iterrows():\n",
    "    apps_df.at[item, 'filtered'] = wordfilter(row['app_desc'],stop_words)"
   ]
  },
  {
   "cell_type": "code",
   "execution_count": null,
   "metadata": {},
   "outputs": [],
   "source": [
    "apps_df.head(25)"
   ]
  },
  {
   "cell_type": "code",
   "execution_count": 45,
   "metadata": {},
   "outputs": [
    {
     "data": {
      "text/plain": [
       "array(['Games', 'Productivity', 'Weather', 'Shopping', 'Reference',\n",
       "       'Finance', 'Music', 'Utilities', 'Travel', 'Social Networking',\n",
       "       'Sports', 'Business', 'Health & Fitness', 'Entertainment',\n",
       "       'Photo & Video', 'Navigation', 'Education', 'Lifestyle',\n",
       "       'Food & Drink', 'News', 'Book', 'Medical', 'Catalogs'],\n",
       "      dtype=object)"
      ]
     },
     "execution_count": 45,
     "metadata": {},
     "output_type": "execute_result"
    }
   ],
   "source": [
    "apps_df['prime_genre'].unique()"
   ]
  },
  {
   "cell_type": "code",
   "execution_count": 55,
   "metadata": {},
   "outputs": [
    {
     "data": {
      "image/png": "[encoded data removed]",
      "text/plain": [
       "<Figure size 864x288 with 1 Axes>"
      ]
     },
     "metadata": {},
     "output_type": "display_data"
    }
   ],
   "source": [
    "ax = apps_df['desc_lang'].value_counts().plot(kind='bar',figsize=(12,4),color='indigo')\n",
    "ax.set_title('Percenatage of contribution by desc language', fontsize = 30)\n",
    "ax.set_xlabel('desc_lang', fontsize = 20)\n",
    "ax.set_ylabel('count', fontsize = 20)\n",
    "\n",
    "# create a list to collect the plt.patches data\n",
    "totals = []\n",
    "\n",
    "# find the values and append to list\n",
    "for i in ax.patches:\n",
    "    totals.append(i.get_height())\n",
    "\n",
    "    # set individual bar lables using above list\n",
    "total = sum(totals)\n",
    "for i in ax.patches:\n",
    "    # get_x pulls left or right; get_height pushes up or down\n",
    "    ax.text(i.get_x()-.1, i.get_height()+.1,str(round((i.get_height()/total)*100, 2))+'%', fontsize=15,color='dimgrey')"
   ]
  },
  {
   "cell_type": "code",
   "execution_count": null,
   "metadata": {},
   "outputs": [],
   "source": [
    "# 7. Analysis\n",
    "\n",
    "# 7.1 word cloud generation\n",
    "\n",
    "def get_group(df,column,label):\n",
    "    return df.groupby(column).get_group(label)\n",
    "\n",
    "def get_corpus(group):\n",
    "    corpus =''\n",
    "    for item, row in group.iterrows():\n",
    "        line = (' ').join(row['filtered'])\n",
    "        corpus = corpus + ' ' + line\n",
    "    return corpus\n",
    "\n",
    "genres = list(apps_df['prime_genre'].unique())\n",
    "desc_lib = dict.fromkeys(genres)\n",
    "\n",
    "for genre in genres:\n",
    "    desc_lib[genre] = get_corpus(get_group(apps_df,'prime_genre',genre))\n",
    "\n",
    "desc_lib['Games'[:10]]"
   ]
  },
  {
   "cell_type": "code",
   "execution_count": 22,
   "metadata": {},
   "outputs": [
    {
     "data": {
      "text/plain": [
       "{'Games': ' save limit timeon popular video game arcad histori world video game hall fame inducteewho forget countless hour quarter spent outrun peski ghost chompin dot arcad excit mobil devic guid pacman maze easi swipe control mfi control kick old school onscreen joystickeat dot advanc next stage go high score higher level gain extra life point gobbl power pellet weaken ghost temporarili eat chang back avoid blinki leader ghost fellow ghost pinki inki clyde lose life game lose live new maze includedth game includ new maze addit pixel pixel recreat classic origin maze challeng skill beat constant updat game new maze pack buy complet pacman collectionhint tipsinsid protip hint made avail first time ingam use help becom pacman championfeatur new tournament new visual hint protip new maze new challeng play arcad perfect port classic pacman two differ control mode three game difficulti includ origin arcad game retina display support mfi control support'}"
      ]
     },
     "execution_count": 22,
     "metadata": {},
     "output_type": "execute_result"
    }
   ],
   "source": [
    "# Breakup\n",
    "\n",
    "apps_df.groupby('prime_genre').get_group('News')\n",
    "# get_group(apps_df,'prime_genre',genre)\n",
    "\n",
    "genres = list(apps_df['prime_genre'].unique());genres\n",
    "desc_lib = dict.fromkeys(genres);desc_lib\n",
    "\n",
    "test = apps_df.head(2);test\n",
    "genres = list(test['prime_genre'].unique());genres\n",
    "genres = genres[0:1];genres\n",
    "desc_lib = dict.fromkeys(genres);desc_lib\n",
    "\n",
    "for genre in genres:\n",
    "    desc_lib[genre] = get_corpus(get_group(test,'prime_genre',genre))\n",
    "    \n",
    "desc_lib\n",
    "\n",
    "# pd.set_option('display.max_colwidth', 50) # default\n",
    "# # pd.set_option('display.max_colwidth', -1)\n",
    "\n",
    "# test['filtered']"
   ]
  },
  {
   "cell_type": "code",
   "execution_count": 255,
   "metadata": {},
   "outputs": [
    {
     "data": {
      "text/plain": [
       "(7151, 19)"
      ]
     },
     "execution_count": 255,
     "metadata": {},
     "output_type": "execute_result"
    }
   ],
   "source": [
    "apps_df.shape"
   ]
  },
  {
   "cell_type": "code",
   "execution_count": 195,
   "metadata": {},
   "outputs": [
    {
     "data": {
      "text/plain": [
       "['Games']"
      ]
     },
     "execution_count": 195,
     "metadata": {},
     "output_type": "execute_result"
    }
   ],
   "source": [
    "genres"
   ]
  },
  {
   "cell_type": "code",
   "execution_count": 23,
   "metadata": {},
   "outputs": [
    {
     "data": {
      "text/plain": [
       "{'Games': ' save limit timeon popular video game arcad histori world video game hall fame inducteewho forget countless hour quarter spent outrun peski ghost chompin dot arcad excit mobil devic guid pacman maze easi swipe control mfi control kick old school onscreen joystickeat dot advanc next stage go high score higher level gain extra life point gobbl power pellet weaken ghost temporarili eat chang back avoid blinki leader ghost fellow ghost pinki inki clyde lose life game lose live new maze includedth game includ new maze addit pixel pixel recreat classic origin maze challeng skill beat constant updat game new maze pack buy complet pacman collectionhint tipsinsid protip hint made avail first time ingam use help becom pacman championfeatur new tournament new visual hint protip new maze new challeng play arcad perfect port classic pacman two differ control mode three game difficulti includ origin arcad game retina display support mfi control support'}"
      ]
     },
     "execution_count": 23,
     "metadata": {},
     "output_type": "execute_result"
    }
   ],
   "source": [
    "desc_lib"
   ]
  },
  {
   "cell_type": "code",
   "execution_count": 139,
   "metadata": {},
   "outputs": [
    {
     "name": "stdout",
     "output_type": "stream",
     "text": [
      "Games 952\n"
     ]
    }
   ],
   "source": [
    "for x in desc_lib:\n",
    "    print(x,len(desc_lib[x]))"
   ]
  },
  {
   "cell_type": "code",
   "execution_count": 197,
   "metadata": {},
   "outputs": [
    {
     "name": "stdout",
     "output_type": "stream",
     "text": [
      "Games ['addit' 'advanc' 'arcad' 'avail' 'avoid' 'beat' 'becom' 'blinki' 'buy'\n",
      " 'challeng' 'championfeatur' 'chang' 'chompin' 'classic' 'clyde'\n",
      " 'collectionhint' 'complet' 'constant' 'control' 'countless' 'devic'\n",
      " 'differ' 'difficulti' 'display' 'dot' 'easi' 'eat' 'excit' 'extra' 'fame'\n",
      " 'fellow' 'forget' 'gain' 'game' 'ghost' 'gobbl' 'guid' 'hall' 'help'\n",
      " 'high' 'higher' 'hint' 'histori' 'hour' 'includ' 'includedth'\n",
      " 'inducteewho' 'ingam' 'inki' 'joystickeat' 'kick' 'leader' 'level' 'life'\n",
      " 'limit' 'live' 'lose' 'maze' 'mfi' 'mobil' 'mode' 'new' 'old' 'onscreen'\n",
      " 'origin' 'outrun' 'pack' 'pacman' 'pellet' 'perfect' 'peski' 'pinki'\n",
      " 'pixel' 'play' 'point' 'popular' 'port' 'power' 'protip' 'quarter'\n",
      " 'recreat' 'retina' 'save' 'school' 'score' 'skill' 'spent' 'stage'\n",
      " 'support' 'swipe' 'temporarili' 'time' 'timeon' 'tipsinsid' 'tournament'\n",
      " 'updat' 'use' 'video' 'visual' 'weaken']\n"
     ]
    }
   ],
   "source": [
    "# Generating dictionary of corpus\n",
    "\n",
    "import numpy as np\n",
    "from sklearn.feature_extraction.text import CountVectorizer, TfidfVectorizer\n",
    "\n",
    "cv = CountVectorizer(min_df=0,stop_words='english',max_features=100)\n",
    "genre_counts=dict.fromkeys(genres)\n",
    "genre_words=dict.fromkeys(genres)\n",
    "\n",
    "for genre in genres:\n",
    "    genre_counts[genre] = cv.fit_transform([desc_lib[genre]]).toarray().ravel()\n",
    "    genre_words[genre] = np.array(cv.get_feature_names())\n",
    "    genre_counts[genre] = genre_counts[genre]/float(genre_counts[genre].max())\n",
    "    genre_counts[genre]\n",
    "    print(genre, genre_words[genre])"
   ]
  },
  {
   "cell_type": "code",
   "execution_count": 198,
   "metadata": {},
   "outputs": [
    {
     "data": {
      "text/plain": [
       "{'Games': array([0.14285714, 0.14285714, 0.57142857, 0.14285714, 0.14285714,\n",
       "        0.14285714, 0.14285714, 0.14285714, 0.14285714, 0.28571429,\n",
       "        0.14285714, 0.14285714, 0.14285714, 0.28571429, 0.14285714,\n",
       "        0.14285714, 0.14285714, 0.14285714, 0.57142857, 0.14285714,\n",
       "        0.14285714, 0.14285714, 0.14285714, 0.14285714, 0.28571429,\n",
       "        0.14285714, 0.14285714, 0.14285714, 0.14285714, 0.14285714,\n",
       "        0.14285714, 0.14285714, 0.14285714, 1.        , 0.57142857,\n",
       "        0.14285714, 0.14285714, 0.14285714, 0.14285714, 0.14285714,\n",
       "        0.14285714, 0.28571429, 0.14285714, 0.14285714, 0.28571429,\n",
       "        0.14285714, 0.14285714, 0.14285714, 0.14285714, 0.14285714,\n",
       "        0.14285714, 0.14285714, 0.14285714, 0.28571429, 0.14285714,\n",
       "        0.14285714, 0.28571429, 0.85714286, 0.28571429, 0.14285714,\n",
       "        0.14285714, 1.        , 0.14285714, 0.14285714, 0.28571429,\n",
       "        0.14285714, 0.14285714, 0.57142857, 0.14285714, 0.14285714,\n",
       "        0.14285714, 0.14285714, 0.28571429, 0.14285714, 0.14285714,\n",
       "        0.14285714, 0.14285714, 0.14285714, 0.28571429, 0.14285714,\n",
       "        0.14285714, 0.14285714, 0.14285714, 0.14285714, 0.14285714,\n",
       "        0.14285714, 0.14285714, 0.14285714, 0.28571429, 0.14285714,\n",
       "        0.14285714, 0.14285714, 0.14285714, 0.14285714, 0.14285714,\n",
       "        0.14285714, 0.14285714, 0.28571429, 0.14285714, 0.14285714])}"
      ]
     },
     "execution_count": 198,
     "metadata": {},
     "output_type": "execute_result"
    }
   ],
   "source": [
    "genre_counts"
   ]
  },
  {
   "cell_type": "code",
   "execution_count": 159,
   "metadata": {},
   "outputs": [
    {
     "name": "stdout",
     "output_type": "stream",
     "text": [
      "['addit', 'advanc', 'arcad', 'avail', 'avoid', 'beat', 'becom', 'blinki', 'buy', 'challeng', 'championfeatur', 'chang', 'chompin', 'classic', 'clyde', 'collectionhint', 'complet', 'constant', 'control', 'countless', 'devic', 'differ', 'difficulti', 'display', 'dot', 'easi', 'eat', 'excit', 'extra', 'fame', 'fellow', 'forget', 'gain', 'game', 'ghost', 'gobbl', 'guid', 'hall', 'help', 'high', 'higher', 'hint', 'histori', 'hour', 'includ', 'includedth', 'inducteewho', 'ingam', 'inki', 'joystickeat', 'kick', 'leader', 'level', 'life', 'limit', 'live', 'lose', 'maze', 'mfi', 'mobil', 'mode', 'new', 'old', 'onscreen', 'origin', 'outrun', 'pack', 'pacman', 'pellet', 'perfect', 'peski', 'pinki', 'pixel', 'play', 'point', 'popular', 'port', 'power', 'protip', 'quarter', 'recreat', 'retina', 'save', 'school', 'score', 'skill', 'spent', 'stage', 'support', 'swipe', 'temporarili', 'time', 'timeon', 'tipsinsid', 'tournament', 'updat', 'use', 'video', 'visual', 'weaken']\n"
     ]
    }
   ],
   "source": [
    "print(cv.get_feature_names())"
   ]
  },
  {
   "cell_type": "code",
   "execution_count": 160,
   "metadata": {},
   "outputs": [
    {
     "name": "stdout",
     "output_type": "stream",
     "text": [
      "Wordcloud for genre: Games\n"
     ]
    },
    {
     "data": {
      "image/png": "[encoded data removed]",
      "text/plain": [
       "<Figure size 432x288 with 1 Axes>"
      ]
     },
     "metadata": {},
     "output_type": "display_data"
    }
   ],
   "source": [
    "# pd.set_option('display.max_colwidth', 500) # default\n",
    "# pd.set_option('display.max_rows', 5000)\n",
    "# pd.set_option('display.max_columns', 500)\n",
    "# pd.set_option('display.width', 1000)\n",
    "\n",
    "# pd.reset_option('max_rows')\n",
    "# pd.reset_option('max_columns')\n",
    "# pd.reset_option('max_colwidth')\n",
    "# pd.reset_option('width')\n",
    "\n",
    "from wordcloud import WordCloud\n",
    "for genre in genres:\n",
    "    print('Wordcloud for genre: ' + genre)\n",
    "    wordcloud = WordCloud().generate(desc_lib[genre])\n",
    "    plt.imshow(wordcloud, interpolation = 'bilinear')\n",
    "    plt.axis('off')\n",
    "    plt.show()"
   ]
  },
  {
   "cell_type": "markdown",
   "metadata": {},
   "source": [
    "##### 7.2 Lexical diversity"
   ]
  },
  {
   "cell_type": "code",
   "execution_count": 260,
   "metadata": {},
   "outputs": [],
   "source": [
    "apps_df = apps_df.drop(['lex_score','sentiment'],axis=1)"
   ]
  },
  {
   "cell_type": "code",
   "execution_count": null,
   "metadata": {},
   "outputs": [],
   "source": [
    "apps_df.columns"
   ]
  },
  {
   "cell_type": "code",
   "execution_count": null,
   "metadata": {},
   "outputs": [],
   "source": [
    "apps_df['lex_score'] = ''\n",
    "apps_df['sentiment'] =''    "
   ]
  },
  {
   "cell_type": "code",
   "execution_count": null,
   "metadata": {},
   "outputs": [],
   "source": [
    "apps_df.columns"
   ]
  },
  {
   "cell_type": "code",
   "execution_count": null,
   "metadata": {},
   "outputs": [],
   "source": [
    "apps_df.dtypes"
   ]
  },
  {
   "cell_type": "code",
   "execution_count": null,
   "metadata": {},
   "outputs": [],
   "source": [
    "for item,rows in apps_df.iterrows():\n",
    "    apps_df.at[item,'lex_score'] = float(len(set(row['filtered']))*1.0/len(row['filtered'])*1.0)\n",
    "#     apps_df.at[item, 'lex_score'] = float(len(set(row['filtered']))/len(row['filtered']))\n",
    "# apps_df['lex_score'] = apps_df['lex_score'].astype(float)\n",
    "# apps_df.dtypes"
   ]
  },
  {
   "cell_type": "code",
   "execution_count": null,
   "metadata": {},
   "outputs": [],
   "source": [
    "test= apps_df[:15];test"
   ]
  },
  {
   "cell_type": "code",
   "execution_count": null,
   "metadata": {},
   "outputs": [],
   "source": [
    "for item,rows in test.iterrows():\n",
    "    print(item)\n",
    "    print(rows)\n",
    "    print(float(len(set(row['filtered']))))\n",
    "    print('*'*122)"
   ]
  },
  {
   "cell_type": "code",
   "execution_count": null,
   "metadata": {},
   "outputs": [],
   "source": []
  },
  {
   "cell_type": "code",
   "execution_count": null,
   "metadata": {},
   "outputs": [],
   "source": []
  },
  {
   "cell_type": "code",
   "execution_count": null,
   "metadata": {},
   "outputs": [],
   "source": []
  },
  {
   "cell_type": "code",
   "execution_count": null,
   "metadata": {},
   "outputs": [],
   "source": []
  },
  {
   "cell_type": "code",
   "execution_count": null,
   "metadata": {},
   "outputs": [],
   "source": []
  },
  {
   "cell_type": "code",
   "execution_count": null,
   "metadata": {},
   "outputs": [],
   "source": []
  },
  {
   "cell_type": "code",
   "execution_count": null,
   "metadata": {},
   "outputs": [],
   "source": [
    "apps_df.head(25)"
   ]
  },
  {
   "cell_type": "code",
   "execution_count": null,
   "metadata": {},
   "outputs": [],
   "source": [
    "lex_means = apps_df.groupby('prime_genre')['lex_score'].mean()\n",
    "lex_means\n",
    "\n",
    "plt.figure(figsize = (30,10))\n",
    "ax = sb.barplot(x = lex_means.index, y = lex_means.values)\n",
    "ax.set_ylim(lex_means.values.min() - 0.025,0.8)\n",
    "ax.set_title('Average Lexical Diversity Scores Across Genres', fontsize = 30)\n",
    "ax.set_ylabel('Lexical Diversity Score', fontsize = 20)\n",
    "ax.set_xlabel('Genre of App', fontsize = 20)\n",
    "\n",
    "for p, label in zip(ax.patches, lex_means.values):\n",
    "    ax.annotate((\"%.2f\" % round(label,2)), (p.get_x()+0.15, p.get_height()+0.005), fontsize = 15)"
   ]
  },
  {
   "cell_type": "markdown",
   "metadata": {},
   "source": [
    "##### 7.3 Sentiment analysis"
   ]
  },
  {
   "cell_type": "code",
   "execution_count": 190,
   "metadata": {},
   "outputs": [],
   "source": [
    "# df.drop(['B', 'C'], axis=1)\n",
    "\n",
    "apps_df = apps_df.drop(['sentiment'], axis=1)"
   ]
  },
  {
   "cell_type": "code",
   "execution_count": null,
   "metadata": {},
   "outputs": [],
   "source": [
    "apps_df.head(25)"
   ]
  },
  {
   "cell_type": "code",
   "execution_count": 178,
   "metadata": {},
   "outputs": [],
   "source": [
    "# apps_df['sentiment'] = ''"
   ]
  },
  {
   "cell_type": "code",
   "execution_count": null,
   "metadata": {},
   "outputs": [],
   "source": [
    "apps_df.dtypes"
   ]
  },
  {
   "cell_type": "code",
   "execution_count": 30,
   "metadata": {},
   "outputs": [
    {
     "name": "stderr",
     "output_type": "stream",
     "text": [
      "C:\\Users\\athiq.ahmed\\AppData2\\Local\\Continuum\\anaconda3\\lib\\site-packages\\pandas\\core\\frame.py:2584: SettingWithCopyWarning: \n",
      "A value is trying to be set on a copy of a slice from a DataFrame\n",
      "\n",
      "See the caveats in the documentation: http://pandas.pydata.org/pandas-docs/stable/indexing.html#indexing-view-versus-copy\n",
      "  self.loc[index, col] = value\n"
     ]
    }
   ],
   "source": [
    "# !pip install textblob\n",
    "\n",
    "from textblob import TextBlob\n",
    "for item, row in apps_df.iterrows():\n",
    "    blob = TextBlob(row['app_desc'])\n",
    "    pol = blob.sentiment.polarity\n",
    "#     apps_df.at['item', 'sentiment'] = pol\n",
    "    apps_df.at['item', 'sentiment'] = float(pol)"
   ]
  },
  {
   "cell_type": "code",
   "execution_count": null,
   "metadata": {},
   "outputs": [],
   "source": [
    "apps_df.head(25)"
   ]
  },
  {
   "cell_type": "code",
   "execution_count": null,
   "metadata": {},
   "outputs": [],
   "source": [
    "apps_df['sentiment'] = apps_df['sentiment'].astype(float)"
   ]
  },
  {
   "cell_type": "code",
   "execution_count": null,
   "metadata": {},
   "outputs": [],
   "source": []
  },
  {
   "cell_type": "code",
   "execution_count": null,
   "metadata": {},
   "outputs": [],
   "source": []
  },
  {
   "cell_type": "code",
   "execution_count": null,
   "metadata": {},
   "outputs": [],
   "source": []
  },
  {
   "cell_type": "code",
   "execution_count": null,
   "metadata": {},
   "outputs": [],
   "source": []
  },
  {
   "cell_type": "code",
   "execution_count": null,
   "metadata": {},
   "outputs": [],
   "source": []
  },
  {
   "cell_type": "code",
   "execution_count": null,
   "metadata": {},
   "outputs": [],
   "source": []
  },
  {
   "cell_type": "code",
   "execution_count": null,
   "metadata": {},
   "outputs": [],
   "source": []
  },
  {
   "cell_type": "code",
   "execution_count": null,
   "metadata": {},
   "outputs": [],
   "source": []
  },
  {
   "cell_type": "code",
   "execution_count": null,
   "metadata": {},
   "outputs": [],
   "source": []
  },
  {
   "cell_type": "code",
   "execution_count": null,
   "metadata": {},
   "outputs": [],
   "source": []
  },
  {
   "cell_type": "code",
   "execution_count": null,
   "metadata": {},
   "outputs": [],
   "source": []
  },
  {
   "cell_type": "code",
   "execution_count": null,
   "metadata": {},
   "outputs": [],
   "source": []
  },
  {
   "cell_type": "markdown",
   "metadata": {},
   "source": [
    "https://towardsdatascience.com/what-app-descriptions-tell-us-text-data-preprocessing-in-python-afc7ed88360d"
   ]
  }
 ],
 "metadata": {
  "kernelspec": {
   "display_name": "Python 3",
   "language": "python",
   "name": "python3"
  },
  "language_info": {
   "codemirror_mode": {
    "name": "ipython",
    "version": 3
   },
   "file_extension": ".py",
   "mimetype": "text/x-python",
   "name": "python",
   "nbconvert_exporter": "python",
   "pygments_lexer": "ipython3",
   "version": "3.6.5"
  }
 },
 "nbformat": 4,
 "nbformat_minor": 2
}
